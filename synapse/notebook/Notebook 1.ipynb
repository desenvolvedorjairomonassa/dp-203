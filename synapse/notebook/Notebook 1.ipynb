{
  "nbformat": 4,
  "nbformat_minor": 2,
  "cells": [
    {
      "cell_type": "code",
      "execution_count": 1,
      "outputs": [
        {
          "output_type": "display_data",
          "data": {
            "application/vnd.livy.statement-meta+json": {
              "spark_pool": "sparkpool2",
              "session_id": "2",
              "statement_id": 2,
              "state": "finished",
              "livy_statement_state": "available",
              "queued_time": "2022-09-28T09:38:43.5460988Z",
              "session_start_time": "2022-09-28T09:38:43.5777012Z",
              "execution_start_time": "2022-09-28T09:42:33.1750616Z",
              "execution_finish_time": "2022-09-28T09:43:15.1678785Z",
              "spark_jobs": null
            },
            "text/plain": "StatementMeta(sparkpool2, 2, 2, Finished, Available)"
          },
          "metadata": {}
        },
        {
          "output_type": "display_data",
          "data": {
            "application/vnd.synapse.widget-view+json": {
              "widget_id": "0ce3eed8-d4fb-49f8-8f25-3e2a18f1f7c8",
              "widget_type": "Synapse.DataFrame"
            },
            "text/plain": "SynapseWidget(Synapse.DataFrame, 0ce3eed8-d4fb-49f8-8f25-3e2a18f1f7c8)"
          },
          "metadata": {}
        }
      ],
      "metadata": {
        "microsoft": {
          "language": "python"
        },
        "collapsed": false
      },
      "source": [
        "%%pyspark\r\n",
        "df = spark.read.load('abfss://wwi-02@asadatalake1xtr2e3.dfs.core.windows.net/sale-small/Year=2016/Quarter=Q4/Month=12/Day=20161231/sale-small-20161231-snappy.parquet', format='parquet')\r\n",
        "display(df.limit(10))"
      ]
    },
    {
      "cell_type": "code",
      "execution_count": 2,
      "outputs": [
        {
          "output_type": "display_data",
          "data": {
            "application/vnd.livy.statement-meta+json": {
              "spark_pool": "sparkpool2",
              "session_id": "2",
              "statement_id": 3,
              "state": "finished",
              "livy_statement_state": "available",
              "queued_time": "2022-09-28T09:43:28.4945786Z",
              "session_start_time": null,
              "execution_start_time": "2022-09-28T09:43:28.6349695Z",
              "execution_finish_time": "2022-09-28T09:43:34.098424Z",
              "spark_jobs": null
            },
            "text/plain": "StatementMeta(sparkpool2, 2, 3, Finished, Available)"
          },
          "metadata": {}
        }
      ],
      "metadata": {
        "jupyter": {
          "source_hidden": false,
          "outputs_hidden": false
        },
        "nteract": {
          "transient": {
            "deleting": false
          }
        }
      },
      "source": [
        "df.write.parquet('abfss://wwi-02@asadatalake1xtr2e3.dfs.core.windows.net/sale-small/Year=2016/Quarter=Q4/Month=12/Day=20161231/sale-small-20161231-snappy-test.parquet')"
      ]
    }
  ],
  "metadata": {
    "save_output": true,
    "kernelspec": {
      "name": "synapse_pyspark",
      "display_name": "Synapse PySpark"
    },
    "language_info": {
      "name": "python"
    },
    "synapse_widget": {
      "version": "0.1",
      "state": {
        "0ce3eed8-d4fb-49f8-8f25-3e2a18f1f7c8": {
          "type": "Synapse.DataFrame",
          "sync_state": {
            "table": {
              "rows": [
                {
                  "0": "3e280434-9d5f-4245-8601-84cee1f34c2d",
                  "1": "102449",
                  "2": "3173",
                  "3": 2,
                  "4": "26.470000000000000000",
                  "5": "52.940000000000000000",
                  "6": "20100102",
                  "7": "19.480000000000000000",
                  "8": 4,
                  "9": 54,
                  "10": "1021"
                },
                {
                  "0": "3e280434-9d5f-4245-8601-84cee1f34c2d",
                  "1": "102449",
                  "2": "2686",
                  "3": 1,
                  "4": "21.460000000000000000",
                  "5": "21.460000000000000000",
                  "6": "20100102",
                  "7": "6.010000000000000000",
                  "8": 4,
                  "9": 54,
                  "10": "1021"
                },
                {
                  "0": "3e280434-9d5f-4245-8601-84cee1f34c2d",
                  "1": "102449",
                  "2": "2335",
                  "3": 3,
                  "4": "16.650000000000000000",
                  "5": "49.950000000000000000",
                  "6": "20100102",
                  "7": "13.830000000000000000",
                  "8": 4,
                  "9": 54,
                  "10": "1021"
                },
                {
                  "0": "3e280434-9d5f-4245-8601-84cee1f34c2d",
                  "1": "102449",
                  "2": "337",
                  "3": 3,
                  "4": "24.180000000000000000",
                  "5": "72.540000000000000000",
                  "6": "20100102",
                  "7": "22.200000000000000000",
                  "8": 4,
                  "9": 54,
                  "10": "1021"
                },
                {
                  "0": "3e280434-9d5f-4245-8601-84cee1f34c2d",
                  "1": "102449",
                  "2": "1706",
                  "3": 4,
                  "4": "19.220000000000000000",
                  "5": "76.880000000000000000",
                  "6": "20100102",
                  "7": "20.200000000000000000",
                  "8": 4,
                  "9": 54,
                  "10": "1021"
                },
                {
                  "0": "3e280434-9d5f-4245-8601-84cee1f34c2d",
                  "1": "102449",
                  "2": "2388",
                  "3": 2,
                  "4": "25.920000000000000000",
                  "5": "51.840000000000000000",
                  "6": "20100102",
                  "7": "19.080000000000000000",
                  "8": 4,
                  "9": 54,
                  "10": "1021"
                },
                {
                  "0": "3e280434-9d5f-4245-8601-84cee1f34c2d",
                  "1": "102449",
                  "2": "7",
                  "3": 4,
                  "4": "21.440000000000000000",
                  "5": "85.760000000000000000",
                  "6": "20100102",
                  "7": "28.320000000000000000",
                  "8": 4,
                  "9": 54,
                  "10": "1021"
                },
                {
                  "0": "3e280434-9d5f-4245-8601-84cee1f34c2d",
                  "1": "102449",
                  "2": "78",
                  "3": 4,
                  "4": "29.420000000000000000",
                  "5": "117.680000000000000000",
                  "6": "20100102",
                  "7": "38.840000000000000000",
                  "8": 4,
                  "9": 54,
                  "10": "1021"
                },
                {
                  "0": "3e280434-9d5f-4245-8601-84cee1f34c2d",
                  "1": "102449",
                  "2": "171",
                  "3": 3,
                  "4": "24.500000000000000000",
                  "5": "73.500000000000000000",
                  "6": "20100102",
                  "7": "24.930000000000000000",
                  "8": 4,
                  "9": 54,
                  "10": "1021"
                },
                {
                  "0": "e3f79ed3-dd26-429c-b2bc-11fa4ffd8604",
                  "1": "519400",
                  "2": "1847",
                  "3": 1,
                  "4": "23.150000000000000000",
                  "5": "23.150000000000000000",
                  "6": "20100102",
                  "7": "6.470000000000000000",
                  "8": 3,
                  "9": 49,
                  "10": "6321"
                }
              ],
              "schema": [
                {
                  "key": "0",
                  "name": "TransactionId",
                  "type": "string"
                },
                {
                  "key": "1",
                  "name": "CustomerId",
                  "type": "int"
                },
                {
                  "key": "2",
                  "name": "ProductId",
                  "type": "smallint"
                },
                {
                  "key": "3",
                  "name": "Quantity",
                  "type": "tinyint"
                },
                {
                  "key": "4",
                  "name": "Price",
                  "type": "decimal"
                },
                {
                  "key": "5",
                  "name": "TotalAmount",
                  "type": "decimal"
                },
                {
                  "key": "6",
                  "name": "TransactionDate",
                  "type": "int"
                },
                {
                  "key": "7",
                  "name": "ProfitAmount",
                  "type": "decimal"
                },
                {
                  "key": "8",
                  "name": "Hour",
                  "type": "tinyint"
                },
                {
                  "key": "9",
                  "name": "Minute",
                  "type": "tinyint"
                },
                {
                  "key": "10",
                  "name": "StoreId",
                  "type": "smallint"
                }
              ],
              "truncated": false
            },
            "isSummary": false,
            "language": "scala"
          },
          "persist_state": {
            "view": {
              "type": "details",
              "tableOptions": {},
              "chartOptions": {
                "chartType": "bar",
                "aggregationType": "sum",
                "categoryFieldKeys": [
                  "0"
                ],
                "seriesFieldKeys": [
                  "1"
                ],
                "isStacked": false
              }
            }
          }
        }
      }
    }
  }
}