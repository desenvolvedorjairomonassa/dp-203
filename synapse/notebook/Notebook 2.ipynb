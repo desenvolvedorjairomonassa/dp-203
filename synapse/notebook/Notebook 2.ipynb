{
  "cells": [
    {
      "cell_type": "code",
      "source": [
        "%%pyspark\r\n",
        "df = spark.read.load('abfss://wwi-02@asadatalake1xtr2e3.dfs.core.windows.net/sale-small/Year=2019/Quarter=Q4/Month=12/Day=20191231/sale-small-20191231-snappy.parquet', format='parquet')\r\n",
        "display(df.limit(10))"
      ],
      "outputs": [
        {
          "output_type": "display_data",
          "data": {
            "application/vnd.livy.statement-meta+json": {
              "spark_pool": "sparkpool2",
              "session_id": "4",
              "statement_id": 2,
              "state": "finished",
              "livy_statement_state": "available",
              "queued_time": "2022-09-28T19:21:04.8361216Z",
              "session_start_time": "2022-09-28T19:21:04.8705768Z",
              "execution_start_time": "2022-09-28T19:22:08.5899677Z",
              "execution_finish_time": "2022-09-28T19:22:42.1144689Z",
              "spark_jobs": null
            },
            "text/plain": "StatementMeta(sparkpool2, 4, 2, Finished, Available)"
          },
          "metadata": {}
        },
        {
          "output_type": "display_data",
          "data": {
            "application/vnd.synapse.widget-view+json": {
              "widget_id": "50442521-ed86-4f4f-a286-ab964da0d00c",
              "widget_type": "Synapse.DataFrame"
            },
            "text/plain": "SynapseWidget(Synapse.DataFrame, 50442521-ed86-4f4f-a286-ab964da0d00c)"
          },
          "metadata": {}
        }
      ],
      "execution_count": 1,
      "metadata": {
        "microsoft": {
          "language": "python"
        },
        "collapsed": false
      }
    },
    {
      "cell_type": "code",
      "source": [
        "datalake = 'asadatalake1xtr2e3'"
      ],
      "outputs": [
        {
          "output_type": "display_data",
          "data": {
            "application/vnd.livy.statement-meta+json": {
              "spark_pool": "sparkpool2",
              "session_id": "4",
              "statement_id": 3,
              "state": "finished",
              "livy_statement_state": "available",
              "queued_time": "2022-09-28T19:27:37.0680028Z",
              "session_start_time": null,
              "execution_start_time": "2022-09-28T19:27:37.2230409Z",
              "execution_finish_time": "2022-09-28T19:27:37.4719421Z",
              "spark_jobs": null
            },
            "text/plain": "StatementMeta(sparkpool2, 4, 3, Finished, Available)"
          },
          "metadata": {}
        }
      ],
      "execution_count": 2,
      "metadata": {
        "jupyter": {
          "source_hidden": false,
          "outputs_hidden": false
        },
        "nteract": {
          "transient": {
            "deleting": false
          }
        }
      }
    },
    {
      "cell_type": "code",
      "source": [
        "df.printSchema()"
      ],
      "outputs": [
        {
          "output_type": "display_data",
          "data": {
            "application/vnd.livy.statement-meta+json": {
              "spark_pool": "sparkpool2",
              "session_id": "4",
              "statement_id": 4,
              "state": "finished",
              "livy_statement_state": "available",
              "queued_time": "2022-09-28T19:29:46.5827507Z",
              "session_start_time": null,
              "execution_start_time": "2022-09-28T19:29:46.7257058Z",
              "execution_finish_time": "2022-09-28T19:29:46.9251326Z",
              "spark_jobs": null
            },
            "text/plain": "StatementMeta(sparkpool2, 4, 4, Finished, Available)"
          },
          "metadata": {}
        },
        {
          "output_type": "stream",
          "name": "stdout",
          "text": [
            "root\n |-- TransactionId: string (nullable = true)\n |-- CustomerId: integer (nullable = true)\n |-- ProductId: short (nullable = true)\n |-- Quantity: byte (nullable = true)\n |-- Price: decimal(38,18) (nullable = true)\n |-- TotalAmount: decimal(38,18) (nullable = true)\n |-- TransactionDate: integer (nullable = true)\n |-- ProfitAmount: decimal(38,18) (nullable = true)\n |-- Hour: byte (nullable = true)\n |-- Minute: byte (nullable = true)\n |-- StoreId: short (nullable = true)\n\n"
          ]
        }
      ],
      "execution_count": 3,
      "metadata": {
        "jupyter": {
          "source_hidden": false,
          "outputs_hidden": false
        },
        "nteract": {
          "transient": {
            "deleting": false
          }
        }
      }
    },
    {
      "cell_type": "code",
      "source": [
        "from pyspark.sql import SparkSession\r\n",
        "from pyspark.sql.types import *\r\n",
        "from pyspark.sql.functions import *\r\n",
        "\r\n",
        "profitByDateProduct = (df.groupBy(\"TransactionDate\",\"ProductId\")\r\n",
        "    .agg(\r\n",
        "        sum(\"ProfitAmount\").alias(\"(sum)ProfitAmount\"),\r\n",
        "        round(avg(\"Quantity\"), 4).alias(\"(avg)Quantity\"),\r\n",
        "        sum(\"Quantity\").alias(\"(sum)Quantity\"))\r\n",
        "    .orderBy(\"TransactionDate\"))\r\n",
        "display(profitByDateProduct.limit(100))"
      ],
      "outputs": [
        {
          "output_type": "display_data",
          "data": {
            "application/vnd.livy.statement-meta+json": {
              "spark_pool": "sparkpool2",
              "session_id": "4",
              "statement_id": 5,
              "state": "finished",
              "livy_statement_state": "available",
              "queued_time": "2022-09-28T19:30:02.7565524Z",
              "session_start_time": null,
              "execution_start_time": "2022-09-28T19:30:02.8879227Z",
              "execution_finish_time": "2022-09-28T19:30:09.9044523Z",
              "spark_jobs": null
            },
            "text/plain": "StatementMeta(sparkpool2, 4, 5, Finished, Available)"
          },
          "metadata": {}
        },
        {
          "output_type": "display_data",
          "data": {
            "application/vnd.synapse.widget-view+json": {
              "widget_id": "2a4a5d4d-ff9c-4649-a9be-468d08045c72",
              "widget_type": "Synapse.DataFrame"
            },
            "text/plain": "SynapseWidget(Synapse.DataFrame, 2a4a5d4d-ff9c-4649-a9be-468d08045c72)"
          },
          "metadata": {}
        }
      ],
      "execution_count": 4,
      "metadata": {
        "jupyter": {
          "source_hidden": false,
          "outputs_hidden": false
        },
        "nteract": {
          "transient": {
            "deleting": false
          }
        },
        "collapsed": false
      }
    },
    {
      "cell_type": "code",
      "source": [
        "df = (spark.read \\\r\n",
        "        .option('inferSchema', 'true') \\\r\n",
        "        .json('abfss://wwi-02@' + datalake + '.dfs.core.windows.net/online-user-profiles-02/*.json', multiLine=True)\r\n",
        "    )\r\n",
        "\r\n",
        "df.printSchema()"
      ],
      "outputs": [
        {
          "output_type": "display_data",
          "data": {
            "application/vnd.livy.statement-meta+json": {
              "spark_pool": "sparkpool2",
              "session_id": "4",
              "statement_id": 6,
              "state": "finished",
              "livy_statement_state": "available",
              "queued_time": "2022-09-28T19:30:37.8573258Z",
              "session_start_time": null,
              "execution_start_time": "2022-09-28T19:30:38.0176017Z",
              "execution_finish_time": "2022-09-28T19:30:45.0066692Z",
              "spark_jobs": null
            },
            "text/plain": "StatementMeta(sparkpool2, 4, 6, Finished, Available)"
          },
          "metadata": {}
        },
        {
          "output_type": "stream",
          "name": "stdout",
          "text": [
            "root\n |-- topProductPurchases: array (nullable = true)\n |    |-- element: struct (containsNull = true)\n |    |    |-- itemsPurchasedLast12Months: long (nullable = true)\n |    |    |-- productId: long (nullable = true)\n |-- visitorId: long (nullable = true)\n\n"
          ]
        }
      ],
      "execution_count": 5,
      "metadata": {
        "jupyter": {
          "source_hidden": false,
          "outputs_hidden": true
        },
        "nteract": {
          "transient": {
            "deleting": false
          }
        }
      }
    },
    {
      "cell_type": "code",
      "source": [
        "# create a view called user_profiles\r\n",
        "df.createOrReplaceTempView(\"user_profiles\")"
      ],
      "outputs": [
        {
          "output_type": "display_data",
          "data": {
            "application/vnd.livy.statement-meta+json": {
              "spark_pool": "sparkpool2",
              "session_id": "4",
              "statement_id": 7,
              "state": "finished",
              "livy_statement_state": "available",
              "queued_time": "2022-09-28T19:32:11.6228607Z",
              "session_start_time": null,
              "execution_start_time": "2022-09-28T19:32:11.7391765Z",
              "execution_finish_time": "2022-09-28T19:32:20.5905553Z",
              "spark_jobs": null
            },
            "text/plain": "StatementMeta(sparkpool2, 4, 7, Finished, Available)"
          },
          "metadata": {}
        }
      ],
      "execution_count": 6,
      "metadata": {
        "jupyter": {
          "source_hidden": false,
          "outputs_hidden": false
        },
        "nteract": {
          "transient": {
            "deleting": false
          }
        }
      }
    },
    {
      "cell_type": "code",
      "source": [
        "%%sql\r\n",
        "\r\n",
        "SELECT * FROM user_profiles LIMIT 10"
      ],
      "outputs": [
        {
          "output_type": "display_data",
          "data": {
            "application/vnd.livy.statement-meta+json": {
              "spark_pool": "sparkpool2",
              "session_id": "4",
              "statement_id": 8,
              "state": "finished",
              "livy_statement_state": "available",
              "queued_time": "2022-09-28T19:34:04.2878454Z",
              "session_start_time": null,
              "execution_start_time": "2022-09-28T19:34:04.4297515Z",
              "execution_finish_time": "2022-09-28T19:34:07.0218447Z",
              "spark_jobs": null
            },
            "text/plain": "StatementMeta(sparkpool2, 4, 8, Finished, Available)"
          },
          "metadata": {}
        },
        {
          "output_type": "execute_result",
          "execution_count": 7,
          "data": {
            "application/vnd.synapse.sparksql-result+json": {
              "schema": {
                "type": "struct",
                "fields": [
                  {
                    "name": "topProductPurchases",
                    "type": {
                      "type": "array",
                      "elementType": {
                        "type": "struct",
                        "fields": [
                          {
                            "name": "itemsPurchasedLast12Months",
                            "type": "long",
                            "nullable": true,
                            "metadata": {}
                          },
                          {
                            "name": "productId",
                            "type": "long",
                            "nullable": true,
                            "metadata": {}
                          }
                        ]
                      },
                      "containsNull": true
                    },
                    "nullable": true,
                    "metadata": {}
                  },
                  {
                    "name": "visitorId",
                    "type": "long",
                    "nullable": true,
                    "metadata": {}
                  }
                ]
              },
              "data": [
                [
                  [
                    {
                      "schema": [
                        {
                          "name": "itemsPurchasedLast12Months",
                          "dataType": {},
                          "nullable": true,
                          "metadata": {
                            "map": {}
                          }
                        },
                        {
                          "name": "productId",
                          "dataType": {},
                          "nullable": true,
                          "metadata": {
                            "map": {}
                          }
                        }
                      ],
                      "values": [
                        "13",
                        "3623"
                      ]
                    },
                    {
                      "schema": [
                        {
                          "name": "itemsPurchasedLast12Months",
                          "dataType": {},
                          "nullable": true,
                          "metadata": {
                            "map": {}
                          }
                        },
                        {
                          "name": "productId",
                          "dataType": {},
                          "nullable": true,
                          "metadata": {
                            "map": {}
                          }
                        }
                      ],
                      "values": [
                        "5",
                        "2321"
                      ]
                    }
                  ],
                  "117000"
                ],
                [
                  [
                    {
                      "schema": [
                        {
                          "name": "itemsPurchasedLast12Months",
                          "dataType": {},
                          "nullable": true,
                          "metadata": {
                            "map": {}
                          }
                        },
                        {
                          "name": "productId",
                          "dataType": {},
                          "nullable": true,
                          "metadata": {
                            "map": {}
                          }
                        }
                      ],
                      "values": [
                        "93",
                        "713"
                      ]
                    },
                    {
                      "schema": [
                        {
                          "name": "itemsPurchasedLast12Months",
                          "dataType": {},
                          "nullable": true,
                          "metadata": {
                            "map": {}
                          }
                        },
                        {
                          "name": "productId",
                          "dataType": {},
                          "nullable": true,
                          "metadata": {
                            "map": {}
                          }
                        }
                      ],
                      "values": [
                        "19",
                        "2144"
                      ]
                    },
                    {
                      "schema": [
                        {
                          "name": "itemsPurchasedLast12Months",
                          "dataType": {},
                          "nullable": true,
                          "metadata": {
                            "map": {}
                          }
                        },
                        {
                          "name": "productId",
                          "dataType": {},
                          "nullable": true,
                          "metadata": {
                            "map": {}
                          }
                        }
                      ],
                      "values": [
                        "30",
                        "1094"
                      ]
                    },
                    {
                      "schema": [
                        {
                          "name": "itemsPurchasedLast12Months",
                          "dataType": {},
                          "nullable": true,
                          "metadata": {
                            "map": {}
                          }
                        },
                        {
                          "name": "productId",
                          "dataType": {},
                          "nullable": true,
                          "metadata": {
                            "map": {}
                          }
                        }
                      ],
                      "values": [
                        "82",
                        "3223"
                      ]
                    },
                    {
                      "schema": [
                        {
                          "name": "itemsPurchasedLast12Months",
                          "dataType": {},
                          "nullable": true,
                          "metadata": {
                            "map": {}
                          }
                        },
                        {
                          "name": "productId",
                          "dataType": {},
                          "nullable": true,
                          "metadata": {
                            "map": {}
                          }
                        }
                      ],
                      "values": [
                        "42",
                        "3328"
                      ]
                    },
                    {
                      "schema": [
                        {
                          "name": "itemsPurchasedLast12Months",
                          "dataType": {},
                          "nullable": true,
                          "metadata": {
                            "map": {}
                          }
                        },
                        {
                          "name": "productId",
                          "dataType": {},
                          "nullable": true,
                          "metadata": {
                            "map": {}
                          }
                        }
                      ],
                      "values": [
                        "62",
                        "2926"
                      ]
                    },
                    {
                      "schema": [
                        {
                          "name": "itemsPurchasedLast12Months",
                          "dataType": {},
                          "nullable": true,
                          "metadata": {
                            "map": {}
                          }
                        },
                        {
                          "name": "productId",
                          "dataType": {},
                          "nullable": true,
                          "metadata": {
                            "map": {}
                          }
                        }
                      ],
                      "values": [
                        "63",
                        "2651"
                      ]
                    },
                    {
                      "schema": [
                        {
                          "name": "itemsPurchasedLast12Months",
                          "dataType": {},
                          "nullable": true,
                          "metadata": {
                            "map": {}
                          }
                        },
                        {
                          "name": "productId",
                          "dataType": {},
                          "nullable": true,
                          "metadata": {
                            "map": {}
                          }
                        }
                      ],
                      "values": [
                        "39",
                        "341"
                      ]
                    },
                    {
                      "schema": [
                        {
                          "name": "itemsPurchasedLast12Months",
                          "dataType": {},
                          "nullable": true,
                          "metadata": {
                            "map": {}
                          }
                        },
                        {
                          "name": "productId",
                          "dataType": {},
                          "nullable": true,
                          "metadata": {
                            "map": {}
                          }
                        }
                      ],
                      "values": [
                        "85",
                        "4841"
                      ]
                    },
                    {
                      "schema": [
                        {
                          "name": "itemsPurchasedLast12Months",
                          "dataType": {},
                          "nullable": true,
                          "metadata": {
                            "map": {}
                          }
                        },
                        {
                          "name": "productId",
                          "dataType": {},
                          "nullable": true,
                          "metadata": {
                            "map": {}
                          }
                        }
                      ],
                      "values": [
                        "67",
                        "4289"
                      ]
                    },
                    {
                      "schema": [
                        {
                          "name": "itemsPurchasedLast12Months",
                          "dataType": {},
                          "nullable": true,
                          "metadata": {
                            "map": {}
                          }
                        },
                        {
                          "name": "productId",
                          "dataType": {},
                          "nullable": true,
                          "metadata": {
                            "map": {}
                          }
                        }
                      ],
                      "values": [
                        "42",
                        "1264"
                      ]
                    },
                    {
                      "schema": [
                        {
                          "name": "itemsPurchasedLast12Months",
                          "dataType": {},
                          "nullable": true,
                          "metadata": {
                            "map": {}
                          }
                        },
                        {
                          "name": "productId",
                          "dataType": {},
                          "nullable": true,
                          "metadata": {
                            "map": {}
                          }
                        }
                      ],
                      "values": [
                        "43",
                        "3608"
                      ]
                    },
                    {
                      "schema": [
                        {
                          "name": "itemsPurchasedLast12Months",
                          "dataType": {},
                          "nullable": true,
                          "metadata": {
                            "map": {}
                          }
                        },
                        {
                          "name": "productId",
                          "dataType": {},
                          "nullable": true,
                          "metadata": {
                            "map": {}
                          }
                        }
                      ],
                      "values": [
                        "14",
                        "504"
                      ]
                    },
                    {
                      "schema": [
                        {
                          "name": "itemsPurchasedLast12Months",
                          "dataType": {},
                          "nullable": true,
                          "metadata": {
                            "map": {}
                          }
                        },
                        {
                          "name": "productId",
                          "dataType": {},
                          "nullable": true,
                          "metadata": {
                            "map": {}
                          }
                        }
                      ],
                      "values": [
                        "97",
                        "2649"
                      ]
                    },
                    {
                      "schema": [
                        {
                          "name": "itemsPurchasedLast12Months",
                          "dataType": {},
                          "nullable": true,
                          "metadata": {
                            "map": {}
                          }
                        },
                        {
                          "name": "productId",
                          "dataType": {},
                          "nullable": true,
                          "metadata": {
                            "map": {}
                          }
                        }
                      ],
                      "values": [
                        "44",
                        "2873"
                      ]
                    },
                    {
                      "schema": [
                        {
                          "name": "itemsPurchasedLast12Months",
                          "dataType": {},
                          "nullable": true,
                          "metadata": {
                            "map": {}
                          }
                        },
                        {
                          "name": "productId",
                          "dataType": {},
                          "nullable": true,
                          "metadata": {
                            "map": {}
                          }
                        }
                      ],
                      "values": [
                        "7",
                        "4491"
                      ]
                    },
                    {
                      "schema": [
                        {
                          "name": "itemsPurchasedLast12Months",
                          "dataType": {},
                          "nullable": true,
                          "metadata": {
                            "map": {}
                          }
                        },
                        {
                          "name": "productId",
                          "dataType": {},
                          "nullable": true,
                          "metadata": {
                            "map": {}
                          }
                        }
                      ],
                      "values": [
                        "70",
                        "3623"
                      ]
                    },
                    {
                      "schema": [
                        {
                          "name": "itemsPurchasedLast12Months",
                          "dataType": {},
                          "nullable": true,
                          "metadata": {
                            "map": {}
                          }
                        },
                        {
                          "name": "productId",
                          "dataType": {},
                          "nullable": true,
                          "metadata": {
                            "map": {}
                          }
                        }
                      ],
                      "values": [
                        "4",
                        "4035"
                      ]
                    },
                    {
                      "schema": [
                        {
                          "name": "itemsPurchasedLast12Months",
                          "dataType": {},
                          "nullable": true,
                          "metadata": {
                            "map": {}
                          }
                        },
                        {
                          "name": "productId",
                          "dataType": {},
                          "nullable": true,
                          "metadata": {
                            "map": {}
                          }
                        }
                      ],
                      "values": [
                        "45",
                        "3576"
                      ]
                    }
                  ],
                  "117001"
                ],
                [
                  [
                    {
                      "schema": [
                        {
                          "name": "itemsPurchasedLast12Months",
                          "dataType": {},
                          "nullable": true,
                          "metadata": {
                            "map": {}
                          }
                        },
                        {
                          "name": "productId",
                          "dataType": {},
                          "nullable": true,
                          "metadata": {
                            "map": {}
                          }
                        }
                      ],
                      "values": [
                        "25",
                        "478"
                      ]
                    },
                    {
                      "schema": [
                        {
                          "name": "itemsPurchasedLast12Months",
                          "dataType": {},
                          "nullable": true,
                          "metadata": {
                            "map": {}
                          }
                        },
                        {
                          "name": "productId",
                          "dataType": {},
                          "nullable": true,
                          "metadata": {
                            "map": {}
                          }
                        }
                      ],
                      "values": [
                        "15",
                        "2515"
                      ]
                    },
                    {
                      "schema": [
                        {
                          "name": "itemsPurchasedLast12Months",
                          "dataType": {},
                          "nullable": true,
                          "metadata": {
                            "map": {}
                          }
                        },
                        {
                          "name": "productId",
                          "dataType": {},
                          "nullable": true,
                          "metadata": {
                            "map": {}
                          }
                        }
                      ],
                      "values": [
                        "34",
                        "209"
                      ]
                    },
                    {
                      "schema": [
                        {
                          "name": "itemsPurchasedLast12Months",
                          "dataType": {},
                          "nullable": true,
                          "metadata": {
                            "map": {}
                          }
                        },
                        {
                          "name": "productId",
                          "dataType": {},
                          "nullable": true,
                          "metadata": {
                            "map": {}
                          }
                        }
                      ],
                      "values": [
                        "60",
                        "4412"
                      ]
                    }
                  ],
                  "117002"
                ],
                [
                  [
                    {
                      "schema": [
                        {
                          "name": "itemsPurchasedLast12Months",
                          "dataType": {},
                          "nullable": true,
                          "metadata": {
                            "map": {}
                          }
                        },
                        {
                          "name": "productId",
                          "dataType": {},
                          "nullable": true,
                          "metadata": {
                            "map": {}
                          }
                        }
                      ],
                      "values": [
                        "72",
                        "2396"
                      ]
                    },
                    {
                      "schema": [
                        {
                          "name": "itemsPurchasedLast12Months",
                          "dataType": {},
                          "nullable": true,
                          "metadata": {
                            "map": {}
                          }
                        },
                        {
                          "name": "productId",
                          "dataType": {},
                          "nullable": true,
                          "metadata": {
                            "map": {}
                          }
                        }
                      ],
                      "values": [
                        "8",
                        "1862"
                      ]
                    },
                    {
                      "schema": [
                        {
                          "name": "itemsPurchasedLast12Months",
                          "dataType": {},
                          "nullable": true,
                          "metadata": {
                            "map": {}
                          }
                        },
                        {
                          "name": "productId",
                          "dataType": {},
                          "nullable": true,
                          "metadata": {
                            "map": {}
                          }
                        }
                      ],
                      "values": [
                        "96",
                        "720"
                      ]
                    },
                    {
                      "schema": [
                        {
                          "name": "itemsPurchasedLast12Months",
                          "dataType": {},
                          "nullable": true,
                          "metadata": {
                            "map": {}
                          }
                        },
                        {
                          "name": "productId",
                          "dataType": {},
                          "nullable": true,
                          "metadata": {
                            "map": {}
                          }
                        }
                      ],
                      "values": [
                        "93",
                        "3735"
                      ]
                    },
                    {
                      "schema": [
                        {
                          "name": "itemsPurchasedLast12Months",
                          "dataType": {},
                          "nullable": true,
                          "metadata": {
                            "map": {}
                          }
                        },
                        {
                          "name": "productId",
                          "dataType": {},
                          "nullable": true,
                          "metadata": {
                            "map": {}
                          }
                        }
                      ],
                      "values": [
                        "80",
                        "582"
                      ]
                    },
                    {
                      "schema": [
                        {
                          "name": "itemsPurchasedLast12Months",
                          "dataType": {},
                          "nullable": true,
                          "metadata": {
                            "map": {}
                          }
                        },
                        {
                          "name": "productId",
                          "dataType": {},
                          "nullable": true,
                          "metadata": {
                            "map": {}
                          }
                        }
                      ],
                      "values": [
                        "8",
                        "2566"
                      ]
                    },
                    {
                      "schema": [
                        {
                          "name": "itemsPurchasedLast12Months",
                          "dataType": {},
                          "nullable": true,
                          "metadata": {
                            "map": {}
                          }
                        },
                        {
                          "name": "productId",
                          "dataType": {},
                          "nullable": true,
                          "metadata": {
                            "map": {}
                          }
                        }
                      ],
                      "values": [
                        "79",
                        "1895"
                      ]
                    },
                    {
                      "schema": [
                        {
                          "name": "itemsPurchasedLast12Months",
                          "dataType": {},
                          "nullable": true,
                          "metadata": {
                            "map": {}
                          }
                        },
                        {
                          "name": "productId",
                          "dataType": {},
                          "nullable": true,
                          "metadata": {
                            "map": {}
                          }
                        }
                      ],
                      "values": [
                        "97",
                        "1967"
                      ]
                    },
                    {
                      "schema": [
                        {
                          "name": "itemsPurchasedLast12Months",
                          "dataType": {},
                          "nullable": true,
                          "metadata": {
                            "map": {}
                          }
                        },
                        {
                          "name": "productId",
                          "dataType": {},
                          "nullable": true,
                          "metadata": {
                            "map": {}
                          }
                        }
                      ],
                      "values": [
                        "65",
                        "304"
                      ]
                    },
                    {
                      "schema": [
                        {
                          "name": "itemsPurchasedLast12Months",
                          "dataType": {},
                          "nullable": true,
                          "metadata": {
                            "map": {}
                          }
                        },
                        {
                          "name": "productId",
                          "dataType": {},
                          "nullable": true,
                          "metadata": {
                            "map": {}
                          }
                        }
                      ],
                      "values": [
                        "40",
                        "1127"
                      ]
                    },
                    {
                      "schema": [
                        {
                          "name": "itemsPurchasedLast12Months",
                          "dataType": {},
                          "nullable": true,
                          "metadata": {
                            "map": {}
                          }
                        },
                        {
                          "name": "productId",
                          "dataType": {},
                          "nullable": true,
                          "metadata": {
                            "map": {}
                          }
                        }
                      ],
                      "values": [
                        "94",
                        "1268"
                      ]
                    },
                    {
                      "schema": [
                        {
                          "name": "itemsPurchasedLast12Months",
                          "dataType": {},
                          "nullable": true,
                          "metadata": {
                            "map": {}
                          }
                        },
                        {
                          "name": "productId",
                          "dataType": {},
                          "nullable": true,
                          "metadata": {
                            "map": {}
                          }
                        }
                      ],
                      "values": [
                        "62",
                        "4832"
                      ]
                    },
                    {
                      "schema": [
                        {
                          "name": "itemsPurchasedLast12Months",
                          "dataType": {},
                          "nullable": true,
                          "metadata": {
                            "map": {}
                          }
                        },
                        {
                          "name": "productId",
                          "dataType": {},
                          "nullable": true,
                          "metadata": {
                            "map": {}
                          }
                        }
                      ],
                      "values": [
                        "73",
                        "2885"
                      ]
                    },
                    {
                      "schema": [
                        {
                          "name": "itemsPurchasedLast12Months",
                          "dataType": {},
                          "nullable": true,
                          "metadata": {
                            "map": {}
                          }
                        },
                        {
                          "name": "productId",
                          "dataType": {},
                          "nullable": true,
                          "metadata": {
                            "map": {}
                          }
                        }
                      ],
                      "values": [
                        "42",
                        "3746"
                      ]
                    },
                    {
                      "schema": [
                        {
                          "name": "itemsPurchasedLast12Months",
                          "dataType": {},
                          "nullable": true,
                          "metadata": {
                            "map": {}
                          }
                        },
                        {
                          "name": "productId",
                          "dataType": {},
                          "nullable": true,
                          "metadata": {
                            "map": {}
                          }
                        }
                      ],
                      "values": [
                        "70",
                        "3475"
                      ]
                    }
                  ],
                  "117003"
                ],
                [
                  [
                    {
                      "schema": [
                        {
                          "name": "itemsPurchasedLast12Months",
                          "dataType": {},
                          "nullable": true,
                          "metadata": {
                            "map": {}
                          }
                        },
                        {
                          "name": "productId",
                          "dataType": {},
                          "nullable": true,
                          "metadata": {
                            "map": {}
                          }
                        }
                      ],
                      "values": [
                        "34",
                        "2453"
                      ]
                    },
                    {
                      "schema": [
                        {
                          "name": "itemsPurchasedLast12Months",
                          "dataType": {},
                          "nullable": true,
                          "metadata": {
                            "map": {}
                          }
                        },
                        {
                          "name": "productId",
                          "dataType": {},
                          "nullable": true,
                          "metadata": {
                            "map": {}
                          }
                        }
                      ],
                      "values": [
                        "73",
                        "3989"
                      ]
                    },
                    {
                      "schema": [
                        {
                          "name": "itemsPurchasedLast12Months",
                          "dataType": {},
                          "nullable": true,
                          "metadata": {
                            "map": {}
                          }
                        },
                        {
                          "name": "productId",
                          "dataType": {},
                          "nullable": true,
                          "metadata": {
                            "map": {}
                          }
                        }
                      ],
                      "values": [
                        "33",
                        "2768"
                      ]
                    },
                    {
                      "schema": [
                        {
                          "name": "itemsPurchasedLast12Months",
                          "dataType": {},
                          "nullable": true,
                          "metadata": {
                            "map": {}
                          }
                        },
                        {
                          "name": "productId",
                          "dataType": {},
                          "nullable": true,
                          "metadata": {
                            "map": {}
                          }
                        }
                      ],
                      "values": [
                        "78",
                        "1128"
                      ]
                    }
                  ],
                  "117004"
                ],
                [
                  [
                    {
                      "schema": [
                        {
                          "name": "itemsPurchasedLast12Months",
                          "dataType": {},
                          "nullable": true,
                          "metadata": {
                            "map": {}
                          }
                        },
                        {
                          "name": "productId",
                          "dataType": {},
                          "nullable": true,
                          "metadata": {
                            "map": {}
                          }
                        }
                      ],
                      "values": [
                        "69",
                        "1564"
                      ]
                    },
                    {
                      "schema": [
                        {
                          "name": "itemsPurchasedLast12Months",
                          "dataType": {},
                          "nullable": true,
                          "metadata": {
                            "map": {}
                          }
                        },
                        {
                          "name": "productId",
                          "dataType": {},
                          "nullable": true,
                          "metadata": {
                            "map": {}
                          }
                        }
                      ],
                      "values": [
                        "24",
                        "936"
                      ]
                    },
                    {
                      "schema": [
                        {
                          "name": "itemsPurchasedLast12Months",
                          "dataType": {},
                          "nullable": true,
                          "metadata": {
                            "map": {}
                          }
                        },
                        {
                          "name": "productId",
                          "dataType": {},
                          "nullable": true,
                          "metadata": {
                            "map": {}
                          }
                        }
                      ],
                      "values": [
                        "99",
                        "1885"
                      ]
                    },
                    {
                      "schema": [
                        {
                          "name": "itemsPurchasedLast12Months",
                          "dataType": {},
                          "nullable": true,
                          "metadata": {
                            "map": {}
                          }
                        },
                        {
                          "name": "productId",
                          "dataType": {},
                          "nullable": true,
                          "metadata": {
                            "map": {}
                          }
                        }
                      ],
                      "values": [
                        "9",
                        "1737"
                      ]
                    },
                    {
                      "schema": [
                        {
                          "name": "itemsPurchasedLast12Months",
                          "dataType": {},
                          "nullable": true,
                          "metadata": {
                            "map": {}
                          }
                        },
                        {
                          "name": "productId",
                          "dataType": {},
                          "nullable": true,
                          "metadata": {
                            "map": {}
                          }
                        }
                      ],
                      "values": [
                        "96",
                        "4200"
                      ]
                    },
                    {
                      "schema": [
                        {
                          "name": "itemsPurchasedLast12Months",
                          "dataType": {},
                          "nullable": true,
                          "metadata": {
                            "map": {}
                          }
                        },
                        {
                          "name": "productId",
                          "dataType": {},
                          "nullable": true,
                          "metadata": {
                            "map": {}
                          }
                        }
                      ],
                      "values": [
                        "8",
                        "2020"
                      ]
                    },
                    {
                      "schema": [
                        {
                          "name": "itemsPurchasedLast12Months",
                          "dataType": {},
                          "nullable": true,
                          "metadata": {
                            "map": {}
                          }
                        },
                        {
                          "name": "productId",
                          "dataType": {},
                          "nullable": true,
                          "metadata": {
                            "map": {}
                          }
                        }
                      ],
                      "values": [
                        "74",
                        "4439"
                      ]
                    }
                  ],
                  "117005"
                ],
                [
                  [
                    {
                      "schema": [
                        {
                          "name": "itemsPurchasedLast12Months",
                          "dataType": {},
                          "nullable": true,
                          "metadata": {
                            "map": {}
                          }
                        },
                        {
                          "name": "productId",
                          "dataType": {},
                          "nullable": true,
                          "metadata": {
                            "map": {}
                          }
                        }
                      ],
                      "values": [
                        "55",
                        "3020"
                      ]
                    },
                    {
                      "schema": [
                        {
                          "name": "itemsPurchasedLast12Months",
                          "dataType": {},
                          "nullable": true,
                          "metadata": {
                            "map": {}
                          }
                        },
                        {
                          "name": "productId",
                          "dataType": {},
                          "nullable": true,
                          "metadata": {
                            "map": {}
                          }
                        }
                      ],
                      "values": [
                        "58",
                        "2379"
                      ]
                    },
                    {
                      "schema": [
                        {
                          "name": "itemsPurchasedLast12Months",
                          "dataType": {},
                          "nullable": true,
                          "metadata": {
                            "map": {}
                          }
                        },
                        {
                          "name": "productId",
                          "dataType": {},
                          "nullable": true,
                          "metadata": {
                            "map": {}
                          }
                        }
                      ],
                      "values": [
                        "45",
                        "4773"
                      ]
                    },
                    {
                      "schema": [
                        {
                          "name": "itemsPurchasedLast12Months",
                          "dataType": {},
                          "nullable": true,
                          "metadata": {
                            "map": {}
                          }
                        },
                        {
                          "name": "productId",
                          "dataType": {},
                          "nullable": true,
                          "metadata": {
                            "map": {}
                          }
                        }
                      ],
                      "values": [
                        "18",
                        "2042"
                      ]
                    },
                    {
                      "schema": [
                        {
                          "name": "itemsPurchasedLast12Months",
                          "dataType": {},
                          "nullable": true,
                          "metadata": {
                            "map": {}
                          }
                        },
                        {
                          "name": "productId",
                          "dataType": {},
                          "nullable": true,
                          "metadata": {
                            "map": {}
                          }
                        }
                      ],
                      "values": [
                        "28",
                        "4060"
                      ]
                    },
                    {
                      "schema": [
                        {
                          "name": "itemsPurchasedLast12Months",
                          "dataType": {},
                          "nullable": true,
                          "metadata": {
                            "map": {}
                          }
                        },
                        {
                          "name": "productId",
                          "dataType": {},
                          "nullable": true,
                          "metadata": {
                            "map": {}
                          }
                        }
                      ],
                      "values": [
                        "44",
                        "4214"
                      ]
                    },
                    {
                      "schema": [
                        {
                          "name": "itemsPurchasedLast12Months",
                          "dataType": {},
                          "nullable": true,
                          "metadata": {
                            "map": {}
                          }
                        },
                        {
                          "name": "productId",
                          "dataType": {},
                          "nullable": true,
                          "metadata": {
                            "map": {}
                          }
                        }
                      ],
                      "values": [
                        "1",
                        "2874"
                      ]
                    },
                    {
                      "schema": [
                        {
                          "name": "itemsPurchasedLast12Months",
                          "dataType": {},
                          "nullable": true,
                          "metadata": {
                            "map": {}
                          }
                        },
                        {
                          "name": "productId",
                          "dataType": {},
                          "nullable": true,
                          "metadata": {
                            "map": {}
                          }
                        }
                      ],
                      "values": [
                        "10",
                        "1091"
                      ]
                    },
                    {
                      "schema": [
                        {
                          "name": "itemsPurchasedLast12Months",
                          "dataType": {},
                          "nullable": true,
                          "metadata": {
                            "map": {}
                          }
                        },
                        {
                          "name": "productId",
                          "dataType": {},
                          "nullable": true,
                          "metadata": {
                            "map": {}
                          }
                        }
                      ],
                      "values": [
                        "58",
                        "4054"
                      ]
                    },
                    {
                      "schema": [
                        {
                          "name": "itemsPurchasedLast12Months",
                          "dataType": {},
                          "nullable": true,
                          "metadata": {
                            "map": {}
                          }
                        },
                        {
                          "name": "productId",
                          "dataType": {},
                          "nullable": true,
                          "metadata": {
                            "map": {}
                          }
                        }
                      ],
                      "values": [
                        "48",
                        "1339"
                      ]
                    },
                    {
                      "schema": [
                        {
                          "name": "itemsPurchasedLast12Months",
                          "dataType": {},
                          "nullable": true,
                          "metadata": {
                            "map": {}
                          }
                        },
                        {
                          "name": "productId",
                          "dataType": {},
                          "nullable": true,
                          "metadata": {
                            "map": {}
                          }
                        }
                      ],
                      "values": [
                        "77",
                        "3112"
                      ]
                    },
                    {
                      "schema": [
                        {
                          "name": "itemsPurchasedLast12Months",
                          "dataType": {},
                          "nullable": true,
                          "metadata": {
                            "map": {}
                          }
                        },
                        {
                          "name": "productId",
                          "dataType": {},
                          "nullable": true,
                          "metadata": {
                            "map": {}
                          }
                        }
                      ],
                      "values": [
                        "83",
                        "41"
                      ]
                    },
                    {
                      "schema": [
                        {
                          "name": "itemsPurchasedLast12Months",
                          "dataType": {},
                          "nullable": true,
                          "metadata": {
                            "map": {}
                          }
                        },
                        {
                          "name": "productId",
                          "dataType": {},
                          "nullable": true,
                          "metadata": {
                            "map": {}
                          }
                        }
                      ],
                      "values": [
                        "56",
                        "2100"
                      ]
                    }
                  ],
                  "117006"
                ],
                [
                  [
                    {
                      "schema": [
                        {
                          "name": "itemsPurchasedLast12Months",
                          "dataType": {},
                          "nullable": true,
                          "metadata": {
                            "map": {}
                          }
                        },
                        {
                          "name": "productId",
                          "dataType": {},
                          "nullable": true,
                          "metadata": {
                            "map": {}
                          }
                        }
                      ],
                      "values": [
                        "63",
                        "1988"
                      ]
                    },
                    {
                      "schema": [
                        {
                          "name": "itemsPurchasedLast12Months",
                          "dataType": {},
                          "nullable": true,
                          "metadata": {
                            "map": {}
                          }
                        },
                        {
                          "name": "productId",
                          "dataType": {},
                          "nullable": true,
                          "metadata": {
                            "map": {}
                          }
                        }
                      ],
                      "values": [
                        "77",
                        "817"
                      ]
                    },
                    {
                      "schema": [
                        {
                          "name": "itemsPurchasedLast12Months",
                          "dataType": {},
                          "nullable": true,
                          "metadata": {
                            "map": {}
                          }
                        },
                        {
                          "name": "productId",
                          "dataType": {},
                          "nullable": true,
                          "metadata": {
                            "map": {}
                          }
                        }
                      ],
                      "values": [
                        "5",
                        "921"
                      ]
                    },
                    {
                      "schema": [
                        {
                          "name": "itemsPurchasedLast12Months",
                          "dataType": {},
                          "nullable": true,
                          "metadata": {
                            "map": {}
                          }
                        },
                        {
                          "name": "productId",
                          "dataType": {},
                          "nullable": true,
                          "metadata": {
                            "map": {}
                          }
                        }
                      ],
                      "values": [
                        "23",
                        "2518"
                      ]
                    },
                    {
                      "schema": [
                        {
                          "name": "itemsPurchasedLast12Months",
                          "dataType": {},
                          "nullable": true,
                          "metadata": {
                            "map": {}
                          }
                        },
                        {
                          "name": "productId",
                          "dataType": {},
                          "nullable": true,
                          "metadata": {
                            "map": {}
                          }
                        }
                      ],
                      "values": [
                        "15",
                        "2743"
                      ]
                    }
                  ],
                  "117007"
                ],
                [
                  [
                    {
                      "schema": [
                        {
                          "name": "itemsPurchasedLast12Months",
                          "dataType": {},
                          "nullable": true,
                          "metadata": {
                            "map": {}
                          }
                        },
                        {
                          "name": "productId",
                          "dataType": {},
                          "nullable": true,
                          "metadata": {
                            "map": {}
                          }
                        }
                      ],
                      "values": [
                        "51",
                        "4385"
                      ]
                    },
                    {
                      "schema": [
                        {
                          "name": "itemsPurchasedLast12Months",
                          "dataType": {},
                          "nullable": true,
                          "metadata": {
                            "map": {}
                          }
                        },
                        {
                          "name": "productId",
                          "dataType": {},
                          "nullable": true,
                          "metadata": {
                            "map": {}
                          }
                        }
                      ],
                      "values": [
                        "77",
                        "3150"
                      ]
                    },
                    {
                      "schema": [
                        {
                          "name": "itemsPurchasedLast12Months",
                          "dataType": {},
                          "nullable": true,
                          "metadata": {
                            "map": {}
                          }
                        },
                        {
                          "name": "productId",
                          "dataType": {},
                          "nullable": true,
                          "metadata": {
                            "map": {}
                          }
                        }
                      ],
                      "values": [
                        "29",
                        "4636"
                      ]
                    },
                    {
                      "schema": [
                        {
                          "name": "itemsPurchasedLast12Months",
                          "dataType": {},
                          "nullable": true,
                          "metadata": {
                            "map": {}
                          }
                        },
                        {
                          "name": "productId",
                          "dataType": {},
                          "nullable": true,
                          "metadata": {
                            "map": {}
                          }
                        }
                      ],
                      "values": [
                        "42",
                        "3360"
                      ]
                    },
                    {
                      "schema": [
                        {
                          "name": "itemsPurchasedLast12Months",
                          "dataType": {},
                          "nullable": true,
                          "metadata": {
                            "map": {}
                          }
                        },
                        {
                          "name": "productId",
                          "dataType": {},
                          "nullable": true,
                          "metadata": {
                            "map": {}
                          }
                        }
                      ],
                      "values": [
                        "71",
                        "4868"
                      ]
                    },
                    {
                      "schema": [
                        {
                          "name": "itemsPurchasedLast12Months",
                          "dataType": {},
                          "nullable": true,
                          "metadata": {
                            "map": {}
                          }
                        },
                        {
                          "name": "productId",
                          "dataType": {},
                          "nullable": true,
                          "metadata": {
                            "map": {}
                          }
                        }
                      ],
                      "values": [
                        "29",
                        "481"
                      ]
                    },
                    {
                      "schema": [
                        {
                          "name": "itemsPurchasedLast12Months",
                          "dataType": {},
                          "nullable": true,
                          "metadata": {
                            "map": {}
                          }
                        },
                        {
                          "name": "productId",
                          "dataType": {},
                          "nullable": true,
                          "metadata": {
                            "map": {}
                          }
                        }
                      ],
                      "values": [
                        "78",
                        "842"
                      ]
                    },
                    {
                      "schema": [
                        {
                          "name": "itemsPurchasedLast12Months",
                          "dataType": {},
                          "nullable": true,
                          "metadata": {
                            "map": {}
                          }
                        },
                        {
                          "name": "productId",
                          "dataType": {},
                          "nullable": true,
                          "metadata": {
                            "map": {}
                          }
                        }
                      ],
                      "values": [
                        "15",
                        "4792"
                      ]
                    },
                    {
                      "schema": [
                        {
                          "name": "itemsPurchasedLast12Months",
                          "dataType": {},
                          "nullable": true,
                          "metadata": {
                            "map": {}
                          }
                        },
                        {
                          "name": "productId",
                          "dataType": {},
                          "nullable": true,
                          "metadata": {
                            "map": {}
                          }
                        }
                      ],
                      "values": [
                        "40",
                        "3929"
                      ]
                    }
                  ],
                  "117008"
                ],
                [
                  [
                    {
                      "schema": [
                        {
                          "name": "itemsPurchasedLast12Months",
                          "dataType": {},
                          "nullable": true,
                          "metadata": {
                            "map": {}
                          }
                        },
                        {
                          "name": "productId",
                          "dataType": {},
                          "nullable": true,
                          "metadata": {
                            "map": {}
                          }
                        }
                      ],
                      "values": [
                        "41",
                        "875"
                      ]
                    },
                    {
                      "schema": [
                        {
                          "name": "itemsPurchasedLast12Months",
                          "dataType": {},
                          "nullable": true,
                          "metadata": {
                            "map": {}
                          }
                        },
                        {
                          "name": "productId",
                          "dataType": {},
                          "nullable": true,
                          "metadata": {
                            "map": {}
                          }
                        }
                      ],
                      "values": [
                        "14",
                        "659"
                      ]
                    },
                    {
                      "schema": [
                        {
                          "name": "itemsPurchasedLast12Months",
                          "dataType": {},
                          "nullable": true,
                          "metadata": {
                            "map": {}
                          }
                        },
                        {
                          "name": "productId",
                          "dataType": {},
                          "nullable": true,
                          "metadata": {
                            "map": {}
                          }
                        }
                      ],
                      "values": [
                        "50",
                        "3519"
                      ]
                    }
                  ],
                  "117009"
                ]
              ]
            },
            "text/plain": "<Spark SQL result set with 10 rows and 2 fields>"
          },
          "metadata": {}
        }
      ],
      "execution_count": 7,
      "metadata": {
        "jupyter": {
          "source_hidden": false,
          "outputs_hidden": true
        },
        "nteract": {
          "transient": {
            "deleting": false
          }
        },
        "microsoft": {
          "language": "sparksql"
        },
        "collapsed": false
      }
    },
    {
      "cell_type": "code",
      "source": [
        "from pyspark.sql.functions import udf, explode\r\n",
        "\r\n",
        "flat=df.select('visitorId',explode('topProductPurchases').alias('topProductPurchases_flat'))\r\n",
        "flat.show(100)"
      ],
      "outputs": [
        {
          "output_type": "display_data",
          "data": {
            "application/vnd.livy.statement-meta+json": {
              "spark_pool": "sparkpool2",
              "session_id": "4",
              "statement_id": 9,
              "state": "finished",
              "livy_statement_state": "available",
              "queued_time": "2022-09-28T19:39:19.4179149Z",
              "session_start_time": null,
              "execution_start_time": "2022-09-28T19:39:19.5539199Z",
              "execution_finish_time": "2022-09-28T19:39:20.6829958Z",
              "spark_jobs": null
            },
            "text/plain": "StatementMeta(sparkpool2, 4, 9, Finished, Available)"
          },
          "metadata": {}
        },
        {
          "output_type": "stream",
          "name": "stdout",
          "text": [
            "+---------+------------------------+\n|visitorId|topProductPurchases_flat|\n+---------+------------------------+\n|   117000|              {13, 3623}|\n|   117000|               {5, 2321}|\n|   117001|               {93, 713}|\n|   117001|              {19, 2144}|\n|   117001|              {30, 1094}|\n|   117001|              {82, 3223}|\n|   117001|              {42, 3328}|\n|   117001|              {62, 2926}|\n|   117001|              {63, 2651}|\n|   117001|               {39, 341}|\n|   117001|              {85, 4841}|\n|   117001|              {67, 4289}|\n|   117001|              {42, 1264}|\n|   117001|              {43, 3608}|\n|   117001|               {14, 504}|\n|   117001|              {97, 2649}|\n|   117001|              {44, 2873}|\n|   117001|               {7, 4491}|\n|   117001|              {70, 3623}|\n|   117001|               {4, 4035}|\n|   117001|              {45, 3576}|\n|   117002|               {25, 478}|\n|   117002|              {15, 2515}|\n|   117002|               {34, 209}|\n|   117002|              {60, 4412}|\n|   117003|              {72, 2396}|\n|   117003|               {8, 1862}|\n|   117003|               {96, 720}|\n|   117003|              {93, 3735}|\n|   117003|               {80, 582}|\n|   117003|               {8, 2566}|\n|   117003|              {79, 1895}|\n|   117003|              {97, 1967}|\n|   117003|               {65, 304}|\n|   117003|              {40, 1127}|\n|   117003|              {94, 1268}|\n|   117003|              {62, 4832}|\n|   117003|              {73, 2885}|\n|   117003|              {42, 3746}|\n|   117003|              {70, 3475}|\n|   117004|              {34, 2453}|\n|   117004|              {73, 3989}|\n|   117004|              {33, 2768}|\n|   117004|              {78, 1128}|\n|   117005|              {69, 1564}|\n|   117005|               {24, 936}|\n|   117005|              {99, 1885}|\n|   117005|               {9, 1737}|\n|   117005|              {96, 4200}|\n|   117005|               {8, 2020}|\n|   117005|              {74, 4439}|\n|   117006|              {55, 3020}|\n|   117006|              {58, 2379}|\n|   117006|              {45, 4773}|\n|   117006|              {18, 2042}|\n|   117006|              {28, 4060}|\n|   117006|              {44, 4214}|\n|   117006|               {1, 2874}|\n|   117006|              {10, 1091}|\n|   117006|              {58, 4054}|\n|   117006|              {48, 1339}|\n|   117006|              {77, 3112}|\n|   117006|                {83, 41}|\n|   117006|              {56, 2100}|\n|   117007|              {63, 1988}|\n|   117007|               {77, 817}|\n|   117007|                {5, 921}|\n|   117007|              {23, 2518}|\n|   117007|              {15, 2743}|\n|   117008|              {51, 4385}|\n|   117008|              {77, 3150}|\n|   117008|              {29, 4636}|\n|   117008|              {42, 3360}|\n|   117008|              {71, 4868}|\n|   117008|               {29, 481}|\n|   117008|               {78, 842}|\n|   117008|              {15, 4792}|\n|   117008|              {40, 3929}|\n|   117009|               {41, 875}|\n|   117009|               {14, 659}|\n|   117009|              {50, 3519}|\n|   117010|              {80, 1252}|\n|   117010|              {35, 3742}|\n|   117010|              {89, 1136}|\n|   117010|              {81, 1614}|\n|   117010|              {93, 4542}|\n|   117010|              {68, 3493}|\n|   117010|               {9, 2884}|\n|   117010|               {8, 2592}|\n|   117010|              {29, 4498}|\n|   117010|               {50, 585}|\n|   117010|              {96, 2262}|\n|   117010|              {28, 4746}|\n|   117011|              {79, 4648}|\n|   117011|              {85, 4169}|\n|   117012|              {45, 1994}|\n|   117012|               {71, 158}|\n|   117012|              {12, 4995}|\n|   117012|              {26, 2794}|\n|   117012|              {19, 1891}|\n+---------+------------------------+\nonly showing top 100 rows\n\n"
          ]
        }
      ],
      "execution_count": 8,
      "metadata": {
        "jupyter": {
          "source_hidden": false,
          "outputs_hidden": true
        },
        "nteract": {
          "transient": {
            "deleting": false
          }
        }
      }
    },
    {
      "cell_type": "code",
      "source": [
        "topPurchases = (flat.select('visitorId','topProductPurchases_flat.productId','topProductPurchases_flat.itemsPurchasedLast12Months')\r\n",
        "    .orderBy('visitorId'))\r\n",
        "\r\n",
        "topPurchases.show(100)"
      ],
      "outputs": [
        {
          "output_type": "display_data",
          "data": {
            "application/vnd.livy.statement-meta+json": {
              "spark_pool": "sparkpool2",
              "session_id": "4",
              "statement_id": 10,
              "state": "finished",
              "livy_statement_state": "available",
              "queued_time": "2022-09-28T19:39:58.9237776Z",
              "session_start_time": null,
              "execution_start_time": "2022-09-28T19:39:59.0857679Z",
              "execution_finish_time": "2022-09-28T19:40:01.9248279Z",
              "spark_jobs": null
            },
            "text/plain": "StatementMeta(sparkpool2, 4, 10, Finished, Available)"
          },
          "metadata": {}
        },
        {
          "output_type": "stream",
          "name": "stdout",
          "text": [
            "+---------+---------+--------------------------+\n|visitorId|productId|itemsPurchasedLast12Months|\n+---------+---------+--------------------------+\n|    80000|     4024|                        35|\n|    80000|      290|                        83|\n|    80000|     3122|                        33|\n|    80000|     4206|                        21|\n|    80000|     2481|                        63|\n|    80000|       93|                        86|\n|    80000|      102|                        42|\n|    80000|     1330|                        78|\n|    80000|     2069|                        93|\n|    80000|     2859|                        54|\n|    80000|     3794|                        90|\n|    80000|     4136|                        30|\n|    80000|     4074|                        48|\n|    80000|     4198|                        92|\n|    80000|     3538|                        65|\n|    80000|     2488|                        31|\n|    80000|      291|                        49|\n|    80000|     3270|                         5|\n|    80000|     4745|                        38|\n|    80000|     1362|                        18|\n|    80001|     1812|                        93|\n|    80001|     4765|                        24|\n|    80001|     4684|                         9|\n|    80001|      989|                        25|\n|    80001|     2226|                        67|\n|    80001|      106|                        37|\n|    80001|       94|                        36|\n|    80001|     3586|                        36|\n|    80001|     1053|                        12|\n|    80001|     3729|                        56|\n|    80001|     2910|                        44|\n|    80001|     2249|                        75|\n|    80001|     1426|                        35|\n|    80001|      231|                        88|\n|    80001|     4105|                        11|\n|    80001|     3775|                        17|\n|    80001|     3773|                        42|\n|    80001|     4999|                        51|\n|    80001|     2010|                        47|\n|    80001|     4380|                        29|\n|    80002|      447|                        69|\n|    80002|     1256|                        90|\n|    80002|     3708|                        30|\n|    80002|       38|                        46|\n|    80002|     3190|                        92|\n|    80002|       49|                        34|\n|    80002|      816|                        45|\n|    80002|     2650|                        75|\n|    80002|     3327|                        30|\n|    80002|     4377|                        70|\n|    80002|     4254|                        30|\n|    80002|     1916|                        41|\n|    80002|     4987|                        88|\n|    80002|     4076|                        12|\n|    80002|     4539|                         2|\n|    80003|     2177|                        81|\n|    80003|     2975|                        36|\n|    80003|     3504|                        35|\n|    80003|     2192|                         8|\n|    80003|     1323|                        77|\n|    80003|      295|                        91|\n|    80003|      696|                        82|\n|    80003|     2768|                        52|\n|    80003|     2692|                        38|\n|    80003|      638|                        97|\n|    80003|     3201|                        83|\n|    80003|      309|                         4|\n|    80004|     1964|                        75|\n|    80004|     3625|                        58|\n|    80004|     2240|                         9|\n|    80004|     1528|                        78|\n|    80004|     3798|                        82|\n|    80004|       44|                        86|\n|    80004|     4684|                        63|\n|    80004|     1249|                        56|\n|    80004|     3181|                        21|\n|    80004|     4619|                        70|\n|    80005|     1683|                         5|\n|    80005|      705|                        45|\n|    80005|     2063|                        22|\n|    80005|     3124|                         7|\n|    80005|     2678|                        14|\n|    80005|     4984|                        19|\n|    80005|     3689|                        45|\n|    80005|      660|                        72|\n|    80005|     3966|                        83|\n|    80005|     1732|                        75|\n|    80005|      664|                        69|\n|    80005|     4678|                        84|\n|    80005|     1102|                        75|\n|    80006|     4309|                        71|\n|    80006|     4068|                        80|\n|    80006|     2133|                        94|\n|    80006|     4684|                         4|\n|    80006|     4388|                        37|\n|    80006|       21|                        62|\n|    80007|     3959|                        97|\n|    80007|     3093|                        38|\n|    80007|     3126|                        49|\n|    80007|     1893|                        82|\n+---------+---------+--------------------------+\nonly showing top 100 rows\n\n"
          ]
        }
      ],
      "execution_count": 9,
      "metadata": {
        "jupyter": {
          "source_hidden": false,
          "outputs_hidden": false
        },
        "nteract": {
          "transient": {
            "deleting": false
          }
        }
      }
    },
    {
      "cell_type": "code",
      "source": [
        "# Let's order by the number of items purchased in the last 12 months\r\n",
        "sortedTopPurchases = topPurchases.orderBy(\"itemsPurchasedLast12Months\")\r\n",
        "\r\n",
        "display(sortedTopPurchases.limit(100))"
      ],
      "outputs": [
        {
          "output_type": "display_data",
          "data": {
            "application/vnd.livy.statement-meta+json": {
              "spark_pool": "sparkpool2",
              "session_id": "4",
              "statement_id": 11,
              "state": "finished",
              "livy_statement_state": "available",
              "queued_time": "2022-09-28T19:41:05.1034941Z",
              "session_start_time": null,
              "execution_start_time": "2022-09-28T19:41:05.2667222Z",
              "execution_finish_time": "2022-09-28T19:41:07.1587498Z",
              "spark_jobs": null
            },
            "text/plain": "StatementMeta(sparkpool2, 4, 11, Finished, Available)"
          },
          "metadata": {}
        },
        {
          "output_type": "display_data",
          "data": {
            "application/vnd.synapse.widget-view+json": {
              "widget_id": "7512d721-2fdb-4521-8427-de83290cb27b",
              "widget_type": "Synapse.DataFrame"
            },
            "text/plain": "SynapseWidget(Synapse.DataFrame, 7512d721-2fdb-4521-8427-de83290cb27b)"
          },
          "metadata": {}
        }
      ],
      "execution_count": 10,
      "metadata": {
        "jupyter": {
          "source_hidden": false,
          "outputs_hidden": false
        },
        "nteract": {
          "transient": {
            "deleting": false
          }
        },
        "collapsed": false
      }
    },
    {
      "cell_type": "code",
      "source": [
        "sortedTopPurchases = (topPurchases\r\n",
        "    .orderBy( col(\"itemsPurchasedLast12Months\").desc() ))\r\n",
        "\r\n",
        "display(sortedTopPurchases.limit(100))"
      ],
      "outputs": [
        {
          "output_type": "display_data",
          "data": {
            "application/vnd.livy.statement-meta+json": {
              "spark_pool": "sparkpool2",
              "session_id": "4",
              "statement_id": 13,
              "state": "finished",
              "livy_statement_state": "available",
              "queued_time": "2022-09-28T19:55:14.5374088Z",
              "session_start_time": null,
              "execution_start_time": "2022-09-28T19:55:14.6516186Z",
              "execution_finish_time": "2022-09-28T19:55:16.5655079Z",
              "spark_jobs": null
            },
            "text/plain": "StatementMeta(sparkpool2, 4, 13, Finished, Available)"
          },
          "metadata": {}
        },
        {
          "output_type": "display_data",
          "data": {
            "application/vnd.synapse.widget-view+json": {
              "widget_id": "90e4543b-ce9e-4999-b5f4-b0bc4561d4f7",
              "widget_type": "Synapse.DataFrame"
            },
            "text/plain": "SynapseWidget(Synapse.DataFrame, 90e4543b-ce9e-4999-b5f4-b0bc4561d4f7)"
          },
          "metadata": {}
        }
      ],
      "execution_count": 12,
      "metadata": {
        "jupyter": {
          "source_hidden": false,
          "outputs_hidden": false
        },
        "nteract": {
          "transient": {
            "deleting": false
          }
        },
        "collapsed": false
      }
    },
    {
      "cell_type": "code",
      "source": [
        "groupedTopPurchases = (sortedTopPurchases.select(\"visitorId\")\r\n",
        "    .groupBy(\"visitorId\")\r\n",
        "    .agg(count(\"*\").alias(\"total\"))\r\n",
        "    .orderBy(\"visitorId\") )\r\n",
        "\r\n",
        "display(groupedTopPurchases.limit(100))"
      ],
      "outputs": [
        {
          "output_type": "display_data",
          "data": {
            "application/vnd.livy.statement-meta+json": {
              "spark_pool": "sparkpool2",
              "session_id": "4",
              "statement_id": 14,
              "state": "finished",
              "livy_statement_state": "available",
              "queued_time": "2022-09-28T20:02:52.5223829Z",
              "session_start_time": null,
              "execution_start_time": "2022-09-28T20:02:52.6621182Z",
              "execution_finish_time": "2022-09-28T20:02:56.6733207Z",
              "spark_jobs": null
            },
            "text/plain": "StatementMeta(sparkpool2, 4, 14, Finished, Available)"
          },
          "metadata": {}
        },
        {
          "output_type": "display_data",
          "data": {
            "application/vnd.synapse.widget-view+json": {
              "widget_id": "d65c99d7-dc47-4176-92bc-dc8d9eecb927",
              "widget_type": "Synapse.DataFrame"
            },
            "text/plain": "SynapseWidget(Synapse.DataFrame, d65c99d7-dc47-4176-92bc-dc8d9eecb927)"
          },
          "metadata": {}
        }
      ],
      "execution_count": 13,
      "metadata": {
        "jupyter": {
          "source_hidden": false,
          "outputs_hidden": false
        },
        "nteract": {
          "transient": {
            "deleting": false
          }
        },
        "collapsed": false
      }
    },
    {
      "cell_type": "code",
      "source": [
        "groupedTopPurchases = (sortedTopPurchases.select(\"visitorId\",\"itemsPurchasedLast12Months\")\r\n",
        "    .groupBy(\"visitorId\")\r\n",
        "    .agg(sum(\"itemsPurchasedLast12Months\").alias(\"totalItemsPurchased\"))\r\n",
        "    .orderBy(\"visitorId\") )\r\n",
        "\r\n",
        "display(groupedTopPurchases.limit(100))"
      ],
      "outputs": [
        {
          "output_type": "display_data",
          "data": {
            "application/vnd.livy.statement-meta+json": {
              "spark_pool": "sparkpool2",
              "session_id": "4",
              "statement_id": 15,
              "state": "finished",
              "livy_statement_state": "available",
              "queued_time": "2022-09-28T20:04:21.2284901Z",
              "session_start_time": null,
              "execution_start_time": "2022-09-28T20:04:21.3560679Z",
              "execution_finish_time": "2022-09-28T20:04:24.3260497Z",
              "spark_jobs": null
            },
            "text/plain": "StatementMeta(sparkpool2, 4, 15, Finished, Available)"
          },
          "metadata": {}
        },
        {
          "output_type": "display_data",
          "data": {
            "application/vnd.synapse.widget-view+json": {
              "widget_id": "345ca825-9952-49a8-b50e-0c570787698f",
              "widget_type": "Synapse.DataFrame"
            },
            "text/plain": "SynapseWidget(Synapse.DataFrame, 345ca825-9952-49a8-b50e-0c570787698f)"
          },
          "metadata": {}
        }
      ],
      "execution_count": 14,
      "metadata": {
        "jupyter": {
          "source_hidden": false,
          "outputs_hidden": false
        },
        "nteract": {
          "transient": {
            "deleting": false
          }
        },
        "collapsed": false
      }
    },
    {
      "cell_type": "code",
      "source": [
        "# Create a temporary view for top purchases so we can load from Scala\r\n",
        "topPurchases.createOrReplaceTempView(\"top_purchases\")"
      ],
      "outputs": [
        {
          "output_type": "display_data",
          "data": {
            "application/vnd.livy.statement-meta+json": {
              "spark_pool": "sparkpool2",
              "session_id": "4",
              "statement_id": 16,
              "state": "finished",
              "livy_statement_state": "available",
              "queued_time": "2022-09-28T20:12:47.9348446Z",
              "session_start_time": null,
              "execution_start_time": "2022-09-28T20:12:48.0753566Z",
              "execution_finish_time": "2022-09-28T20:12:48.2499554Z",
              "spark_jobs": null
            },
            "text/plain": "StatementMeta(sparkpool2, 4, 16, Finished, Available)"
          },
          "metadata": {}
        }
      ],
      "execution_count": 15,
      "metadata": {
        "jupyter": {
          "source_hidden": false,
          "outputs_hidden": false
        },
        "nteract": {
          "transient": {
            "deleting": false
          }
        }
      }
    },
    {
      "cell_type": "code",
      "source": [
        "%%spark\r\n",
        "// Make sure the name of the dedcated SQL pool (SQLPool01 below) matches the name of your SQL pool.\r\n",
        "val df = spark.sqlContext.sql(\"select * from top_purchases\")\r\n",
        "df.write.synapsesql(\"SQLPool01.wwi.TopPurchases\", Constants.INTERNAL)"
      ],
      "outputs": [
        {
          "output_type": "display_data",
          "data": {
            "application/vnd.livy.statement-meta+json": {
              "spark_pool": "sparkpool2",
              "session_id": "4",
              "statement_id": 18,
              "state": "finished",
              "livy_statement_state": "available",
              "queued_time": "2022-09-28T20:14:55.3517546Z",
              "session_start_time": null,
              "execution_start_time": "2022-09-28T20:14:57.6007038Z",
              "execution_finish_time": "2022-09-28T20:15:16.5989728Z",
              "spark_jobs": null
            },
            "text/plain": "StatementMeta(sparkpool2, 4, 18, Finished, Available)"
          },
          "metadata": {}
        },
        {
          "output_type": "stream",
          "name": "stdout",
          "text": [
            "df: org.apache.spark.sql.DataFrame = [visitorId: bigint, productId: bigint ... 1 more field]\n"
          ]
        }
      ],
      "execution_count": 16,
      "metadata": {
        "jupyter": {
          "source_hidden": false,
          "outputs_hidden": false
        },
        "nteract": {
          "transient": {
            "deleting": false
          }
        },
        "microsoft": {
          "language": "scala"
        }
      }
    },
    {
      "cell_type": "code",
      "source": [
        "dfsales = spark.read.load('abfss://wwi-02@' + datalake + '.dfs.core.windows.net/sale-small/Year=2019/Quarter=Q4/Month=12/*/*.parquet', format='parquet')\r\n",
        "display(dfsales.limit(10))"
      ],
      "outputs": [
        {
          "output_type": "display_data",
          "data": {
            "application/vnd.livy.statement-meta+json": {
              "spark_pool": "sparkpool2",
              "session_id": "4",
              "statement_id": 19,
              "state": "finished",
              "livy_statement_state": "available",
              "queued_time": "2022-09-28T20:24:46.9212317Z",
              "session_start_time": null,
              "execution_start_time": "2022-09-28T20:24:47.0786436Z",
              "execution_finish_time": "2022-09-28T20:24:51.1661679Z",
              "spark_jobs": null
            },
            "text/plain": "StatementMeta(sparkpool2, 4, 19, Finished, Available)"
          },
          "metadata": {}
        },
        {
          "output_type": "display_data",
          "data": {
            "application/vnd.synapse.widget-view+json": {
              "widget_id": "ed5ef3be-8e7c-46f5-9b2d-7e23ecd78a60",
              "widget_type": "Synapse.DataFrame"
            },
            "text/plain": "SynapseWidget(Synapse.DataFrame, ed5ef3be-8e7c-46f5-9b2d-7e23ecd78a60)"
          },
          "metadata": {}
        }
      ],
      "execution_count": 17,
      "metadata": {
        "jupyter": {
          "source_hidden": false,
          "outputs_hidden": false
        },
        "nteract": {
          "transient": {
            "deleting": false
          }
        },
        "collapsed": false
      }
    },
    {
      "cell_type": "code",
      "source": [
        "%%spark\r\n",
        "// Make sure the name of the SQL pool (SQLPool01 below) matches the name of your SQL pool.\r\n",
        "val df2 = spark.read.synapsesql(\"SQLPool01.wwi.TopPurchases\")\r\n",
        "df2.createTempView(\"top_purchases_sql\")\r\n",
        "\r\n",
        "df2.head(10)"
      ],
      "outputs": [
        {
          "output_type": "display_data",
          "data": {
            "application/vnd.livy.statement-meta+json": {
              "spark_pool": "sparkpool2",
              "session_id": "4",
              "statement_id": 20,
              "state": "finished",
              "livy_statement_state": "available",
              "queued_time": "2022-09-28T20:25:35.669538Z",
              "session_start_time": null,
              "execution_start_time": "2022-09-28T20:25:35.7916908Z",
              "execution_finish_time": "2022-09-28T20:25:48.5862875Z",
              "spark_jobs": null
            },
            "text/plain": "StatementMeta(sparkpool2, 4, 20, Finished, Available)"
          },
          "metadata": {}
        },
        {
          "output_type": "stream",
          "name": "stdout",
          "text": [
            "df2: org.apache.spark.sql.DataFrame = [visitorId: bigint, productId: bigint ... 1 more field]\nres8: Array[org.apache.spark.sql.Row] = Array([110458,2384,28], [110459,1470,73], [110460,3181,9], [110460,240,53], [110460,2671,32], [110460,2228,44], [110460,290,95], [110460,1528,2], [110460,578,13], [110460,4472,99])\n"
          ]
        }
      ],
      "execution_count": 18,
      "metadata": {
        "jupyter": {
          "source_hidden": false,
          "outputs_hidden": false
        },
        "nteract": {
          "transient": {
            "deleting": false
          }
        },
        "microsoft": {
          "language": "scala"
        }
      }
    },
    {
      "cell_type": "code",
      "source": [
        "dfTopPurchasesFromSql = sqlContext.table(\"top_purchases_sql\")\r\n",
        "\r\n",
        "display(dfTopPurchasesFromSql.limit(10))"
      ],
      "outputs": [
        {
          "output_type": "display_data",
          "data": {
            "application/vnd.livy.statement-meta+json": {
              "spark_pool": "sparkpool2",
              "session_id": "4",
              "statement_id": 21,
              "state": "finished",
              "livy_statement_state": "available",
              "queued_time": "2022-09-28T20:26:26.3705446Z",
              "session_start_time": null,
              "execution_start_time": "2022-09-28T20:26:26.53495Z",
              "execution_finish_time": "2022-09-28T20:26:30.5557778Z",
              "spark_jobs": null
            },
            "text/plain": "StatementMeta(sparkpool2, 4, 21, Finished, Available)"
          },
          "metadata": {}
        },
        {
          "output_type": "display_data",
          "data": {
            "application/vnd.synapse.widget-view+json": {
              "widget_id": "36c2db65-98ad-4b7e-b4cc-07922c7d2fb9",
              "widget_type": "Synapse.DataFrame"
            },
            "text/plain": "SynapseWidget(Synapse.DataFrame, 36c2db65-98ad-4b7e-b4cc-07922c7d2fb9)"
          },
          "metadata": {}
        }
      ],
      "execution_count": 19,
      "metadata": {
        "jupyter": {
          "source_hidden": false,
          "outputs_hidden": false
        },
        "nteract": {
          "transient": {
            "deleting": false
          }
        },
        "collapsed": false
      }
    },
    {
      "cell_type": "code",
      "source": [
        "inner_join = dfsales.join(dfTopPurchasesFromSql,\r\n",
        "    (dfsales.CustomerId == dfTopPurchasesFromSql.visitorId) & (dfsales.ProductId == dfTopPurchasesFromSql.productId))\r\n",
        "\r\n",
        "inner_join_agg = (inner_join.select(\"CustomerId\",\"TotalAmount\",\"Quantity\",\"itemsPurchasedLast12Months\",\"top_purchases_sql.productId\")\r\n",
        "    .groupBy([\"CustomerId\",\"top_purchases_sql.productId\"])\r\n",
        "    .agg(\r\n",
        "        sum(\"TotalAmount\").alias(\"TotalAmountDecember\"),\r\n",
        "        sum(\"Quantity\").alias(\"TotalQuantityDecember\"),\r\n",
        "        sum(\"itemsPurchasedLast12Months\").alias(\"TotalItemsPurchasedLast12Months\"))\r\n",
        "    .orderBy(\"CustomerId\") )\r\n",
        "\r\n",
        "display(inner_join_agg.limit(100))"
      ],
      "outputs": [
        {
          "output_type": "display_data",
          "data": {
            "application/vnd.livy.statement-meta+json": {
              "spark_pool": "sparkpool2",
              "session_id": "4",
              "statement_id": 22,
              "state": "finished",
              "livy_statement_state": "available",
              "queued_time": "2022-09-28T20:27:29.7186031Z",
              "session_start_time": null,
              "execution_start_time": "2022-09-28T20:27:29.8321015Z",
              "execution_finish_time": "2022-09-28T20:27:42.6751501Z",
              "spark_jobs": null
            },
            "text/plain": "StatementMeta(sparkpool2, 4, 22, Finished, Available)"
          },
          "metadata": {}
        },
        {
          "output_type": "display_data",
          "data": {
            "application/vnd.synapse.widget-view+json": {
              "widget_id": "ce371ee4-a825-4c9b-899e-1a0b1638f7a5",
              "widget_type": "Synapse.DataFrame"
            },
            "text/plain": "SynapseWidget(Synapse.DataFrame, ce371ee4-a825-4c9b-899e-1a0b1638f7a5)"
          },
          "metadata": {}
        }
      ],
      "execution_count": 20,
      "metadata": {
        "jupyter": {
          "source_hidden": false,
          "outputs_hidden": false
        },
        "nteract": {
          "transient": {
            "deleting": false
          }
        },
        "collapsed": false
      }
    }
  ],
  "metadata": {
    "language_info": {
      "name": "python"
    },
    "kernelspec": {
      "name": "synapse_pyspark",
      "language": "Python",
      "display_name": "Synapse PySpark"
    },
    "kernel_info": {
      "name": "synapse_pyspark"
    },
    "save_output": true,
    "synapse_widget": {
      "version": "0.1",
      "state": {
        "50442521-ed86-4f4f-a286-ab964da0d00c": {
          "type": "Synapse.DataFrame",
          "sync_state": {
            "table": {
              "rows": [
                {
                  "0": "7365e3cb-c098-4001-83ab-68693b87809d",
                  "1": "2",
                  "2": "829",
                  "3": 4,
                  "4": "30.500000000000000000",
                  "5": "122.000000000000000000",
                  "6": "20191231",
                  "7": "38.640000000000000000",
                  "8": 12,
                  "9": 52,
                  "10": "9559"
                },
                {
                  "0": "7365e3cb-c098-4001-83ab-68693b87809d",
                  "1": "2",
                  "2": "3683",
                  "3": 1,
                  "4": "34.440000000000000000",
                  "5": "34.440000000000000000",
                  "6": "20191231",
                  "7": "9.940000000000000000",
                  "8": 12,
                  "9": 52,
                  "10": "9559"
                },
                {
                  "0": "7365e3cb-c098-4001-83ab-68693b87809d",
                  "1": "2",
                  "2": "812",
                  "3": 1,
                  "4": "28.630000000000000000",
                  "5": "28.630000000000000000",
                  "6": "20191231",
                  "7": "7.200000000000000000",
                  "8": 12,
                  "9": 52,
                  "10": "9559"
                },
                {
                  "0": "7365e3cb-c098-4001-83ab-68693b87809d",
                  "1": "2",
                  "2": "117",
                  "3": 2,
                  "4": "25.500000000000000000",
                  "5": "51.000000000000000000",
                  "6": "20191231",
                  "7": "15.660000000000000000",
                  "8": 12,
                  "9": 52,
                  "10": "9559"
                },
                {
                  "0": "7365e3cb-c098-4001-83ab-68693b87809d",
                  "1": "2",
                  "2": "406",
                  "3": 3,
                  "4": "36.590000000000000000",
                  "5": "109.770000000000000000",
                  "6": "20191231",
                  "7": "34.710000000000000000",
                  "8": 12,
                  "9": 52,
                  "10": "9559"
                },
                {
                  "0": "7365e3cb-c098-4001-83ab-68693b87809d",
                  "1": "2",
                  "2": "231",
                  "3": 3,
                  "4": "25.580000000000000000",
                  "5": "76.740000000000000000",
                  "6": "20191231",
                  "7": "25.020000000000000000",
                  "8": 12,
                  "9": 52,
                  "10": "9559"
                },
                {
                  "0": "7365e3cb-c098-4001-83ab-68693b87809d",
                  "1": "2",
                  "2": "2689",
                  "3": 3,
                  "4": "24.000000000000000000",
                  "5": "72.000000000000000000",
                  "6": "20191231",
                  "7": "19.770000000000000000",
                  "8": 12,
                  "9": 52,
                  "10": "9559"
                },
                {
                  "0": "7365e3cb-c098-4001-83ab-68693b87809d",
                  "1": "2",
                  "2": "2095",
                  "3": 4,
                  "4": "32.380000000000000000",
                  "5": "129.520000000000000000",
                  "6": "20191231",
                  "7": "36.000000000000000000",
                  "8": 12,
                  "9": 52,
                  "10": "9559"
                },
                {
                  "0": "7365e3cb-c098-4001-83ab-68693b87809d",
                  "1": "2",
                  "2": "92",
                  "3": 1,
                  "4": "15.550000000000000000",
                  "5": "15.550000000000000000",
                  "6": "20191231",
                  "7": "4.730000000000000000",
                  "8": 12,
                  "9": 52,
                  "10": "9559"
                },
                {
                  "0": "7365e3cb-c098-4001-83ab-68693b87809d",
                  "1": "2",
                  "2": "1912",
                  "3": 1,
                  "4": "24.620000000000000000",
                  "5": "24.620000000000000000",
                  "6": "20191231",
                  "7": "7.390000000000000000",
                  "8": 12,
                  "9": 52,
                  "10": "9559"
                }
              ],
              "schema": [
                {
                  "key": "0",
                  "name": "TransactionId",
                  "type": "string"
                },
                {
                  "key": "1",
                  "name": "CustomerId",
                  "type": "int"
                },
                {
                  "key": "2",
                  "name": "ProductId",
                  "type": "smallint"
                },
                {
                  "key": "3",
                  "name": "Quantity",
                  "type": "tinyint"
                },
                {
                  "key": "4",
                  "name": "Price",
                  "type": "decimal"
                },
                {
                  "key": "5",
                  "name": "TotalAmount",
                  "type": "decimal"
                },
                {
                  "key": "6",
                  "name": "TransactionDate",
                  "type": "int"
                },
                {
                  "key": "7",
                  "name": "ProfitAmount",
                  "type": "decimal"
                },
                {
                  "key": "8",
                  "name": "Hour",
                  "type": "tinyint"
                },
                {
                  "key": "9",
                  "name": "Minute",
                  "type": "tinyint"
                },
                {
                  "key": "10",
                  "name": "StoreId",
                  "type": "smallint"
                }
              ],
              "truncated": false
            },
            "isSummary": false,
            "language": "scala"
          },
          "persist_state": {
            "view": {
              "type": "details",
              "tableOptions": {},
              "chartOptions": {
                "chartType": "bar",
                "aggregationType": "sum",
                "categoryFieldKeys": [
                  "2"
                ],
                "seriesFieldKeys": [
                  "5"
                ],
                "isStacked": false
              }
            }
          }
        },
        "2a4a5d4d-ff9c-4649-a9be-468d08045c72": {
          "type": "Synapse.DataFrame",
          "sync_state": {
            "table": {
              "rows": [
                {
                  "0": "20191231",
                  "1": "4443",
                  "2": "2371.880000000000000000",
                  "3": "2.4672",
                  "4": "301"
                },
                {
                  "0": "20191231",
                  "1": "2647",
                  "2": "15347.850000000000000000",
                  "3": "2.5285",
                  "4": "1555"
                },
                {
                  "0": "20191231",
                  "1": "223",
                  "2": "47663.640000000000000000",
                  "3": "2.5266",
                  "4": "5076"
                },
                {
                  "0": "20191231",
                  "1": "3977",
                  "2": "14202.540000000000000000",
                  "3": "2.5668",
                  "4": "1594"
                },
                {
                  "0": "20191231",
                  "1": "4232",
                  "2": "9918.700000000000000000",
                  "3": "2.4991",
                  "4": "1397"
                },
                {
                  "0": "20191231",
                  "1": "1585",
                  "2": "12404.340000000000000000",
                  "3": "2.4703",
                  "4": "1539"
                },
                {
                  "0": "20191231",
                  "1": "4646",
                  "2": "1975.480000000000000000",
                  "3": "2.3604",
                  "4": "262"
                },
                {
                  "0": "20191231",
                  "1": "3036",
                  "2": "1150.100000000000000000",
                  "3": "2.5481",
                  "4": "265"
                },
                {
                  "0": "20191231",
                  "1": "1620",
                  "2": "17613.960000000000000000",
                  "3": "2.4777",
                  "4": "1613"
                },
                {
                  "0": "20191231",
                  "1": "669",
                  "2": "2422.080000000000000000",
                  "3": "2.5043",
                  "4": "288"
                },
                {
                  "0": "20191231",
                  "1": "1655",
                  "2": "3088.500000000000000000",
                  "3": "2.4786",
                  "4": "290"
                },
                {
                  "0": "20191231",
                  "1": "1527",
                  "2": "2148.580000000000000000",
                  "3": "2.569",
                  "4": "298"
                },
                {
                  "0": "20191231",
                  "1": "1399",
                  "2": "2797.200000000000000000",
                  "3": "2.4561",
                  "4": "280"
                },
                {
                  "0": "20191231",
                  "1": "2122",
                  "2": "2080.330000000000000000",
                  "3": "2.4128",
                  "4": "263"
                },
                {
                  "0": "20191231",
                  "1": "3824",
                  "2": "2486.070000000000000000",
                  "3": "2.494",
                  "4": "207"
                },
                {
                  "0": "20191231",
                  "1": "4194",
                  "2": "1617.840000000000000000",
                  "3": "2.4231",
                  "4": "252"
                },
                {
                  "0": "20191231",
                  "1": "863",
                  "2": "1860.240000000000000000",
                  "3": "2.339",
                  "4": "276"
                },
                {
                  "0": "20191231",
                  "1": "2034",
                  "2": "2452.730000000000000000",
                  "3": "2.7263",
                  "4": "259"
                },
                {
                  "0": "20191231",
                  "1": "1213",
                  "2": "1590.880000000000000000",
                  "3": "2.4158",
                  "4": "244"
                },
                {
                  "0": "20191231",
                  "1": "3298",
                  "2": "1747.620000000000000000",
                  "3": "2.6869",
                  "4": "266"
                },
                {
                  "0": "20191231",
                  "1": "3079",
                  "2": "2413.740000000000000000",
                  "3": "2.625",
                  "4": "294"
                },
                {
                  "0": "20191231",
                  "1": "3983",
                  "2": "14352.280000000000000000",
                  "3": "2.554",
                  "4": "1609"
                },
                {
                  "0": "20191231",
                  "1": "2053",
                  "2": "2604.000000000000000000",
                  "3": "2.6316",
                  "4": "300"
                },
                {
                  "0": "20191231",
                  "1": "4901",
                  "2": "6881.940000000000000000",
                  "3": "2.5153",
                  "4": "1557"
                },
                {
                  "0": "20191231",
                  "1": "177",
                  "2": "52192.600000000000000000",
                  "3": "2.486",
                  "4": "6404"
                },
                {
                  "0": "20191231",
                  "1": "4409",
                  "2": "1760.260000000000000000",
                  "3": "2.5044",
                  "4": "283"
                },
                {
                  "0": "20191231",
                  "1": "1388",
                  "2": "3491.800000000000000000",
                  "3": "2.5564",
                  "4": "340"
                },
                {
                  "0": "20191231",
                  "1": "4830",
                  "2": "2997.360000000000000000",
                  "3": "2.4425",
                  "4": "276"
                },
                {
                  "0": "20191231",
                  "1": "3024",
                  "2": "3446.300000000000000000",
                  "3": "2.6729",
                  "4": "286"
                },
                {
                  "0": "20191231",
                  "1": "3399",
                  "2": "1673.600000000000000000",
                  "3": "2.6016",
                  "4": "320"
                },
                {
                  "0": "20191231",
                  "1": "4454",
                  "2": "1376.160000000000000000",
                  "3": "2.4646",
                  "4": "244"
                },
                {
                  "0": "20191231",
                  "1": "4380",
                  "2": "2092.230000000000000000",
                  "3": "2.4059",
                  "4": "243"
                },
                {
                  "0": "20191231",
                  "1": "4339",
                  "2": "1094.450000000000000000",
                  "3": "2.3661",
                  "4": "265"
                },
                {
                  "0": "20191231",
                  "1": "454",
                  "2": "1937.760000000000000000",
                  "3": "2.4673",
                  "4": "264"
                },
                {
                  "0": "20191231",
                  "1": "2216",
                  "2": "2635.290000000000000000",
                  "3": "2.4953",
                  "4": "267"
                },
                {
                  "0": "20191231",
                  "1": "3335",
                  "2": "2432.010000000000000000",
                  "3": "2.5392",
                  "4": "259"
                },
                {
                  "0": "20191231",
                  "1": "1960",
                  "2": "2259.900000000000000000",
                  "3": "2.5596",
                  "4": "279"
                },
                {
                  "0": "20191231",
                  "1": "3310",
                  "2": "2214.800000000000000000",
                  "3": "2.5",
                  "4": "280"
                },
                {
                  "0": "20191231",
                  "1": "3025",
                  "2": "1341.120000000000000000",
                  "3": "2.3519",
                  "4": "254"
                },
                {
                  "0": "20191231",
                  "1": "1128",
                  "2": "2737.050000000000000000",
                  "3": "2.3578",
                  "4": "257"
                },
                {
                  "0": "20191231",
                  "1": "4561",
                  "2": "2310.860000000000000000",
                  "3": "2.6706",
                  "4": "227"
                },
                {
                  "0": "20191231",
                  "1": "3683",
                  "2": "15655.500000000000000000",
                  "3": "2.4842",
                  "4": "1575"
                },
                {
                  "0": "20191231",
                  "1": "2592",
                  "2": "1564.920000000000000000",
                  "3": "2.4059",
                  "4": "243"
                },
                {
                  "0": "20191231",
                  "1": "249",
                  "2": "53177.360000000000000000",
                  "3": "2.4761",
                  "4": "5128"
                },
                {
                  "0": "20191231",
                  "1": "4755",
                  "2": "1670.720000000000000000",
                  "3": "2.3402",
                  "4": "227"
                },
                {
                  "0": "20191231",
                  "1": "1608",
                  "2": "3161.070000000000000000",
                  "3": "2.5259",
                  "4": "341"
                },
                {
                  "0": "20191231",
                  "1": "367",
                  "2": "2404.980000000000000000",
                  "3": "2.4052",
                  "4": "279"
                },
                {
                  "0": "20191231",
                  "1": "2381",
                  "2": "13243.420000000000000000",
                  "3": "2.5023",
                  "4": "1619"
                },
                {
                  "0": "20191231",
                  "1": "2206",
                  "2": "11490.960000000000000000",
                  "3": "2.519",
                  "4": "1524"
                },
                {
                  "0": "20191231",
                  "1": "2724",
                  "2": "15377.200000000000000000",
                  "3": "2.5085",
                  "4": "1480"
                },
                {
                  "0": "20191231",
                  "1": "4548",
                  "2": "20172.880000000000000000",
                  "3": "2.4831",
                  "4": "1547"
                },
                {
                  "0": "20191231",
                  "1": "2931",
                  "2": "2302.720000000000000000",
                  "3": "2.57",
                  "4": "257"
                },
                {
                  "0": "20191231",
                  "1": "996",
                  "2": "2077.660000000000000000",
                  "3": "2.4259",
                  "4": "262"
                },
                {
                  "0": "20191231",
                  "1": "1402",
                  "2": "1653.540000000000000000",
                  "3": "2.54",
                  "4": "254"
                },
                {
                  "0": "20191231",
                  "1": "451",
                  "2": "1756.860000000000000000",
                  "3": "2.6111",
                  "4": "282"
                },
                {
                  "0": "20191231",
                  "1": "4679",
                  "2": "2794.140000000000000000",
                  "3": "2.5545",
                  "4": "258"
                },
                {
                  "0": "20191231",
                  "1": "4396",
                  "2": "2181.590000000000000000",
                  "3": "2.5619",
                  "4": "269"
                },
                {
                  "0": "20191231",
                  "1": "3798",
                  "2": "2251.530000000000000000",
                  "3": "2.7732",
                  "4": "269"
                },
                {
                  "0": "20191231",
                  "1": "2487",
                  "2": "9516.780000000000000000",
                  "3": "2.4776",
                  "4": "1494"
                },
                {
                  "0": "20191231",
                  "1": "4779",
                  "2": "3398.640000000000000000",
                  "3": "2.3496",
                  "4": "289"
                },
                {
                  "0": "20191231",
                  "1": "1511",
                  "2": "1863.040000000000000000",
                  "3": "2.5038",
                  "4": "328"
                },
                {
                  "0": "20191231",
                  "1": "368",
                  "2": "2477.230000000000000000",
                  "3": "2.4274",
                  "4": "301"
                },
                {
                  "0": "20191231",
                  "1": "1278",
                  "2": "3481.590000000000000000",
                  "3": "2.5315",
                  "4": "281"
                },
                {
                  "0": "20191231",
                  "1": "1908",
                  "2": "3640.800000000000000000",
                  "3": "2.8522",
                  "4": "328"
                },
                {
                  "0": "20191231",
                  "1": "3581",
                  "2": "2929.340000000000000000",
                  "3": "2.547",
                  "4": "298"
                },
                {
                  "0": "20191231",
                  "1": "4041",
                  "2": "13716.560000000000000000",
                  "3": "2.5168",
                  "4": "1573"
                },
                {
                  "0": "20191231",
                  "1": "237",
                  "2": "32047.550000000000000000",
                  "3": "2.4902",
                  "4": "5095"
                },
                {
                  "0": "20191231",
                  "1": "692",
                  "2": "9760.710000000000000000",
                  "3": "2.5155",
                  "4": "1459"
                },
                {
                  "0": "20191231",
                  "1": "57",
                  "2": "45311.360000000000000000",
                  "3": "2.5441",
                  "4": "5312"
                },
                {
                  "0": "20191231",
                  "1": "2890",
                  "2": "12905.430000000000000000",
                  "3": "2.5008",
                  "4": "1553"
                },
                {
                  "0": "20191231",
                  "1": "1990",
                  "2": "15236.500000000000000000",
                  "3": "2.484",
                  "4": "1550"
                },
                {
                  "0": "20191231",
                  "1": "3457",
                  "2": "2115.000000000000000000",
                  "3": "2.6549",
                  "4": "300"
                },
                {
                  "0": "20191231",
                  "1": "3362",
                  "2": "2664.420000000000000000",
                  "3": "2.5208",
                  "4": "242"
                },
                {
                  "0": "20191231",
                  "1": "790",
                  "2": "2317.030000000000000000",
                  "3": "2.5288",
                  "4": "263"
                },
                {
                  "0": "20191231",
                  "1": "2045",
                  "2": "3589.950000000000000000",
                  "3": "2.4811",
                  "4": "263"
                },
                {
                  "0": "20191231",
                  "1": "1991",
                  "2": "1596.120000000000000000",
                  "3": "2.4397",
                  "4": "283"
                },
                {
                  "0": "20191231",
                  "1": "2435",
                  "2": "3203.820000000000000000",
                  "3": "2.5289",
                  "4": "306"
                },
                {
                  "0": "20191231",
                  "1": "518",
                  "2": "3602.200000000000000000",
                  "3": "2.6496",
                  "4": "310"
                },
                {
                  "0": "20191231",
                  "1": "3194",
                  "2": "3461.640000000000000000",
                  "3": "2.3481",
                  "4": "317"
                },
                {
                  "0": "20191231",
                  "1": "4955",
                  "2": "2159.700000000000000000",
                  "3": "2.5868",
                  "4": "313"
                },
                {
                  "0": "20191231",
                  "1": "1645",
                  "2": "2120.800000000000000000",
                  "3": "2.211",
                  "4": "241"
                },
                {
                  "0": "20191231",
                  "1": "4500",
                  "2": "2430.090000000000000000",
                  "3": "2.5833",
                  "4": "279"
                },
                {
                  "0": "20191231",
                  "1": "2814",
                  "2": "2403.960000000000000000",
                  "3": "2.5126",
                  "4": "299"
                },
                {
                  "0": "20191231",
                  "1": "3730",
                  "2": "1256.700000000000000000",
                  "3": "2.5652",
                  "4": "295"
                },
                {
                  "0": "20191231",
                  "1": "124",
                  "2": "36910.720000000000000000",
                  "3": "2.4696",
                  "4": "5243"
                },
                {
                  "0": "20191231",
                  "1": "968",
                  "2": "3457.800000000000000000",
                  "3": "2.5714",
                  "4": "306"
                },
                {
                  "0": "20191231",
                  "1": "2049",
                  "2": "2823.360000000000000000",
                  "3": "2.4071",
                  "4": "272"
                },
                {
                  "0": "20191231",
                  "1": "2603",
                  "2": "18540.000000000000000000",
                  "3": "2.5253",
                  "4": "1500"
                },
                {
                  "0": "20191231",
                  "1": "4780",
                  "2": "15812.790000000000000000",
                  "3": "2.482",
                  "4": "1519"
                },
                {
                  "0": "20191231",
                  "1": "3651",
                  "2": "12611.700000000000000000",
                  "3": "2.5194",
                  "4": "1557"
                },
                {
                  "0": "20191231",
                  "1": "511",
                  "2": "2056.600000000000000000",
                  "3": "2.6804",
                  "4": "260"
                },
                {
                  "0": "20191231",
                  "1": "2778",
                  "2": "12398.320000000000000000",
                  "3": "2.4547",
                  "4": "1544"
                },
                {
                  "0": "20191231",
                  "1": "455",
                  "2": "2034.960000000000000000",
                  "3": "2.6522",
                  "4": "244"
                },
                {
                  "0": "20191231",
                  "1": "4457",
                  "2": "1733.200000000000000000",
                  "3": "2.4138",
                  "4": "280"
                },
                {
                  "0": "20191231",
                  "1": "1678",
                  "2": "2424.840000000000000000",
                  "3": "2.4694",
                  "4": "242"
                },
                {
                  "0": "20191231",
                  "1": "2579",
                  "2": "1998.880000000000000000",
                  "3": "2.4554",
                  "4": "248"
                },
                {
                  "0": "20191231",
                  "1": "4325",
                  "2": "1725.750000000000000000",
                  "3": "2.438",
                  "4": "295"
                },
                {
                  "0": "20191231",
                  "1": "4661",
                  "2": "2419.800000000000000000",
                  "3": "2.6371",
                  "4": "327"
                },
                {
                  "0": "20191231",
                  "1": "1159",
                  "2": "3039.000000000000000000",
                  "3": "2.521",
                  "4": "300"
                },
                {
                  "0": "20191231",
                  "1": "3251",
                  "2": "2659.020000000000000000",
                  "3": "2.4818",
                  "4": "273"
                }
              ],
              "schema": [
                {
                  "key": "0",
                  "name": "TransactionDate",
                  "type": "int"
                },
                {
                  "key": "1",
                  "name": "ProductId",
                  "type": "smallint"
                },
                {
                  "key": "2",
                  "name": "(sum)ProfitAmount",
                  "type": "decimal"
                },
                {
                  "key": "3",
                  "name": "(avg)Quantity",
                  "type": "double"
                },
                {
                  "key": "4",
                  "name": "(sum)Quantity",
                  "type": "bigint"
                }
              ],
              "truncated": false
            },
            "isSummary": false,
            "language": "scala"
          },
          "persist_state": {
            "view": {
              "type": "details",
              "tableOptions": {},
              "chartOptions": {
                "chartType": "bar",
                "aggregationType": "sum",
                "categoryFieldKeys": [
                  "1"
                ],
                "seriesFieldKeys": [
                  "0"
                ],
                "isStacked": false
              }
            }
          }
        },
        "7512d721-2fdb-4521-8427-de83290cb27b": {
          "type": "Synapse.DataFrame",
          "sync_state": {
            "table": {
              "rows": [
                {
                  "0": "101795",
                  "1": "2842",
                  "2": "1"
                },
                {
                  "0": "102738",
                  "1": "4213",
                  "2": "1"
                },
                {
                  "0": "101820",
                  "1": "1860",
                  "2": "1"
                },
                {
                  "0": "101007",
                  "1": "4395",
                  "2": "1"
                },
                {
                  "0": "101831",
                  "1": "1404",
                  "2": "1"
                },
                {
                  "0": "101038",
                  "1": "1962",
                  "2": "1"
                },
                {
                  "0": "101835",
                  "1": "2703",
                  "2": "1"
                },
                {
                  "0": "101034",
                  "1": "3840",
                  "2": "1"
                },
                {
                  "0": "101835",
                  "1": "1677",
                  "2": "1"
                },
                {
                  "0": "101045",
                  "1": "2693",
                  "2": "1"
                },
                {
                  "0": "101838",
                  "1": "2981",
                  "2": "1"
                },
                {
                  "0": "101060",
                  "1": "1853",
                  "2": "1"
                },
                {
                  "0": "101842",
                  "1": "826",
                  "2": "1"
                },
                {
                  "0": "101083",
                  "1": "4415",
                  "2": "1"
                },
                {
                  "0": "101858",
                  "1": "3274",
                  "2": "1"
                },
                {
                  "0": "101121",
                  "1": "4989",
                  "2": "1"
                },
                {
                  "0": "101859",
                  "1": "1412",
                  "2": "1"
                },
                {
                  "0": "101143",
                  "1": "4040",
                  "2": "1"
                },
                {
                  "0": "101865",
                  "1": "2207",
                  "2": "1"
                },
                {
                  "0": "101157",
                  "1": "4247",
                  "2": "1"
                },
                {
                  "0": "101876",
                  "1": "4026",
                  "2": "1"
                },
                {
                  "0": "101177",
                  "1": "1895",
                  "2": "1"
                },
                {
                  "0": "101878",
                  "1": "937",
                  "2": "1"
                },
                {
                  "0": "101185",
                  "1": "383",
                  "2": "1"
                },
                {
                  "0": "101890",
                  "1": "2764",
                  "2": "1"
                },
                {
                  "0": "101225",
                  "1": "1853",
                  "2": "1"
                },
                {
                  "0": "101890",
                  "1": "3262",
                  "2": "1"
                },
                {
                  "0": "101242",
                  "1": "4440",
                  "2": "1"
                },
                {
                  "0": "101901",
                  "1": "2511",
                  "2": "1"
                },
                {
                  "0": "101269",
                  "1": "2277",
                  "2": "1"
                },
                {
                  "0": "101901",
                  "1": "3302",
                  "2": "1"
                },
                {
                  "0": "101288",
                  "1": "4723",
                  "2": "1"
                },
                {
                  "0": "101910",
                  "1": "168",
                  "2": "1"
                },
                {
                  "0": "101297",
                  "1": "1737",
                  "2": "1"
                },
                {
                  "0": "101912",
                  "1": "1876",
                  "2": "1"
                },
                {
                  "0": "101327",
                  "1": "644",
                  "2": "1"
                },
                {
                  "0": "101923",
                  "1": "4198",
                  "2": "1"
                },
                {
                  "0": "101790",
                  "1": "1467",
                  "2": "1"
                },
                {
                  "0": "101935",
                  "1": "4056",
                  "2": "1"
                },
                {
                  "0": "101359",
                  "1": "1384",
                  "2": "1"
                },
                {
                  "0": "101938",
                  "1": "3473",
                  "2": "1"
                },
                {
                  "0": "101383",
                  "1": "2217",
                  "2": "1"
                },
                {
                  "0": "101951",
                  "1": "431",
                  "2": "1"
                },
                {
                  "0": "101412",
                  "1": "3287",
                  "2": "1"
                },
                {
                  "0": "101965",
                  "1": "1153",
                  "2": "1"
                },
                {
                  "0": "101438",
                  "1": "2392",
                  "2": "1"
                },
                {
                  "0": "101983",
                  "1": "66",
                  "2": "1"
                },
                {
                  "0": "101466",
                  "1": "4630",
                  "2": "1"
                },
                {
                  "0": "102006",
                  "1": "3884",
                  "2": "1"
                },
                {
                  "0": "101499",
                  "1": "932",
                  "2": "1"
                },
                {
                  "0": "102031",
                  "1": "2984",
                  "2": "1"
                },
                {
                  "0": "101519",
                  "1": "2718",
                  "2": "1"
                },
                {
                  "0": "102038",
                  "1": "3384",
                  "2": "1"
                },
                {
                  "0": "101552",
                  "1": "1113",
                  "2": "1"
                },
                {
                  "0": "102062",
                  "1": "1143",
                  "2": "1"
                },
                {
                  "0": "101560",
                  "1": "1452",
                  "2": "1"
                },
                {
                  "0": "102079",
                  "1": "4449",
                  "2": "1"
                },
                {
                  "0": "101572",
                  "1": "1330",
                  "2": "1"
                },
                {
                  "0": "102096",
                  "1": "4955",
                  "2": "1"
                },
                {
                  "0": "101585",
                  "1": "3317",
                  "2": "1"
                },
                {
                  "0": "102096",
                  "1": "4936",
                  "2": "1"
                },
                {
                  "0": "101587",
                  "1": "3663",
                  "2": "1"
                },
                {
                  "0": "102105",
                  "1": "3171",
                  "2": "1"
                },
                {
                  "0": "101592",
                  "1": "1286",
                  "2": "1"
                },
                {
                  "0": "102112",
                  "1": "2916",
                  "2": "1"
                },
                {
                  "0": "101619",
                  "1": "1982",
                  "2": "1"
                },
                {
                  "0": "102120",
                  "1": "4255",
                  "2": "1"
                },
                {
                  "0": "101624",
                  "1": "2126",
                  "2": "1"
                },
                {
                  "0": "102120",
                  "1": "543",
                  "2": "1"
                },
                {
                  "0": "101658",
                  "1": "606",
                  "2": "1"
                },
                {
                  "0": "102138",
                  "1": "1937",
                  "2": "1"
                },
                {
                  "0": "101684",
                  "1": "82",
                  "2": "1"
                },
                {
                  "0": "102144",
                  "1": "4990",
                  "2": "1"
                },
                {
                  "0": "101696",
                  "1": "437",
                  "2": "1"
                },
                {
                  "0": "102158",
                  "1": "3430",
                  "2": "1"
                },
                {
                  "0": "101712",
                  "1": "4114",
                  "2": "1"
                },
                {
                  "0": "102180",
                  "1": "819",
                  "2": "1"
                },
                {
                  "0": "101721",
                  "1": "1356",
                  "2": "1"
                },
                {
                  "0": "102204",
                  "1": "697",
                  "2": "1"
                },
                {
                  "0": "101726",
                  "1": "105",
                  "2": "1"
                },
                {
                  "0": "102206",
                  "1": "986",
                  "2": "1"
                },
                {
                  "0": "101759",
                  "1": "796",
                  "2": "1"
                },
                {
                  "0": "102212",
                  "1": "1165",
                  "2": "1"
                },
                {
                  "0": "101789",
                  "1": "4732",
                  "2": "1"
                },
                {
                  "0": "102228",
                  "1": "3509",
                  "2": "1"
                },
                {
                  "0": "102311",
                  "1": "536",
                  "2": "1"
                },
                {
                  "0": "102333",
                  "1": "3924",
                  "2": "1"
                },
                {
                  "0": "101003",
                  "1": "1823",
                  "2": "1"
                },
                {
                  "0": "102334",
                  "1": "4714",
                  "2": "1"
                },
                {
                  "0": "101031",
                  "1": "4784",
                  "2": "1"
                },
                {
                  "0": "102335",
                  "1": "4322",
                  "2": "1"
                },
                {
                  "0": "101051",
                  "1": "3236",
                  "2": "1"
                },
                {
                  "0": "102344",
                  "1": "2944",
                  "2": "1"
                },
                {
                  "0": "101096",
                  "1": "2361",
                  "2": "1"
                },
                {
                  "0": "102364",
                  "1": "2850",
                  "2": "1"
                },
                {
                  "0": "101339",
                  "1": "3863",
                  "2": "1"
                },
                {
                  "0": "102364",
                  "1": "4526",
                  "2": "1"
                },
                {
                  "0": "101184",
                  "1": "512",
                  "2": "1"
                },
                {
                  "0": "102367",
                  "1": "217",
                  "2": "1"
                },
                {
                  "0": "101230",
                  "1": "4447",
                  "2": "1"
                }
              ],
              "schema": [
                {
                  "key": "0",
                  "name": "visitorId",
                  "type": "bigint"
                },
                {
                  "key": "1",
                  "name": "productId",
                  "type": "bigint"
                },
                {
                  "key": "2",
                  "name": "itemsPurchasedLast12Months",
                  "type": "bigint"
                }
              ],
              "truncated": false
            },
            "isSummary": false,
            "language": "scala"
          },
          "persist_state": {
            "view": {
              "type": "details",
              "tableOptions": {},
              "chartOptions": {
                "chartType": "bar",
                "aggregationType": "sum",
                "categoryFieldKeys": [
                  "1"
                ],
                "seriesFieldKeys": [
                  "0"
                ],
                "isStacked": false
              }
            }
          }
        },
        "90e4543b-ce9e-4999-b5f4-b0bc4561d4f7": {
          "type": "Synapse.DataFrame",
          "sync_state": {
            "table": {
              "rows": [
                {
                  "0": "117901",
                  "1": "444",
                  "2": "99"
                },
                {
                  "0": "106847",
                  "1": "781",
                  "2": "99"
                },
                {
                  "0": "117914",
                  "1": "2002",
                  "2": "99"
                },
                {
                  "0": "117019",
                  "1": "1876",
                  "2": "99"
                },
                {
                  "0": "117916",
                  "1": "4523",
                  "2": "99"
                },
                {
                  "0": "117044",
                  "1": "4502",
                  "2": "99"
                },
                {
                  "0": "117919",
                  "1": "1686",
                  "2": "99"
                },
                {
                  "0": "117060",
                  "1": "1044",
                  "2": "99"
                },
                {
                  "0": "117930",
                  "1": "2590",
                  "2": "99"
                },
                {
                  "0": "117068",
                  "1": "3151",
                  "2": "99"
                },
                {
                  "0": "117939",
                  "1": "3828",
                  "2": "99"
                },
                {
                  "0": "117084",
                  "1": "912",
                  "2": "99"
                },
                {
                  "0": "117946",
                  "1": "511",
                  "2": "99"
                },
                {
                  "0": "117135",
                  "1": "2972",
                  "2": "99"
                },
                {
                  "0": "117951",
                  "1": "593",
                  "2": "99"
                },
                {
                  "0": "117179",
                  "1": "1569",
                  "2": "99"
                },
                {
                  "0": "117971",
                  "1": "37",
                  "2": "99"
                },
                {
                  "0": "117199",
                  "1": "2093",
                  "2": "99"
                },
                {
                  "0": "117973",
                  "1": "1395",
                  "2": "99"
                },
                {
                  "0": "117231",
                  "1": "1757",
                  "2": "99"
                },
                {
                  "0": "117989",
                  "1": "4820",
                  "2": "99"
                },
                {
                  "0": "117247",
                  "1": "2484",
                  "2": "99"
                },
                {
                  "0": "117991",
                  "1": "4362",
                  "2": "99"
                },
                {
                  "0": "117255",
                  "1": "2686",
                  "2": "99"
                },
                {
                  "0": "117996",
                  "1": "4071",
                  "2": "99"
                },
                {
                  "0": "117284",
                  "1": "499",
                  "2": "99"
                },
                {
                  "0": "117998",
                  "1": "3347",
                  "2": "99"
                },
                {
                  "0": "117287",
                  "1": "503",
                  "2": "99"
                },
                {
                  "0": "106004",
                  "1": "3853",
                  "2": "99"
                },
                {
                  "0": "117301",
                  "1": "2087",
                  "2": "99"
                },
                {
                  "0": "106006",
                  "1": "1862",
                  "2": "99"
                },
                {
                  "0": "117321",
                  "1": "4648",
                  "2": "99"
                },
                {
                  "0": "106011",
                  "1": "4345",
                  "2": "99"
                },
                {
                  "0": "117349",
                  "1": "442",
                  "2": "99"
                },
                {
                  "0": "106013",
                  "1": "1720",
                  "2": "99"
                },
                {
                  "0": "117358",
                  "1": "2458",
                  "2": "99"
                },
                {
                  "0": "106026",
                  "1": "3961",
                  "2": "99"
                },
                {
                  "0": "117376",
                  "1": "639",
                  "2": "99"
                },
                {
                  "0": "106028",
                  "1": "2604",
                  "2": "99"
                },
                {
                  "0": "117381",
                  "1": "177",
                  "2": "99"
                },
                {
                  "0": "106034",
                  "1": "4386",
                  "2": "99"
                },
                {
                  "0": "117404",
                  "1": "2068",
                  "2": "99"
                },
                {
                  "0": "106037",
                  "1": "1722",
                  "2": "99"
                },
                {
                  "0": "117420",
                  "1": "1000",
                  "2": "99"
                },
                {
                  "0": "106038",
                  "1": "3367",
                  "2": "99"
                },
                {
                  "0": "117421",
                  "1": "2789",
                  "2": "99"
                },
                {
                  "0": "106042",
                  "1": "1312",
                  "2": "99"
                },
                {
                  "0": "117423",
                  "1": "2067",
                  "2": "99"
                },
                {
                  "0": "106043",
                  "1": "3032",
                  "2": "99"
                },
                {
                  "0": "117427",
                  "1": "2355",
                  "2": "99"
                },
                {
                  "0": "106047",
                  "1": "4330",
                  "2": "99"
                },
                {
                  "0": "117435",
                  "1": "18",
                  "2": "99"
                },
                {
                  "0": "106051",
                  "1": "3441",
                  "2": "99"
                },
                {
                  "0": "117450",
                  "1": "2877",
                  "2": "99"
                },
                {
                  "0": "106053",
                  "1": "4679",
                  "2": "99"
                },
                {
                  "0": "117515",
                  "1": "1863",
                  "2": "99"
                },
                {
                  "0": "106056",
                  "1": "666",
                  "2": "99"
                },
                {
                  "0": "117582",
                  "1": "2404",
                  "2": "99"
                },
                {
                  "0": "106057",
                  "1": "2002",
                  "2": "99"
                },
                {
                  "0": "117591",
                  "1": "4721",
                  "2": "99"
                },
                {
                  "0": "106059",
                  "1": "4276",
                  "2": "99"
                },
                {
                  "0": "117608",
                  "1": "1628",
                  "2": "99"
                },
                {
                  "0": "106068",
                  "1": "1705",
                  "2": "99"
                },
                {
                  "0": "117620",
                  "1": "1806",
                  "2": "99"
                },
                {
                  "0": "106073",
                  "1": "3446",
                  "2": "99"
                },
                {
                  "0": "117629",
                  "1": "4549",
                  "2": "99"
                },
                {
                  "0": "106079",
                  "1": "3508",
                  "2": "99"
                },
                {
                  "0": "117644",
                  "1": "4188",
                  "2": "99"
                },
                {
                  "0": "106080",
                  "1": "2606",
                  "2": "99"
                },
                {
                  "0": "117689",
                  "1": "2760",
                  "2": "99"
                },
                {
                  "0": "106081",
                  "1": "9",
                  "2": "99"
                },
                {
                  "0": "117705",
                  "1": "2535",
                  "2": "99"
                },
                {
                  "0": "106087",
                  "1": "1944",
                  "2": "99"
                },
                {
                  "0": "117730",
                  "1": "4921",
                  "2": "99"
                },
                {
                  "0": "106088",
                  "1": "1376",
                  "2": "99"
                },
                {
                  "0": "117752",
                  "1": "3966",
                  "2": "99"
                },
                {
                  "0": "106094",
                  "1": "4651",
                  "2": "99"
                },
                {
                  "0": "117801",
                  "1": "4299",
                  "2": "99"
                },
                {
                  "0": "106098",
                  "1": "1617",
                  "2": "99"
                },
                {
                  "0": "117826",
                  "1": "4825",
                  "2": "99"
                },
                {
                  "0": "106100",
                  "1": "394",
                  "2": "99"
                },
                {
                  "0": "117835",
                  "1": "2190",
                  "2": "99"
                },
                {
                  "0": "106103",
                  "1": "3491",
                  "2": "99"
                },
                {
                  "0": "117870",
                  "1": "967",
                  "2": "99"
                },
                {
                  "0": "106138",
                  "1": "4254",
                  "2": "99"
                },
                {
                  "0": "117890",
                  "1": "4607",
                  "2": "99"
                },
                {
                  "0": "106140",
                  "1": "1427",
                  "2": "99"
                },
                {
                  "0": "117892",
                  "1": "4263",
                  "2": "99"
                },
                {
                  "0": "106154",
                  "1": "525",
                  "2": "99"
                },
                {
                  "0": "106231",
                  "1": "108",
                  "2": "99"
                },
                {
                  "0": "106846",
                  "1": "4299",
                  "2": "99"
                },
                {
                  "0": "106233",
                  "1": "1209",
                  "2": "99"
                },
                {
                  "0": "117035",
                  "1": "2568",
                  "2": "99"
                },
                {
                  "0": "106240",
                  "1": "4701",
                  "2": "99"
                },
                {
                  "0": "117068",
                  "1": "4441",
                  "2": "99"
                },
                {
                  "0": "106255",
                  "1": "159",
                  "2": "99"
                },
                {
                  "0": "117087",
                  "1": "3490",
                  "2": "99"
                },
                {
                  "0": "106258",
                  "1": "2714",
                  "2": "99"
                },
                {
                  "0": "117194",
                  "1": "4164",
                  "2": "99"
                },
                {
                  "0": "106283",
                  "1": "4745",
                  "2": "99"
                }
              ],
              "schema": [
                {
                  "key": "0",
                  "name": "visitorId",
                  "type": "bigint"
                },
                {
                  "key": "1",
                  "name": "productId",
                  "type": "bigint"
                },
                {
                  "key": "2",
                  "name": "itemsPurchasedLast12Months",
                  "type": "bigint"
                }
              ],
              "truncated": false
            },
            "isSummary": false,
            "language": "scala"
          },
          "persist_state": {
            "view": {
              "type": "details",
              "tableOptions": {},
              "chartOptions": {
                "chartType": "bar",
                "aggregationType": "sum",
                "categoryFieldKeys": [
                  "1"
                ],
                "seriesFieldKeys": [
                  "0"
                ],
                "isStacked": false
              }
            }
          }
        },
        "d65c99d7-dc47-4176-92bc-dc8d9eecb927": {
          "type": "Synapse.DataFrame",
          "sync_state": {
            "table": {
              "rows": [
                {
                  "0": "80000",
                  "1": "20"
                },
                {
                  "0": "80001",
                  "1": "20"
                },
                {
                  "0": "80002",
                  "1": "15"
                },
                {
                  "0": "80003",
                  "1": "12"
                },
                {
                  "0": "80004",
                  "1": "10"
                },
                {
                  "0": "80005",
                  "1": "13"
                },
                {
                  "0": "80006",
                  "1": "6"
                },
                {
                  "0": "80007",
                  "1": "18"
                },
                {
                  "0": "80008",
                  "1": "4"
                },
                {
                  "0": "80009",
                  "1": "16"
                },
                {
                  "0": "80010",
                  "1": "3"
                },
                {
                  "0": "80011",
                  "1": "17"
                },
                {
                  "0": "80012",
                  "1": "19"
                },
                {
                  "0": "80013",
                  "1": "6"
                },
                {
                  "0": "80014",
                  "1": "20"
                },
                {
                  "0": "80015",
                  "1": "12"
                },
                {
                  "0": "80016",
                  "1": "6"
                },
                {
                  "0": "80017",
                  "1": "1"
                },
                {
                  "0": "80018",
                  "1": "17"
                },
                {
                  "0": "80019",
                  "1": "14"
                },
                {
                  "0": "80020",
                  "1": "9"
                },
                {
                  "0": "80021",
                  "1": "18"
                },
                {
                  "0": "80022",
                  "1": "13"
                },
                {
                  "0": "80023",
                  "1": "10"
                },
                {
                  "0": "80024",
                  "1": "4"
                },
                {
                  "0": "80025",
                  "1": "13"
                },
                {
                  "0": "80026",
                  "1": "19"
                },
                {
                  "0": "80027",
                  "1": "13"
                },
                {
                  "0": "80028",
                  "1": "1"
                },
                {
                  "0": "80029",
                  "1": "4"
                },
                {
                  "0": "80030",
                  "1": "1"
                },
                {
                  "0": "80031",
                  "1": "9"
                },
                {
                  "0": "80032",
                  "1": "17"
                },
                {
                  "0": "80033",
                  "1": "8"
                },
                {
                  "0": "80034",
                  "1": "14"
                },
                {
                  "0": "80035",
                  "1": "11"
                },
                {
                  "0": "80036",
                  "1": "19"
                },
                {
                  "0": "80037",
                  "1": "10"
                },
                {
                  "0": "80038",
                  "1": "3"
                },
                {
                  "0": "80039",
                  "1": "4"
                },
                {
                  "0": "80040",
                  "1": "17"
                },
                {
                  "0": "80041",
                  "1": "6"
                },
                {
                  "0": "80042",
                  "1": "9"
                },
                {
                  "0": "80043",
                  "1": "2"
                },
                {
                  "0": "80044",
                  "1": "19"
                },
                {
                  "0": "80045",
                  "1": "6"
                },
                {
                  "0": "80046",
                  "1": "17"
                },
                {
                  "0": "80047",
                  "1": "4"
                },
                {
                  "0": "80048",
                  "1": "13"
                },
                {
                  "0": "80049",
                  "1": "16"
                },
                {
                  "0": "80050",
                  "1": "5"
                },
                {
                  "0": "80051",
                  "1": "17"
                },
                {
                  "0": "80052",
                  "1": "9"
                },
                {
                  "0": "80053",
                  "1": "4"
                },
                {
                  "0": "80054",
                  "1": "10"
                },
                {
                  "0": "80055",
                  "1": "18"
                },
                {
                  "0": "80056",
                  "1": "13"
                },
                {
                  "0": "80057",
                  "1": "9"
                },
                {
                  "0": "80058",
                  "1": "3"
                },
                {
                  "0": "80059",
                  "1": "14"
                },
                {
                  "0": "80060",
                  "1": "4"
                },
                {
                  "0": "80061",
                  "1": "6"
                },
                {
                  "0": "80062",
                  "1": "19"
                },
                {
                  "0": "80063",
                  "1": "3"
                },
                {
                  "0": "80064",
                  "1": "3"
                },
                {
                  "0": "80066",
                  "1": "4"
                },
                {
                  "0": "80067",
                  "1": "6"
                },
                {
                  "0": "80068",
                  "1": "5"
                },
                {
                  "0": "80069",
                  "1": "11"
                },
                {
                  "0": "80070",
                  "1": "8"
                },
                {
                  "0": "80071",
                  "1": "8"
                },
                {
                  "0": "80072",
                  "1": "5"
                },
                {
                  "0": "80073",
                  "1": "14"
                },
                {
                  "0": "80074",
                  "1": "12"
                },
                {
                  "0": "80075",
                  "1": "7"
                },
                {
                  "0": "80076",
                  "1": "12"
                },
                {
                  "0": "80077",
                  "1": "1"
                },
                {
                  "0": "80078",
                  "1": "6"
                },
                {
                  "0": "80079",
                  "1": "4"
                },
                {
                  "0": "80080",
                  "1": "19"
                },
                {
                  "0": "80081",
                  "1": "14"
                },
                {
                  "0": "80082",
                  "1": "15"
                },
                {
                  "0": "80083",
                  "1": "12"
                },
                {
                  "0": "80084",
                  "1": "5"
                },
                {
                  "0": "80086",
                  "1": "7"
                },
                {
                  "0": "80087",
                  "1": "1"
                },
                {
                  "0": "80088",
                  "1": "2"
                },
                {
                  "0": "80089",
                  "1": "9"
                },
                {
                  "0": "80090",
                  "1": "1"
                },
                {
                  "0": "80091",
                  "1": "10"
                },
                {
                  "0": "80092",
                  "1": "11"
                },
                {
                  "0": "80093",
                  "1": "6"
                },
                {
                  "0": "80094",
                  "1": "19"
                },
                {
                  "0": "80095",
                  "1": "1"
                },
                {
                  "0": "80096",
                  "1": "19"
                },
                {
                  "0": "80097",
                  "1": "19"
                },
                {
                  "0": "80098",
                  "1": "15"
                },
                {
                  "0": "80099",
                  "1": "8"
                },
                {
                  "0": "80100",
                  "1": "11"
                },
                {
                  "0": "80101",
                  "1": "6"
                }
              ],
              "schema": [
                {
                  "key": "0",
                  "name": "visitorId",
                  "type": "bigint"
                },
                {
                  "key": "1",
                  "name": "total",
                  "type": "bigint"
                }
              ],
              "truncated": false
            },
            "isSummary": false,
            "language": "scala"
          },
          "persist_state": {
            "view": {
              "type": "details",
              "tableOptions": {},
              "chartOptions": {
                "chartType": "bar",
                "aggregationType": "sum",
                "categoryFieldKeys": [
                  "1"
                ],
                "seriesFieldKeys": [
                  "0"
                ],
                "isStacked": false
              }
            }
          }
        },
        "345ca825-9952-49a8-b50e-0c570787698f": {
          "type": "Synapse.DataFrame",
          "sync_state": {
            "table": {
              "rows": [
                {
                  "0": "80000",
                  "1": "1054"
                },
                {
                  "0": "80001",
                  "1": "834"
                },
                {
                  "0": "80002",
                  "1": "754"
                },
                {
                  "0": "80003",
                  "1": "684"
                },
                {
                  "0": "80004",
                  "1": "598"
                },
                {
                  "0": "80005",
                  "1": "615"
                },
                {
                  "0": "80006",
                  "1": "348"
                },
                {
                  "0": "80007",
                  "1": "932"
                },
                {
                  "0": "80008",
                  "1": "199"
                },
                {
                  "0": "80009",
                  "1": "787"
                },
                {
                  "0": "80010",
                  "1": "97"
                },
                {
                  "0": "80011",
                  "1": "931"
                },
                {
                  "0": "80012",
                  "1": "1042"
                },
                {
                  "0": "80013",
                  "1": "313"
                },
                {
                  "0": "80014",
                  "1": "1084"
                },
                {
                  "0": "80015",
                  "1": "496"
                },
                {
                  "0": "80016",
                  "1": "429"
                },
                {
                  "0": "80017",
                  "1": "76"
                },
                {
                  "0": "80018",
                  "1": "733"
                },
                {
                  "0": "80019",
                  "1": "743"
                },
                {
                  "0": "80020",
                  "1": "502"
                },
                {
                  "0": "80021",
                  "1": "921"
                },
                {
                  "0": "80022",
                  "1": "662"
                },
                {
                  "0": "80023",
                  "1": "461"
                },
                {
                  "0": "80024",
                  "1": "143"
                },
                {
                  "0": "80025",
                  "1": "747"
                },
                {
                  "0": "80026",
                  "1": "909"
                },
                {
                  "0": "80027",
                  "1": "681"
                },
                {
                  "0": "80028",
                  "1": "72"
                },
                {
                  "0": "80029",
                  "1": "227"
                },
                {
                  "0": "80030",
                  "1": "4"
                },
                {
                  "0": "80031",
                  "1": "654"
                },
                {
                  "0": "80032",
                  "1": "877"
                },
                {
                  "0": "80033",
                  "1": "331"
                },
                {
                  "0": "80034",
                  "1": "651"
                },
                {
                  "0": "80035",
                  "1": "496"
                },
                {
                  "0": "80036",
                  "1": "1045"
                },
                {
                  "0": "80037",
                  "1": "476"
                },
                {
                  "0": "80038",
                  "1": "139"
                },
                {
                  "0": "80039",
                  "1": "211"
                },
                {
                  "0": "80040",
                  "1": "913"
                },
                {
                  "0": "80041",
                  "1": "290"
                },
                {
                  "0": "80042",
                  "1": "427"
                },
                {
                  "0": "80043",
                  "1": "24"
                },
                {
                  "0": "80044",
                  "1": "728"
                },
                {
                  "0": "80045",
                  "1": "314"
                },
                {
                  "0": "80046",
                  "1": "613"
                },
                {
                  "0": "80047",
                  "1": "194"
                },
                {
                  "0": "80048",
                  "1": "708"
                },
                {
                  "0": "80049",
                  "1": "981"
                },
                {
                  "0": "80050",
                  "1": "234"
                },
                {
                  "0": "80051",
                  "1": "788"
                },
                {
                  "0": "80052",
                  "1": "395"
                },
                {
                  "0": "80053",
                  "1": "234"
                },
                {
                  "0": "80054",
                  "1": "391"
                },
                {
                  "0": "80055",
                  "1": "1137"
                },
                {
                  "0": "80056",
                  "1": "440"
                },
                {
                  "0": "80057",
                  "1": "474"
                },
                {
                  "0": "80058",
                  "1": "50"
                },
                {
                  "0": "80059",
                  "1": "677"
                },
                {
                  "0": "80060",
                  "1": "158"
                },
                {
                  "0": "80061",
                  "1": "212"
                },
                {
                  "0": "80062",
                  "1": "1009"
                },
                {
                  "0": "80063",
                  "1": "113"
                },
                {
                  "0": "80064",
                  "1": "132"
                },
                {
                  "0": "80066",
                  "1": "141"
                },
                {
                  "0": "80067",
                  "1": "381"
                },
                {
                  "0": "80068",
                  "1": "329"
                },
                {
                  "0": "80069",
                  "1": "524"
                },
                {
                  "0": "80070",
                  "1": "422"
                },
                {
                  "0": "80071",
                  "1": "322"
                },
                {
                  "0": "80072",
                  "1": "352"
                },
                {
                  "0": "80073",
                  "1": "770"
                },
                {
                  "0": "80074",
                  "1": "398"
                },
                {
                  "0": "80075",
                  "1": "185"
                },
                {
                  "0": "80076",
                  "1": "425"
                },
                {
                  "0": "80077",
                  "1": "84"
                },
                {
                  "0": "80078",
                  "1": "383"
                },
                {
                  "0": "80079",
                  "1": "250"
                },
                {
                  "0": "80080",
                  "1": "946"
                },
                {
                  "0": "80081",
                  "1": "540"
                },
                {
                  "0": "80082",
                  "1": "566"
                },
                {
                  "0": "80083",
                  "1": "726"
                },
                {
                  "0": "80084",
                  "1": "257"
                },
                {
                  "0": "80086",
                  "1": "270"
                },
                {
                  "0": "80087",
                  "1": "20"
                },
                {
                  "0": "80088",
                  "1": "27"
                },
                {
                  "0": "80089",
                  "1": "488"
                },
                {
                  "0": "80090",
                  "1": "34"
                },
                {
                  "0": "80091",
                  "1": "314"
                },
                {
                  "0": "80092",
                  "1": "535"
                },
                {
                  "0": "80093",
                  "1": "279"
                },
                {
                  "0": "80094",
                  "1": "937"
                },
                {
                  "0": "80095",
                  "1": "42"
                },
                {
                  "0": "80096",
                  "1": "807"
                },
                {
                  "0": "80097",
                  "1": "984"
                },
                {
                  "0": "80098",
                  "1": "744"
                },
                {
                  "0": "80099",
                  "1": "375"
                },
                {
                  "0": "80100",
                  "1": "510"
                },
                {
                  "0": "80101",
                  "1": "222"
                }
              ],
              "schema": [
                {
                  "key": "0",
                  "name": "visitorId",
                  "type": "bigint"
                },
                {
                  "key": "1",
                  "name": "totalItemsPurchased",
                  "type": "bigint"
                }
              ],
              "truncated": false
            },
            "isSummary": false,
            "language": "scala"
          },
          "persist_state": {
            "view": {
              "type": "details",
              "tableOptions": {},
              "chartOptions": {
                "chartType": "bar",
                "aggregationType": "sum",
                "categoryFieldKeys": [
                  "1"
                ],
                "seriesFieldKeys": [
                  "0"
                ],
                "isStacked": false
              }
            }
          }
        },
        "ed5ef3be-8e7c-46f5-9b2d-7e23ecd78a60": {
          "type": "Synapse.DataFrame",
          "sync_state": {
            "table": {
              "rows": [
                {
                  "0": "6efc5ea6-36f6-4c4c-9129-56be367d9136",
                  "1": "1",
                  "2": "2857",
                  "3": 4,
                  "4": "20.080000000000000000",
                  "5": "80.320000000000000000",
                  "6": "20191230",
                  "7": "24.000000000000000000",
                  "8": 19,
                  "9": 38,
                  "10": "7405"
                },
                {
                  "0": "6efc5ea6-36f6-4c4c-9129-56be367d9136",
                  "1": "1",
                  "2": "1488",
                  "3": 1,
                  "4": "26.840000000000000000",
                  "5": "26.840000000000000000",
                  "6": "20191230",
                  "7": "6.610000000000000000",
                  "8": 19,
                  "9": 38,
                  "10": "7405"
                },
                {
                  "0": "6efc5ea6-36f6-4c4c-9129-56be367d9136",
                  "1": "1",
                  "2": "4021",
                  "3": 3,
                  "4": "31.120000000000000000",
                  "5": "93.360000000000000000",
                  "6": "20191230",
                  "7": "28.110000000000000000",
                  "8": 19,
                  "9": 38,
                  "10": "7405"
                },
                {
                  "0": "6efc5ea6-36f6-4c4c-9129-56be367d9136",
                  "1": "1",
                  "2": "728",
                  "3": 1,
                  "4": "28.390000000000000000",
                  "5": "28.390000000000000000",
                  "6": "20191230",
                  "7": "9.740000000000000000",
                  "8": 19,
                  "9": 38,
                  "10": "7405"
                },
                {
                  "0": "6efc5ea6-36f6-4c4c-9129-56be367d9136",
                  "1": "1",
                  "2": "3107",
                  "3": 1,
                  "4": "26.010000000000000000",
                  "5": "26.010000000000000000",
                  "6": "20191230",
                  "7": "7.770000000000000000",
                  "8": 19,
                  "9": 38,
                  "10": "7405"
                },
                {
                  "0": "6efc5ea6-36f6-4c4c-9129-56be367d9136",
                  "1": "1",
                  "2": "2646",
                  "3": 2,
                  "4": "25.960000000000000000",
                  "5": "51.920000000000000000",
                  "6": "20191230",
                  "7": "13.940000000000000000",
                  "8": 19,
                  "9": 38,
                  "10": "7405"
                },
                {
                  "0": "6efc5ea6-36f6-4c4c-9129-56be367d9136",
                  "1": "1",
                  "2": "2005",
                  "3": 2,
                  "4": "32.460000000000000000",
                  "5": "64.920000000000000000",
                  "6": "20191230",
                  "7": "17.600000000000000000",
                  "8": 19,
                  "9": 38,
                  "10": "7405"
                },
                {
                  "0": "6efc5ea6-36f6-4c4c-9129-56be367d9136",
                  "1": "1",
                  "2": "2848",
                  "3": 4,
                  "4": "20.200000000000000000",
                  "5": "80.800000000000000000",
                  "6": "20191230",
                  "7": "28.600000000000000000",
                  "8": 19,
                  "9": 38,
                  "10": "7405"
                },
                {
                  "0": "6efc5ea6-36f6-4c4c-9129-56be367d9136",
                  "1": "1",
                  "2": "248",
                  "3": 2,
                  "4": "25.490000000000000000",
                  "5": "50.980000000000000000",
                  "6": "20191230",
                  "7": "13.340000000000000000",
                  "8": 19,
                  "9": 38,
                  "10": "7405"
                },
                {
                  "0": "6efc5ea6-36f6-4c4c-9129-56be367d9136",
                  "1": "1",
                  "2": "141",
                  "3": 4,
                  "4": "22.130000000000000000",
                  "5": "88.520000000000000000",
                  "6": "20191230",
                  "7": "24.480000000000000000",
                  "8": 19,
                  "9": 38,
                  "10": "7405"
                }
              ],
              "schema": [
                {
                  "key": "0",
                  "name": "TransactionId",
                  "type": "string"
                },
                {
                  "key": "1",
                  "name": "CustomerId",
                  "type": "int"
                },
                {
                  "key": "2",
                  "name": "ProductId",
                  "type": "smallint"
                },
                {
                  "key": "3",
                  "name": "Quantity",
                  "type": "tinyint"
                },
                {
                  "key": "4",
                  "name": "Price",
                  "type": "decimal"
                },
                {
                  "key": "5",
                  "name": "TotalAmount",
                  "type": "decimal"
                },
                {
                  "key": "6",
                  "name": "TransactionDate",
                  "type": "int"
                },
                {
                  "key": "7",
                  "name": "ProfitAmount",
                  "type": "decimal"
                },
                {
                  "key": "8",
                  "name": "Hour",
                  "type": "tinyint"
                },
                {
                  "key": "9",
                  "name": "Minute",
                  "type": "tinyint"
                },
                {
                  "key": "10",
                  "name": "StoreId",
                  "type": "smallint"
                }
              ],
              "truncated": false
            },
            "isSummary": false,
            "language": "scala"
          },
          "persist_state": {
            "view": {
              "type": "details",
              "tableOptions": {},
              "chartOptions": {
                "chartType": "bar",
                "aggregationType": "sum",
                "categoryFieldKeys": [
                  "0"
                ],
                "seriesFieldKeys": [
                  "1"
                ],
                "isStacked": false
              }
            }
          }
        },
        "36c2db65-98ad-4b7e-b4cc-07922c7d2fb9": {
          "type": "Synapse.DataFrame",
          "sync_state": {
            "table": {
              "rows": [
                {
                  "0": "107230",
                  "1": "1360",
                  "2": "73"
                },
                {
                  "0": "107230",
                  "1": "693",
                  "2": "91"
                },
                {
                  "0": "107230",
                  "1": "4232",
                  "2": "88"
                },
                {
                  "0": "107230",
                  "1": "4487",
                  "2": "13"
                },
                {
                  "0": "107230",
                  "1": "3544",
                  "2": "20"
                },
                {
                  "0": "107230",
                  "1": "1083",
                  "2": "86"
                },
                {
                  "0": "107230",
                  "1": "321",
                  "2": "52"
                },
                {
                  "0": "107230",
                  "1": "2414",
                  "2": "9"
                },
                {
                  "0": "107230",
                  "1": "888",
                  "2": "3"
                },
                {
                  "0": "107230",
                  "1": "197",
                  "2": "90"
                }
              ],
              "schema": [
                {
                  "key": "0",
                  "name": "visitorId",
                  "type": "bigint"
                },
                {
                  "key": "1",
                  "name": "productId",
                  "type": "bigint"
                },
                {
                  "key": "2",
                  "name": "itemsPurchasedLast12Months",
                  "type": "bigint"
                }
              ],
              "truncated": false
            },
            "isSummary": false,
            "language": "scala"
          },
          "persist_state": {
            "view": {
              "type": "details",
              "tableOptions": {},
              "chartOptions": {
                "chartType": "bar",
                "aggregationType": "sum",
                "categoryFieldKeys": [
                  "1"
                ],
                "seriesFieldKeys": [
                  "0"
                ],
                "isStacked": false
              }
            }
          }
        },
        "ce371ee4-a825-4c9b-899e-1a0b1638f7a5": {
          "type": "Synapse.DataFrame",
          "sync_state": {
            "table": {
              "rows": [
                {
                  "0": "80296",
                  "1": "202",
                  "2": "96.920000000000000000",
                  "3": "4",
                  "4": "52"
                },
                {
                  "0": "80347",
                  "1": "4232",
                  "2": "48.860000000000000000",
                  "3": "2",
                  "4": "89"
                },
                {
                  "0": "80351",
                  "1": "244",
                  "2": "83.960000000000000000",
                  "3": "4",
                  "4": "83"
                },
                {
                  "0": "80659",
                  "1": "2433",
                  "2": "45.520000000000000000",
                  "3": "2",
                  "4": "63"
                },
                {
                  "0": "80922",
                  "1": "963",
                  "2": "100.680000000000000000",
                  "3": "4",
                  "4": "51"
                },
                {
                  "0": "81027",
                  "1": "2158",
                  "2": "43.460000000000000000",
                  "3": "2",
                  "4": "54"
                },
                {
                  "0": "81180",
                  "1": "109",
                  "2": "207.920000000000000000",
                  "3": "8",
                  "4": "50"
                },
                {
                  "0": "81686",
                  "1": "3128",
                  "2": "64.240000000000000000",
                  "3": "2",
                  "4": "93"
                },
                {
                  "0": "82401",
                  "1": "87",
                  "2": "18.430000000000000000",
                  "3": "1",
                  "4": "56"
                },
                {
                  "0": "82442",
                  "1": "3318",
                  "2": "152.040000000000000000",
                  "3": "4",
                  "4": "53"
                },
                {
                  "0": "82467",
                  "1": "3033",
                  "2": "72.720000000000000000",
                  "3": "3",
                  "4": "32"
                },
                {
                  "0": "82625",
                  "1": "104",
                  "2": "35.230000000000000000",
                  "3": "1",
                  "4": "58"
                },
                {
                  "0": "82983",
                  "1": "802",
                  "2": "58.800000000000000000",
                  "3": "2",
                  "4": "4"
                },
                {
                  "0": "83417",
                  "1": "24",
                  "2": "22.280000000000000000",
                  "3": "1",
                  "4": "60"
                },
                {
                  "0": "83425",
                  "1": "158",
                  "2": "45.240000000000000000",
                  "3": "2",
                  "4": "26"
                },
                {
                  "0": "83704",
                  "1": "3164",
                  "2": "116.880000000000000000",
                  "3": "4",
                  "4": "53"
                },
                {
                  "0": "84189",
                  "1": "103",
                  "2": "51.780000000000000000",
                  "3": "2",
                  "4": "29"
                },
                {
                  "0": "84245",
                  "1": "177",
                  "2": "68.940000000000000000",
                  "3": "3",
                  "4": "5"
                },
                {
                  "0": "84418",
                  "1": "4412",
                  "2": "64.800000000000000000",
                  "3": "2",
                  "4": "70"
                },
                {
                  "0": "84464",
                  "1": "2043",
                  "2": "66.600000000000000000",
                  "3": "3",
                  "4": "11"
                },
                {
                  "0": "84483",
                  "1": "1335",
                  "2": "115.560000000000000000",
                  "3": "4",
                  "4": "76"
                },
                {
                  "0": "84543",
                  "1": "1379",
                  "2": "29.290000000000000000",
                  "3": "1",
                  "4": "87"
                },
                {
                  "0": "84558",
                  "1": "116",
                  "2": "49.380000000000000000",
                  "3": "3",
                  "4": "10"
                },
                {
                  "0": "84833",
                  "1": "63",
                  "2": "31.670000000000000000",
                  "3": "1",
                  "4": "41"
                },
                {
                  "0": "85070",
                  "1": "4882",
                  "2": "58.740000000000000000",
                  "3": "2",
                  "4": "92"
                },
                {
                  "0": "85161",
                  "1": "162",
                  "2": "64.420000000000000000",
                  "3": "2",
                  "4": "99"
                },
                {
                  "0": "85170",
                  "1": "2934",
                  "2": "103.860000000000000000",
                  "3": "6",
                  "4": "52"
                },
                {
                  "0": "85501",
                  "1": "682",
                  "2": "74.280000000000000000",
                  "3": "3",
                  "4": "87"
                },
                {
                  "0": "86205",
                  "1": "3173",
                  "2": "52.940000000000000000",
                  "3": "2",
                  "4": "15"
                },
                {
                  "0": "86205",
                  "1": "115",
                  "2": "61.580000000000000000",
                  "3": "2",
                  "4": "53"
                },
                {
                  "0": "86349",
                  "1": "768",
                  "2": "127.440000000000000000",
                  "3": "4",
                  "4": "76"
                },
                {
                  "0": "86456",
                  "1": "347",
                  "2": "29.590000000000000000",
                  "3": "1",
                  "4": "52"
                },
                {
                  "0": "86557",
                  "1": "4475",
                  "2": "86.640000000000000000",
                  "3": "4",
                  "4": "37"
                },
                {
                  "0": "86629",
                  "1": "200",
                  "2": "74.340000000000000000",
                  "3": "3",
                  "4": "32"
                },
                {
                  "0": "86641",
                  "1": "72",
                  "2": "52.060000000000000000",
                  "3": "2",
                  "4": "9"
                },
                {
                  "0": "86811",
                  "1": "3635",
                  "2": "88.800000000000000000",
                  "3": "3",
                  "4": "51"
                },
                {
                  "0": "86846",
                  "1": "152",
                  "2": "75.870000000000000000",
                  "3": "3",
                  "4": "72"
                },
                {
                  "0": "87075",
                  "1": "1777",
                  "2": "139.240000000000000000",
                  "3": "4",
                  "4": "35"
                },
                {
                  "0": "87086",
                  "1": "2362",
                  "2": "35.520000000000000000",
                  "3": "1",
                  "4": "80"
                },
                {
                  "0": "87095",
                  "1": "2911",
                  "2": "65.720000000000000000",
                  "3": "2",
                  "4": "80"
                },
                {
                  "0": "87103",
                  "1": "92",
                  "2": "77.750000000000000000",
                  "3": "5",
                  "4": "82"
                },
                {
                  "0": "87126",
                  "1": "154",
                  "2": "52.280000000000000000",
                  "3": "2",
                  "4": "92"
                },
                {
                  "0": "87126",
                  "1": "172",
                  "2": "36.970000000000000000",
                  "3": "1",
                  "4": "46"
                },
                {
                  "0": "87142",
                  "1": "101",
                  "2": "127.500000000000000000",
                  "3": "3",
                  "4": "60"
                },
                {
                  "0": "87314",
                  "1": "2885",
                  "2": "26.610000000000000000",
                  "3": "1",
                  "4": "67"
                },
                {
                  "0": "87480",
                  "1": "3496",
                  "2": "94.620000000000000000",
                  "3": "3",
                  "4": "56"
                },
                {
                  "0": "87546",
                  "1": "3918",
                  "2": "74.460000000000000000",
                  "3": "3",
                  "4": "70"
                },
                {
                  "0": "87607",
                  "1": "2307",
                  "2": "141.720000000000000000",
                  "3": "4",
                  "4": "17"
                },
                {
                  "0": "87690",
                  "1": "114",
                  "2": "153.920000000000000000",
                  "3": "4",
                  "4": "76"
                },
                {
                  "0": "88259",
                  "1": "2396",
                  "2": "23.530000000000000000",
                  "3": "1",
                  "4": "22"
                },
                {
                  "0": "88440",
                  "1": "5",
                  "2": "50.620000000000000000",
                  "3": "2",
                  "4": "23"
                },
                {
                  "0": "88485",
                  "1": "226",
                  "2": "71.790000000000000000",
                  "3": "3",
                  "4": "20"
                },
                {
                  "0": "88518",
                  "1": "2287",
                  "2": "46.480000000000000000",
                  "3": "2",
                  "4": "16"
                },
                {
                  "0": "88750",
                  "1": "633",
                  "2": "65.320000000000000000",
                  "3": "2",
                  "4": "30"
                },
                {
                  "0": "88796",
                  "1": "885",
                  "2": "26.170000000000000000",
                  "3": "1",
                  "4": "17"
                },
                {
                  "0": "88858",
                  "1": "199",
                  "2": "66.660000000000000000",
                  "3": "2",
                  "4": "45"
                },
                {
                  "0": "89226",
                  "1": "3769",
                  "2": "20.630000000000000000",
                  "3": "1",
                  "4": "12"
                },
                {
                  "0": "89283",
                  "1": "1772",
                  "2": "105.840000000000000000",
                  "3": "4",
                  "4": "34"
                },
                {
                  "0": "89976",
                  "1": "2006",
                  "2": "74.240000000000000000",
                  "3": "4",
                  "4": "51"
                },
                {
                  "0": "90083",
                  "1": "315",
                  "2": "118.880000000000000000",
                  "3": "4",
                  "4": "9"
                },
                {
                  "0": "90131",
                  "1": "4896",
                  "2": "46.260000000000000000",
                  "3": "2",
                  "4": "34"
                },
                {
                  "0": "90335",
                  "1": "1441",
                  "2": "21.270000000000000000",
                  "3": "1",
                  "4": "1"
                },
                {
                  "0": "90367",
                  "1": "3575",
                  "2": "136.320000000000000000",
                  "3": "4",
                  "4": "39"
                },
                {
                  "0": "90652",
                  "1": "34",
                  "2": "88.000000000000000000",
                  "3": "4",
                  "4": "79"
                },
                {
                  "0": "90671",
                  "1": "195",
                  "2": "24.140000000000000000",
                  "3": "1",
                  "4": "7"
                },
                {
                  "0": "91493",
                  "1": "4549",
                  "2": "17.750000000000000000",
                  "3": "1",
                  "4": "31"
                },
                {
                  "0": "91646",
                  "1": "202",
                  "2": "72.690000000000000000",
                  "3": "3",
                  "4": "51"
                },
                {
                  "0": "91798",
                  "1": "224",
                  "2": "125.970000000000000000",
                  "3": "3",
                  "4": "62"
                },
                {
                  "0": "91817",
                  "1": "3651",
                  "2": "101.820000000000000000",
                  "3": "3",
                  "4": "40"
                },
                {
                  "0": "92030",
                  "1": "98",
                  "2": "83.250000000000000000",
                  "3": "3",
                  "4": "88"
                },
                {
                  "0": "92293",
                  "1": "27",
                  "2": "95.280000000000000000",
                  "3": "3",
                  "4": "65"
                },
                {
                  "0": "92456",
                  "1": "242",
                  "2": "104.560000000000000000",
                  "3": "4",
                  "4": "98"
                },
                {
                  "0": "92543",
                  "1": "173",
                  "2": "95.320000000000000000",
                  "3": "4",
                  "4": "60"
                },
                {
                  "0": "92565",
                  "1": "4069",
                  "2": "87.480000000000000000",
                  "3": "3",
                  "4": "93"
                },
                {
                  "0": "92581",
                  "1": "94",
                  "2": "85.680000000000000000",
                  "3": "3",
                  "4": "54"
                },
                {
                  "0": "92623",
                  "1": "2015",
                  "2": "31.660000000000000000",
                  "3": "1",
                  "4": "43"
                },
                {
                  "0": "92794",
                  "1": "2252",
                  "2": "23.790000000000000000",
                  "3": "1",
                  "4": "80"
                },
                {
                  "0": "92961",
                  "1": "780",
                  "2": "68.340000000000000000",
                  "3": "3",
                  "4": "66"
                },
                {
                  "0": "93136",
                  "1": "169",
                  "2": "155.160000000000000000",
                  "3": "4",
                  "4": "74"
                },
                {
                  "0": "93204",
                  "1": "464",
                  "2": "92.480000000000000000",
                  "3": "4",
                  "4": "13"
                },
                {
                  "0": "93507",
                  "1": "170",
                  "2": "55.700000000000000000",
                  "3": "2",
                  "4": "84"
                },
                {
                  "0": "93533",
                  "1": "81",
                  "2": "51.560000000000000000",
                  "3": "2",
                  "4": "19"
                },
                {
                  "0": "93687",
                  "1": "124",
                  "2": "26.150000000000000000",
                  "3": "1",
                  "4": "9"
                },
                {
                  "0": "93837",
                  "1": "2194",
                  "2": "77.550000000000000000",
                  "3": "3",
                  "4": "65"
                },
                {
                  "0": "94256",
                  "1": "2939",
                  "2": "24.670000000000000000",
                  "3": "1",
                  "4": "27"
                },
                {
                  "0": "94337",
                  "1": "3143",
                  "2": "43.700000000000000000",
                  "3": "2",
                  "4": "48"
                },
                {
                  "0": "94573",
                  "1": "4276",
                  "2": "28.970000000000000000",
                  "3": "1",
                  "4": "9"
                },
                {
                  "0": "94643",
                  "1": "213",
                  "2": "87.210000000000000000",
                  "3": "3",
                  "4": "12"
                },
                {
                  "0": "94839",
                  "1": "4472",
                  "2": "25.260000000000000000",
                  "3": "1",
                  "4": "89"
                },
                {
                  "0": "94914",
                  "1": "4767",
                  "2": "63.000000000000000000",
                  "3": "3",
                  "4": "87"
                },
                {
                  "0": "95324",
                  "1": "4866",
                  "2": "142.920000000000000000",
                  "3": "4",
                  "4": "3"
                },
                {
                  "0": "95392",
                  "1": "27",
                  "2": "95.280000000000000000",
                  "3": "3",
                  "4": "41"
                },
                {
                  "0": "95546",
                  "1": "3393",
                  "2": "91.350000000000000000",
                  "3": "3",
                  "4": "96"
                },
                {
                  "0": "95760",
                  "1": "4458",
                  "2": "34.270000000000000000",
                  "3": "1",
                  "4": "78"
                },
                {
                  "0": "95776",
                  "1": "2138",
                  "2": "111.960000000000000000",
                  "3": "4",
                  "4": "47"
                },
                {
                  "0": "95857",
                  "1": "4837",
                  "2": "26.750000000000000000",
                  "3": "1",
                  "4": "27"
                },
                {
                  "0": "95903",
                  "1": "135",
                  "2": "72.480000000000000000",
                  "3": "2",
                  "4": "18"
                },
                {
                  "0": "96097",
                  "1": "4987",
                  "2": "74.900000000000000000",
                  "3": "2",
                  "4": "52"
                },
                {
                  "0": "96124",
                  "1": "3319",
                  "2": "119.480000000000000000",
                  "3": "4",
                  "4": "33"
                },
                {
                  "0": "96219",
                  "1": "3269",
                  "2": "40.040000000000000000",
                  "3": "2",
                  "4": "10"
                }
              ],
              "schema": [
                {
                  "key": "0",
                  "name": "CustomerId",
                  "type": "int"
                },
                {
                  "key": "1",
                  "name": "productId",
                  "type": "bigint"
                },
                {
                  "key": "2",
                  "name": "TotalAmountDecember",
                  "type": "decimal"
                },
                {
                  "key": "3",
                  "name": "TotalQuantityDecember",
                  "type": "bigint"
                },
                {
                  "key": "4",
                  "name": "TotalItemsPurchasedLast12Months",
                  "type": "bigint"
                }
              ],
              "truncated": false
            },
            "isSummary": false,
            "language": "scala"
          },
          "persist_state": {
            "view": {
              "type": "details",
              "tableOptions": {},
              "chartOptions": {
                "chartType": "bar",
                "aggregationType": "sum",
                "categoryFieldKeys": [
                  "1"
                ],
                "seriesFieldKeys": [
                  "0"
                ],
                "isStacked": false
              }
            }
          }
        }
      }
    }
  },
  "nbformat": 4,
  "nbformat_minor": 2
}