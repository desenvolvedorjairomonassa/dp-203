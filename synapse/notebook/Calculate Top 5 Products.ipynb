{
  "cells": [
    {
      "cell_type": "code",
      "source": [
        "%%pyspark\r\n",
        "df = spark.read.load('abfss://wwi-02@asadatalakenm10djs.dfs.core.windows.net/top-products/*.parquet', format='parquet')\r\n",
        "display(df.limit(10))"
      ],
      "outputs": [
        {
          "output_type": "display_data",
          "data": {
            "application/vnd.livy.statement-meta+json": {
              "spark_pool": "SparkPool01",
              "session_id": "5",
              "statement_id": 1,
              "state": "finished",
              "livy_statement_state": "available",
              "queued_time": "2022-10-01T00:40:21.1641981Z",
              "session_start_time": "2022-10-01T00:40:21.2705724Z",
              "execution_start_time": "2022-10-01T00:43:43.5427134Z",
              "execution_finish_time": "2022-10-01T00:44:10.9861925Z",
              "spark_jobs": null
            },
            "text/plain": "StatementMeta(SparkPool01, 5, 1, Finished, Available)"
          },
          "metadata": {}
        },
        {
          "output_type": "display_data",
          "data": {
            "application/vnd.synapse.widget-view+json": {
              "widget_id": "36f25d70-3d16-41ba-af33-babf83a7b21b",
              "widget_type": "Synapse.DataFrame"
            },
            "text/plain": "SynapseWidget(Synapse.DataFrame, 36f25d70-3d16-41ba-af33-babf83a7b21b)"
          },
          "metadata": {}
        }
      ],
      "execution_count": 3,
      "metadata": {
        "microsoft": {
          "language": "python"
        },
        "collapsed": false,
        "jupyter": {
          "outputs_hidden": true
        }
      }
    },
    {
      "cell_type": "code",
      "source": [
        "topPurchases = df.select(\r\n",
        "    \"UserId\", \"ProductId\",\r\n",
        "    \"ItemsPurchasedLast12Months\", \"IsTopProduct\",\r\n",
        "    \"IsPreferredProduct\")\r\n",
        "\r\n",
        "# Populate a temporary view so we can query from SQL\r\n",
        "topPurchases.createOrReplaceTempView(\"top_purchases\")\r\n",
        "\r\n",
        "topPurchases.show(100)"
      ],
      "outputs": [
        {
          "output_type": "display_data",
          "data": {
            "application/vnd.livy.statement-meta+json": {
              "spark_pool": "SparkPool01",
              "session_id": "5",
              "statement_id": 3,
              "state": "finished",
              "livy_statement_state": "available",
              "queued_time": "2022-10-01T00:44:46.8319683Z",
              "session_start_time": null,
              "execution_start_time": "2022-10-01T00:44:46.9600164Z",
              "execution_finish_time": "2022-10-01T00:44:47.5041788Z",
              "spark_jobs": null
            },
            "text/plain": "StatementMeta(SparkPool01, 5, 3, Finished, Available)"
          },
          "metadata": {}
        },
        {
          "output_type": "stream",
          "name": "stdout",
          "text": [
            "+------+---------+--------------------------+------------+------------------+\n|UserId|ProductId|ItemsPurchasedLast12Months|IsTopProduct|IsPreferredProduct|\n+------+---------+--------------------------+------------+------------------+\n| 80332|     2098|                        31|        true|              true|\n| 80332|     2098|                        31|        true|              true|\n| 80332|     1687|                         4|        true|              true|\n| 80332|     1687|                         4|        true|              true|\n| 80332|     2470|                        94|        true|              true|\n| 80332|     2470|                        94|        true|              true|\n| 80332|      420|                        34|        true|              true|\n| 80332|      420|                        34|        true|              true|\n| 80451|     4885|                        96|        true|             false|\n| 81349|     2960|                         3|        true|              true|\n| 81349|     2960|                         3|        true|              true|\n| 81349|     2960|                         3|        true|              true|\n| 81349|     2960|                         3|        true|              true|\n| 81349|     2960|                         3|        true|              true|\n| 81349|     2960|                         3|        true|              true|\n| 81349|     2960|                         3|        true|              true|\n| 81349|     2960|                         3|        true|              true|\n| 81349|     2960|                         3|        true|              true|\n| 81410|     1236|                        95|        true|              true|\n| 81501|     1269|                         5|        true|              true|\n| 81501|     1269|                         5|        true|              true|\n| 81501|     1269|                         5|        true|              true|\n| 81501|     1269|                         5|        true|              true|\n| 81501|     1269|                         5|        true|              true|\n| 81501|     1269|                         5|        true|              true|\n| 81501|     1269|                         5|        true|              true|\n| 81501|     1269|                         5|        true|              true|\n| 81734|     1269|                        70|        true|              true|\n| 81734|     1269|                        70|        true|              true|\n| 81734|     1269|                        70|        true|              true|\n| 81734|     1269|                        70|        true|              true|\n| 81734|     1269|                        70|        true|              true|\n| 81734|     1269|                        70|        true|              true|\n| 82582|     2366|                        34|        true|              true|\n| 82582|     2366|                        34|        true|              true|\n| 82582|     2366|                        34|        true|              true|\n| 82582|     2366|                        34|        true|              true|\n| 82582|     2366|                        34|        true|              true|\n| 82582|     2366|                        34|        true|              true|\n| 82582|     2366|                        34|        true|              true|\n| 82582|     2366|                        34|        true|              true|\n| 82582|     2366|                        34|        true|              true|\n| 82730|     2122|                        66|        true|              true|\n| 82794|     2217|                        79|        true|              true|\n| 82794|     2217|                        79|        true|              true|\n| 82794|     2217|                        79|        true|              true|\n| 82794|     2217|                        79|        true|              true|\n| 82794|     2217|                        79|        true|              true|\n| 83242|      123|                        93|        true|              true|\n| 83242|      123|                        93|        true|              true|\n| 83242|      123|                        93|        true|              true|\n| 83242|      123|                        93|        true|              true|\n| 83861|     1018|                        94|        true|              true|\n| 83861|     1018|                        94|        true|              true|\n| 83861|     1018|                        94|        true|              true|\n| 83861|     1018|                        94|        true|              true|\n| 83861|     1018|                        94|        true|              true|\n| 83861|      622|                        83|        true|              true|\n| 83861|      622|                        83|        true|              true|\n| 83861|      622|                        83|        true|              true|\n| 83861|      622|                        83|        true|              true|\n| 83861|      622|                        83|        true|              true|\n| 85332|     4228|                        43|        true|             false|\n| 87120|     4789|                        38|        true|              true|\n| 87120|     4789|                        38|        true|              true|\n| 87120|     4789|                        38|        true|              true|\n| 87120|     4789|                        38|        true|              true|\n| 87120|     4789|                        38|        true|              true|\n| 87120|     4789|                        38|        true|              true|\n| 87120|     4789|                        38|        true|              true|\n| 87120|     4789|                        38|        true|              true|\n| 87120|     4789|                        38|        true|              true|\n| 87656|     2294|                        17|        true|              true|\n| 87656|     2294|                        17|        true|              true|\n| 87656|     2294|                        17|        true|              true|\n| 87656|     2294|                        17|        true|              true|\n| 87656|     2294|                        17|        true|              true|\n| 87656|     2294|                        17|        true|              true|\n| 87656|     2294|                        17|        true|              true|\n| 87656|     2294|                        17|        true|              true|\n| 87724|      748|                        87|        true|              true|\n| 87724|      748|                        87|        true|              true|\n| 87724|      748|                        87|        true|              true|\n| 87724|      748|                        87|        true|              true|\n| 87724|      748|                        87|        true|              true|\n| 87724|      748|                        87|        true|              true|\n| 87724|     4222|                        98|        true|              true|\n| 87724|     4222|                        98|        true|              true|\n| 87724|     4222|                        98|        true|              true|\n| 87724|     4222|                        98|        true|              true|\n| 87724|     4222|                        98|        true|              true|\n| 87724|     4222|                        98|        true|              true|\n| 88599|     2122|                        49|        true|              true|\n| 88599|     2122|                        49|        true|              true|\n| 88599|     2122|                        49|        true|              true|\n| 88599|     2122|                        49|        true|              true|\n| 88599|     2122|                        49|        true|              true|\n| 88599|     2122|                        49|        true|              true|\n| 88674|      314|                        53|        true|              true|\n| 88674|      314|                        53|        true|              true|\n+------+---------+--------------------------+------------+------------------+\nonly showing top 100 rows\n\n"
          ]
        }
      ],
      "execution_count": 5,
      "metadata": {
        "jupyter": {
          "source_hidden": false,
          "outputs_hidden": true
        },
        "nteract": {
          "transient": {
            "deleting": false
          }
        }
      }
    },
    {
      "cell_type": "code",
      "source": [
        "from pyspark.sql.functions import *\r\n",
        "\r\n",
        "topPreferredProducts = (topPurchases\r\n",
        "    .filter( col(\"IsTopProduct\") == True)\r\n",
        "    .filter( col(\"IsPreferredProduct\") == True)\r\n",
        "    .orderBy( col(\"ItemsPurchasedLast12Months\").desc() ))\r\n",
        "\r\n",
        "topPreferredProducts.show(100)"
      ],
      "outputs": [
        {
          "output_type": "display_data",
          "data": {
            "application/vnd.livy.statement-meta+json": {
              "spark_pool": "SparkPool01",
              "session_id": "5",
              "statement_id": 7,
              "state": "finished",
              "livy_statement_state": "available",
              "queued_time": "2022-10-01T00:53:11.8121229Z",
              "session_start_time": null,
              "execution_start_time": "2022-10-01T00:53:11.9486863Z",
              "execution_finish_time": "2022-10-01T00:53:13.8694796Z",
              "spark_jobs": null
            },
            "text/plain": "StatementMeta(SparkPool01, 5, 7, Finished, Available)"
          },
          "metadata": {}
        },
        {
          "output_type": "stream",
          "name": "stdout",
          "text": [
            "+------+---------+--------------------------+------------+------------------+\n|UserId|ProductId|ItemsPurchasedLast12Months|IsTopProduct|IsPreferredProduct|\n+------+---------+--------------------------+------------+------------------+\n| 95450|       31|                        99|        true|              true|\n| 83400|     4561|                        99|        true|              true|\n| 95450|       31|                        99|        true|              true|\n| 88684|     4425|                        99|        true|              true|\n| 95450|       31|                        99|        true|              true|\n| 94788|     3142|                        99|        true|              true|\n| 95450|       31|                        99|        true|              true|\n| 94788|     3142|                        99|        true|              true|\n| 95450|       31|                        99|        true|              true|\n| 82969|     3967|                        99|        true|              true|\n| 98731|     4549|                        99|        true|              true|\n| 88684|     4425|                        99|        true|              true|\n| 98731|     4549|                        99|        true|              true|\n| 88684|     4425|                        99|        true|              true|\n| 98731|     4549|                        99|        true|              true|\n| 94296|     2724|                        99|        true|              true|\n| 98731|     4549|                        99|        true|              true|\n| 82800|     4561|                        99|        true|              true|\n| 98731|     4549|                        99|        true|              true|\n| 94255|     1143|                        99|        true|              true|\n| 95829|     3331|                        99|        true|              true|\n| 94255|     1143|                        99|        true|              true|\n| 95829|     3331|                        99|        true|              true|\n| 93570|     2421|                        99|        true|              true|\n| 95829|     3331|                        99|        true|              true|\n| 95450|       31|                        99|        true|              true|\n| 95829|     3331|                        99|        true|              true|\n| 96339|     2291|                        99|        true|              true|\n| 95829|     3331|                        99|        true|              true|\n| 96339|     2291|                        99|        true|              true|\n| 95829|     3331|                        99|        true|              true|\n| 96339|     2291|                        99|        true|              true|\n| 95829|     3331|                        99|        true|              true|\n| 96339|     2291|                        99|        true|              true|\n| 95829|     3331|                        99|        true|              true|\n| 94921|     4795|                        99|        true|              true|\n| 95829|     3331|                        99|        true|              true|\n| 80191|     3454|                        99|        true|              true|\n| 93968|     4865|                        99|        true|              true|\n| 80191|     3454|                        99|        true|              true|\n| 93968|     4865|                        99|        true|              true|\n| 95929|     2821|                        99|        true|              true|\n| 93968|     4865|                        99|        true|              true|\n| 98283|      171|                        99|        true|              true|\n| 98283|      171|                        99|        true|              true|\n| 88684|     4425|                        99|        true|              true|\n| 98283|      171|                        99|        true|              true|\n| 94788|     3142|                        99|        true|              true|\n| 98283|      171|                        99|        true|              true|\n| 88684|     4425|                        99|        true|              true|\n| 98283|      171|                        99|        true|              true|\n| 94296|     2724|                        99|        true|              true|\n| 99159|     4734|                        99|        true|              true|\n| 94255|     1143|                        99|        true|              true|\n| 99159|     4734|                        99|        true|              true|\n| 93778|     1788|                        99|        true|              true|\n| 99159|     4734|                        99|        true|              true|\n| 95450|       31|                        99|        true|              true|\n| 99159|     4734|                        99|        true|              true|\n| 96339|     2291|                        99|        true|              true|\n| 99159|     4734|                        99|        true|              true|\n| 96339|     2291|                        99|        true|              true|\n| 89431|     2632|                        99|        true|              true|\n| 80191|     3454|                        99|        true|              true|\n| 89431|     2632|                        99|        true|              true|\n| 94921|     4795|                        99|        true|              true|\n| 89431|     2632|                        99|        true|              true|\n| 93968|     4865|                        99|        true|              true|\n| 89431|     2632|                        99|        true|              true|\n| 80790|     2157|                        99|        true|              true|\n| 89431|     2632|                        99|        true|              true|\n| 83565|     3769|                        99|        true|              true|\n| 89431|     2632|                        99|        true|              true|\n| 83565|     3769|                        99|        true|              true|\n| 97444|     1847|                        99|        true|              true|\n| 83565|     3769|                        99|        true|              true|\n| 97444|     1847|                        99|        true|              true|\n| 83565|     3769|                        99|        true|              true|\n| 97444|     1847|                        99|        true|              true|\n| 83565|     3769|                        99|        true|              true|\n| 97444|     1847|                        99|        true|              true|\n| 93279|     1017|                        99|        true|              true|\n| 97444|     1847|                        99|        true|              true|\n| 93279|     1017|                        99|        true|              true|\n| 97444|     1847|                        99|        true|              true|\n| 93279|     1017|                        99|        true|              true|\n| 97444|     1847|                        99|        true|              true|\n| 80272|     3318|                        99|        true|              true|\n| 97444|     1847|                        99|        true|              true|\n| 80272|     3318|                        99|        true|              true|\n| 97444|     1847|                        99|        true|              true|\n| 80272|     3318|                        99|        true|              true|\n| 80331|     1459|                        99|        true|              true|\n| 98283|      171|                        99|        true|              true|\n| 84430|     2245|                        99|        true|              true|\n| 94788|     3142|                        99|        true|              true|\n| 84430|     2245|                        99|        true|              true|\n| 88684|     4425|                        99|        true|              true|\n| 84430|     2245|                        99|        true|              true|\n| 94255|     1143|                        99|        true|              true|\n+------+---------+--------------------------+------------+------------------+\nonly showing top 100 rows\n\n"
          ]
        }
      ],
      "execution_count": 9,
      "metadata": {
        "jupyter": {
          "source_hidden": false,
          "outputs_hidden": true
        },
        "nteract": {
          "transient": {
            "deleting": false
          }
        }
      }
    },
    {
      "cell_type": "code",
      "source": [
        "%%sql\r\n",
        "\r\n",
        "CREATE OR REPLACE TEMPORARY VIEW top_5_products\r\n",
        "AS\r\n",
        "    select UserId, ProductId, ItemsPurchasedLast12Months\r\n",
        "    from (select *,\r\n",
        "                row_number() over (partition by UserId order by ItemsPurchasedLast12Months desc) as seqnum\r\n",
        "        from top_purchases\r\n",
        "        ) a\r\n",
        "    where seqnum <= 5 and IsTopProduct == true and IsPreferredProduct = true\r\n",
        "    order by a.UserId"
      ],
      "outputs": [
        {
          "output_type": "display_data",
          "data": {
            "application/vnd.livy.statement-meta+json": {
              "spark_pool": "SparkPool01",
              "session_id": "5",
              "statement_id": 4,
              "state": "finished",
              "livy_statement_state": "available",
              "queued_time": "2022-10-01T00:45:06.7027215Z",
              "session_start_time": null,
              "execution_start_time": "2022-10-01T00:45:06.8614675Z",
              "execution_finish_time": "2022-10-01T00:45:24.3352251Z",
              "spark_jobs": null
            },
            "text/plain": "StatementMeta(SparkPool01, 5, 4, Finished, Available)"
          },
          "metadata": {}
        },
        {
          "output_type": "execute_result",
          "execution_count": 6,
          "data": {
            "application/vnd.synapse.sparksql-result+json": {
              "schema": {
                "type": "struct",
                "fields": []
              },
              "data": []
            },
            "text/plain": "<Spark SQL result set with 0 rows and 0 fields>"
          },
          "metadata": {}
        }
      ],
      "execution_count": 6,
      "metadata": {
        "jupyter": {
          "source_hidden": false,
          "outputs_hidden": false
        },
        "nteract": {
          "transient": {
            "deleting": false
          }
        },
        "microsoft": {
          "language": "sparksql"
        },
        "collapsed": false
      }
    },
    {
      "cell_type": "code",
      "source": [
        "top5Products = sqlContext.table(\"top_5_products\")\r\n",
        "\r\n",
        "top5Products.show(100)"
      ],
      "outputs": [
        {
          "output_type": "display_data",
          "data": {
            "application/vnd.livy.statement-meta+json": {
              "spark_pool": "SparkPool01",
              "session_id": "5",
              "statement_id": 5,
              "state": "finished",
              "livy_statement_state": "available",
              "queued_time": "2022-10-01T00:46:43.6783768Z",
              "session_start_time": null,
              "execution_start_time": "2022-10-01T00:46:43.8102009Z",
              "execution_finish_time": "2022-10-01T00:46:49.5207945Z",
              "spark_jobs": null
            },
            "text/plain": "StatementMeta(SparkPool01, 5, 5, Finished, Available)"
          },
          "metadata": {}
        },
        {
          "output_type": "stream",
          "name": "stdout",
          "text": [
            "+------+---------+--------------------------+\n|UserId|ProductId|ItemsPurchasedLast12Months|\n+------+---------+--------------------------+\n| 80000|     3794|                        90|\n| 80000|     3794|                        90|\n| 80000|     3794|                        90|\n| 80000|     3794|                        90|\n| 80000|     3794|                        90|\n| 80001|     3729|                        56|\n| 80001|     3729|                        56|\n| 80001|     3729|                        56|\n| 80001|     3729|                        56|\n| 80001|     3729|                        56|\n| 80002|     4254|                        30|\n| 80002|     4254|                        30|\n| 80004|     1528|                        78|\n| 80004|     1528|                        78|\n| 80005|      660|                        72|\n| 80005|      660|                        72|\n| 80005|      660|                        72|\n| 80005|      660|                        72|\n| 80005|      660|                        72|\n| 80006|       21|                        62|\n| 80006|       21|                        62|\n| 80006|       21|                        62|\n| 80006|       21|                        62|\n| 80007|     3959|                        97|\n| 80007|     1893|                        82|\n| 80007|     4493|                        75|\n| 80008|     4882|                        55|\n| 80008|     4882|                        55|\n| 80008|     4882|                        55|\n| 80008|     4882|                        55|\n| 80008|     4882|                        55|\n| 80011|     3454|                        53|\n| 80011|     3454|                        53|\n| 80011|     3454|                        53|\n| 80011|     3454|                        53|\n| 80011|     3454|                        53|\n| 80012|      826|                         5|\n| 80012|      826|                         5|\n| 80012|      826|                         5|\n| 80012|      826|                         5|\n| 80012|      826|                         5|\n| 80013|     3090|                        62|\n| 80013|     3090|                        62|\n| 80013|     3090|                        62|\n| 80013|     3090|                        62|\n| 80013|     3090|                        62|\n| 80014|     2617|                        95|\n| 80014|     2617|                        95|\n| 80014|     2617|                        95|\n| 80014|     2617|                        95|\n| 80014|     2617|                        95|\n| 80015|     2721|                        61|\n| 80015|     2721|                        61|\n| 80015|     2721|                        61|\n| 80015|     2721|                        61|\n| 80015|     2721|                        61|\n| 80016|      660|                        64|\n| 80016|      660|                        64|\n| 80016|      660|                        64|\n| 80016|      660|                        64|\n| 80016|      660|                        64|\n| 80018|     2211|                        18|\n| 80018|     2211|                        18|\n| 80018|     2211|                        18|\n| 80018|     2211|                        18|\n| 80018|     2211|                        18|\n| 80019|     3916|                        44|\n| 80019|     3916|                        44|\n| 80019|     3916|                        44|\n| 80019|     3916|                        44|\n| 80019|     3916|                        44|\n| 80020|     1433|                        78|\n| 80020|     1433|                        78|\n| 80020|     1433|                        78|\n| 80020|     1433|                        78|\n| 80020|     1433|                        78|\n| 80021|      471|                        26|\n| 80021|      471|                        26|\n| 80021|      471|                        26|\n| 80021|      471|                        26|\n| 80022|     4462|                         1|\n| 80022|     4462|                         1|\n| 80022|     4462|                         1|\n| 80022|     4462|                         1|\n| 80022|     4462|                         1|\n| 80024|     4054|                        14|\n| 80024|     4054|                        14|\n| 80024|     4054|                        14|\n| 80024|     4054|                        14|\n| 80024|     4054|                        14|\n| 80025|       64|                        96|\n| 80025|       64|                        96|\n| 80025|       64|                        96|\n| 80025|       64|                        96|\n| 80025|       64|                        96|\n| 80026|     2342|                        81|\n| 80026|     2342|                        81|\n| 80026|     2342|                        81|\n| 80026|     2342|                        81|\n| 80026|     2342|                        81|\n+------+---------+--------------------------+\nonly showing top 100 rows\n\n"
          ]
        }
      ],
      "execution_count": 7,
      "metadata": {
        "jupyter": {
          "source_hidden": false,
          "outputs_hidden": true
        },
        "nteract": {
          "transient": {
            "deleting": false
          }
        }
      }
    },
    {
      "cell_type": "code",
      "source": [
        "print('before filter: ', topPreferredProducts.count(), ', after filter: ', top5Products.count())"
      ],
      "outputs": [
        {
          "output_type": "display_data",
          "data": {
            "application/vnd.livy.statement-meta+json": {
              "spark_pool": "SparkPool01",
              "session_id": "5",
              "statement_id": 8,
              "state": "finished",
              "livy_statement_state": "available",
              "queued_time": "2022-10-01T00:54:01.2693389Z",
              "session_start_time": null,
              "execution_start_time": "2022-10-01T00:54:01.4202291Z",
              "execution_finish_time": "2022-10-01T00:54:10.1994234Z",
              "spark_jobs": null
            },
            "text/plain": "StatementMeta(SparkPool01, 5, 8, Finished, Available)"
          },
          "metadata": {}
        },
        {
          "output_type": "stream",
          "name": "stdout",
          "text": [
            "before filter:  141085 , after filter:  54506\n"
          ]
        }
      ],
      "execution_count": 10,
      "metadata": {
        "jupyter": {
          "source_hidden": false,
          "outputs_hidden": true
        },
        "nteract": {
          "transient": {
            "deleting": false
          }
        }
      }
    },
    {
      "cell_type": "code",
      "source": [
        "top5ProductsOverall = (top5Products.select(\"ProductId\",\"ItemsPurchasedLast12Months\")\r\n",
        "    .groupBy(\"ProductId\")\r\n",
        "    .agg( sum(\"ItemsPurchasedLast12Months\").alias(\"Total\") )\r\n",
        "    .orderBy( col(\"Total\").desc() )\r\n",
        "    .limit(5))\r\n",
        "\r\n",
        "top5ProductsOverall.show()"
      ],
      "outputs": [
        {
          "output_type": "display_data",
          "data": {
            "application/vnd.livy.statement-meta+json": {
              "spark_pool": "SparkPool01",
              "session_id": "5",
              "statement_id": 9,
              "state": "finished",
              "livy_statement_state": "available",
              "queued_time": "2022-10-01T00:54:26.6721542Z",
              "session_start_time": null,
              "execution_start_time": "2022-10-01T00:54:26.8305767Z",
              "execution_finish_time": "2022-10-01T00:54:34.1611868Z",
              "spark_jobs": null
            },
            "text/plain": "StatementMeta(SparkPool01, 5, 9, Finished, Available)"
          },
          "metadata": {}
        },
        {
          "output_type": "stream",
          "name": "stdout",
          "text": [
            "+---------+-----+\n|ProductId|Total|\n+---------+-----+\n|     1555| 9947|\n|     4549| 8107|\n|     2062| 8066|\n|     2107| 8055|\n|     2429| 7899|\n+---------+-----+\n\n"
          ]
        }
      ],
      "execution_count": 11,
      "metadata": {
        "jupyter": {
          "source_hidden": false,
          "outputs_hidden": true
        },
        "nteract": {
          "transient": {
            "deleting": false
          }
        }
      }
    },
    {
      "cell_type": "code",
      "source": [
        "import uuid\r\n",
        "\r\n",
        "# Generate random GUID\r\n",
        "runId = uuid.uuid4()"
      ],
      "outputs": [
        {
          "output_type": "display_data",
          "data": {
            "application/vnd.livy.statement-meta+json": {
              "spark_pool": "SparkPool01",
              "session_id": "5",
              "statement_id": 10,
              "state": "finished",
              "livy_statement_state": "available",
              "queued_time": "2022-10-01T00:54:55.5401808Z",
              "session_start_time": null,
              "execution_start_time": "2022-10-01T00:54:55.6667166Z",
              "execution_finish_time": "2022-10-01T00:54:55.8209973Z",
              "spark_jobs": null
            },
            "text/plain": "StatementMeta(SparkPool01, 5, 10, Finished, Available)"
          },
          "metadata": {}
        }
      ],
      "execution_count": 12,
      "metadata": {
        "jupyter": {
          "source_hidden": false,
          "outputs_hidden": false
        },
        "nteract": {
          "transient": {
            "deleting": false
          }
        },
        "tags": [
          "parameters"
        ]
      }
    },
    {
      "cell_type": "code",
      "source": [
        "%%pyspark\r\n",
        "\r\n",
        "top5ProductsOverall.write.parquet('abfss://wwi-02@asadatalakenm10djs.dfs.core.windows.net/top5-products/' + str(runId) + '.parquet')"
      ],
      "outputs": [
        {
          "output_type": "display_data",
          "data": {
            "application/vnd.livy.statement-meta+json": {
              "spark_pool": "SparkPool01",
              "session_id": "5",
              "statement_id": 11,
              "state": "finished",
              "livy_statement_state": "available",
              "queued_time": "2022-10-01T00:55:16.6461204Z",
              "session_start_time": null,
              "execution_start_time": "2022-10-01T00:55:16.7979426Z",
              "execution_finish_time": "2022-10-01T00:55:23.6882638Z",
              "spark_jobs": null
            },
            "text/plain": "StatementMeta(SparkPool01, 5, 11, Finished, Available)"
          },
          "metadata": {}
        }
      ],
      "execution_count": 13,
      "metadata": {
        "jupyter": {
          "source_hidden": false,
          "outputs_hidden": false
        },
        "nteract": {
          "transient": {
            "deleting": false
          }
        },
        "microsoft": {
          "language": "python"
        }
      }
    }
  ],
  "metadata": {
    "kernelspec": {
      "name": "synapse_pyspark",
      "language": "Python",
      "display_name": "Synapse PySpark"
    },
    "language_info": {
      "name": "python"
    },
    "kernel_info": {
      "name": "synapse_pyspark"
    },
    "description": null,
    "save_output": true,
    "synapse_widget": {
      "version": "0.1",
      "state": {
        "36f25d70-3d16-41ba-af33-babf83a7b21b": {
          "type": "Synapse.DataFrame",
          "sync_state": {
            "table": {
              "rows": [
                {
                  "0": "81900",
                  "1": "3769",
                  "2": "41",
                  "3": "1783",
                  "4": "81900",
                  "5": "true",
                  "6": "true"
                },
                {
                  "0": "81900",
                  "1": "3769",
                  "2": "41",
                  "3": "1169",
                  "4": "81900",
                  "5": "true",
                  "6": "true"
                },
                {
                  "0": "81900",
                  "1": "3769",
                  "2": "41",
                  "3": "3735",
                  "4": "81900",
                  "5": "true",
                  "6": "true"
                },
                {
                  "0": "81900",
                  "1": "1143",
                  "2": "36",
                  "3": "1783",
                  "4": "81900",
                  "5": "true",
                  "6": "true"
                },
                {
                  "0": "81900",
                  "1": "1143",
                  "2": "36",
                  "3": "1169",
                  "4": "81900",
                  "5": "true",
                  "6": "true"
                },
                {
                  "0": "81900",
                  "1": "1143",
                  "2": "36",
                  "3": "3735",
                  "4": "81900",
                  "5": "true",
                  "6": "true"
                },
                {
                  "0": "82582",
                  "1": "2261",
                  "2": "40",
                  "3": "2096",
                  "4": "82582",
                  "5": "true",
                  "6": "true"
                },
                {
                  "0": "82582",
                  "1": "2261",
                  "2": "40",
                  "3": "1243",
                  "4": "82582",
                  "5": "true",
                  "6": "true"
                },
                {
                  "0": "82582",
                  "1": "2261",
                  "2": "40",
                  "3": "262",
                  "4": "82582",
                  "5": "true",
                  "6": "true"
                },
                {
                  "0": "82582",
                  "1": "2261",
                  "2": "40",
                  "3": "2708",
                  "4": "82582",
                  "5": "true",
                  "6": "true"
                }
              ],
              "schema": [
                {
                  "key": "0",
                  "name": "visitorId",
                  "type": "int"
                },
                {
                  "key": "1",
                  "name": "productId",
                  "type": "int"
                },
                {
                  "key": "2",
                  "name": "itemsPurchasedLast12Months",
                  "type": "int"
                },
                {
                  "key": "3",
                  "name": "preferredProductId",
                  "type": "int"
                },
                {
                  "key": "4",
                  "name": "userId",
                  "type": "int"
                },
                {
                  "key": "5",
                  "name": "isTopProduct",
                  "type": "boolean"
                },
                {
                  "key": "6",
                  "name": "isPreferredProduct",
                  "type": "boolean"
                }
              ],
              "truncated": false
            },
            "isSummary": false,
            "language": "scala"
          },
          "persist_state": {
            "view": {
              "type": "details",
              "tableOptions": {},
              "chartOptions": {
                "chartType": "bar",
                "aggregationType": "sum",
                "categoryFieldKeys": [
                  "1"
                ],
                "seriesFieldKeys": [
                  "0"
                ],
                "isStacked": false
              }
            }
          }
        }
      }
    }
  },
  "nbformat": 4,
  "nbformat_minor": 2
}