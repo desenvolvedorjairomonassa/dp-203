{
  "cells": [
    {
      "cell_type": "code",
      "source": [
        "# Read from Cosmos DB analytical store into a Spark DataFrame and display 10 rows from the DataFrame\n",
        "# To select a preferred list of regions in a multi-region Cosmos DB account, add .option(\"spark.cosmos.preferredRegions\", \"<Region1>,<Region2>\")\n",
        "\n",
        "df = spark.read\\\n",
        "    .format(\"cosmos.olap\")\\\n",
        "    .option(\"spark.synapse.linkedService\", \"asacosmosdbnm10djs\")\\\n",
        "    .option(\"spark.cosmos.container\", \"OnlineUserProfile01\")\\\n",
        "    .load()\n",
        "\n",
        "display(df.limit(10))"
      ],
      "outputs": [
        {
          "output_type": "display_data",
          "data": {
            "application/vnd.livy.statement-meta+json": {
              "spark_pool": "SparkPool01",
              "session_id": "7",
              "statement_id": 1,
              "state": "finished",
              "livy_statement_state": "available",
              "queued_time": "2022-10-01T20:34:01.3466951Z",
              "session_start_time": "2022-10-01T20:34:01.3942868Z",
              "execution_start_time": "2022-10-01T20:37:08.087115Z",
              "execution_finish_time": "2022-10-01T20:37:37.5109153Z",
              "spark_jobs": null
            },
            "text/plain": "StatementMeta(SparkPool01, 7, 1, Finished, Available)"
          },
          "metadata": {}
        },
        {
          "output_type": "display_data",
          "data": {
            "application/vnd.synapse.widget-view+json": {
              "widget_id": "adf04c6d-9f12-4423-a750-a2ffa96799b7",
              "widget_type": "Synapse.DataFrame"
            },
            "text/plain": "SynapseWidget(Synapse.DataFrame, adf04c6d-9f12-4423-a750-a2ffa96799b7)"
          },
          "metadata": {}
        }
      ],
      "execution_count": 1,
      "metadata": {
        "collapsed": false
      }
    },
    {
      "cell_type": "code",
      "source": [
        "unwanted_cols = {'_attachments','_etag','_rid','_self','_ts','collectionType','id'}\r\n",
        "\r\n",
        "# Remove unwanted columns from the columns collection\r\n",
        "cols = list(set(df.columns) - unwanted_cols)\r\n",
        "\r\n",
        "profiles = df.select(cols)\r\n",
        "\r\n",
        "display(profiles.limit(10))"
      ],
      "outputs": [
        {
          "output_type": "display_data",
          "data": {
            "application/vnd.livy.statement-meta+json": {
              "spark_pool": "SparkPool01",
              "session_id": "7",
              "statement_id": 2,
              "state": "finished",
              "livy_statement_state": "available",
              "queued_time": "2022-10-01T20:38:53.9669721Z",
              "session_start_time": null,
              "execution_start_time": "2022-10-01T20:38:54.1106621Z",
              "execution_finish_time": "2022-10-01T20:38:56.2178024Z",
              "spark_jobs": null
            },
            "text/plain": "StatementMeta(SparkPool01, 7, 2, Finished, Available)"
          },
          "metadata": {}
        },
        {
          "output_type": "display_data",
          "data": {
            "application/vnd.synapse.widget-view+json": {
              "widget_id": "1e397ebb-cda7-4915-8e8c-21256483f451",
              "widget_type": "Synapse.DataFrame"
            },
            "text/plain": "SynapseWidget(Synapse.DataFrame, 1e397ebb-cda7-4915-8e8c-21256483f451)"
          },
          "metadata": {}
        }
      ],
      "execution_count": 2,
      "metadata": {
        "jupyter": {
          "source_hidden": false,
          "outputs_hidden": false
        },
        "nteract": {
          "transient": {
            "deleting": false
          }
        },
        "collapsed": false
      }
    },
    {
      "cell_type": "code",
      "source": [
        "profiles.count()"
      ],
      "outputs": [
        {
          "output_type": "display_data",
          "data": {
            "application/vnd.livy.statement-meta+json": {
              "spark_pool": "SparkPool01",
              "session_id": "7",
              "statement_id": 4,
              "state": "finished",
              "livy_statement_state": "available",
              "queued_time": "2022-10-01T20:42:05.9755752Z",
              "session_start_time": null,
              "execution_start_time": "2022-10-01T20:42:06.2059407Z",
              "execution_finish_time": "2022-10-01T20:42:06.762294Z",
              "spark_jobs": null
            },
            "text/plain": "StatementMeta(SparkPool01, 7, 4, Finished, Available)"
          },
          "metadata": {}
        },
        {
          "output_type": "execute_result",
          "execution_count": 16,
          "data": {
            "text/plain": "99999"
          },
          "metadata": {}
        }
      ],
      "execution_count": 4,
      "metadata": {
        "jupyter": {
          "source_hidden": false,
          "outputs_hidden": false
        },
        "nteract": {
          "transient": {
            "deleting": false
          }
        }
      }
    },
    {
      "cell_type": "code",
      "source": [
        "from pyspark.sql.functions import udf, explode\r\n",
        "\r\n",
        "preferredProductsFlat=profiles.select('userId',explode('preferredProducts').alias('productId'))\r\n",
        "productReviewsFlat=profiles.select('userId',explode('productReviews').alias('productReviews'))\r\n",
        "display(productReviewsFlat.limit(10))"
      ],
      "outputs": [
        {
          "output_type": "display_data",
          "data": {
            "application/vnd.livy.statement-meta+json": {
              "spark_pool": "SparkPool01",
              "session_id": "7",
              "statement_id": 5,
              "state": "finished",
              "livy_statement_state": "available",
              "queued_time": "2022-10-01T20:42:15.8192673Z",
              "session_start_time": null,
              "execution_start_time": "2022-10-01T20:42:15.9526002Z",
              "execution_finish_time": "2022-10-01T20:42:17.9445791Z",
              "spark_jobs": null
            },
            "text/plain": "StatementMeta(SparkPool01, 7, 5, Finished, Available)"
          },
          "metadata": {}
        },
        {
          "output_type": "display_data",
          "data": {
            "application/vnd.synapse.widget-view+json": {
              "widget_id": "b1653003-f3cf-40ed-b781-e5383d458eef",
              "widget_type": "Synapse.DataFrame"
            },
            "text/plain": "SynapseWidget(Synapse.DataFrame, b1653003-f3cf-40ed-b781-e5383d458eef)"
          },
          "metadata": {}
        }
      ],
      "execution_count": 5,
      "metadata": {
        "jupyter": {
          "source_hidden": false,
          "outputs_hidden": false
        },
        "nteract": {
          "transient": {
            "deleting": false
          }
        },
        "collapsed": false
      }
    },
    {
      "cell_type": "code",
      "source": [
        "display(preferredProductsFlat.limit(20))"
      ],
      "outputs": [
        {
          "output_type": "display_data",
          "data": {
            "application/vnd.livy.statement-meta+json": {
              "spark_pool": "SparkPool01",
              "session_id": "7",
              "statement_id": 6,
              "state": "finished",
              "livy_statement_state": "available",
              "queued_time": "2022-10-01T20:42:52.8148017Z",
              "session_start_time": null,
              "execution_start_time": "2022-10-01T20:42:53.1577055Z",
              "execution_finish_time": "2022-10-01T20:42:54.2840864Z",
              "spark_jobs": null
            },
            "text/plain": "StatementMeta(SparkPool01, 7, 6, Finished, Available)"
          },
          "metadata": {}
        },
        {
          "output_type": "display_data",
          "data": {
            "application/vnd.synapse.widget-view+json": {
              "widget_id": "f1e08e99-89ab-4c36-a8b1-cd3002692820",
              "widget_type": "Synapse.DataFrame"
            },
            "text/plain": "SynapseWidget(Synapse.DataFrame, f1e08e99-89ab-4c36-a8b1-cd3002692820)"
          },
          "metadata": {}
        }
      ],
      "execution_count": 6,
      "metadata": {
        "jupyter": {
          "source_hidden": false,
          "outputs_hidden": false
        },
        "nteract": {
          "transient": {
            "deleting": false
          }
        },
        "collapsed": false
      }
    },
    {
      "cell_type": "code",
      "source": [
        "productReviews = (productReviewsFlat.select('userId','productReviews.productId','productReviews.reviewText')\r\n",
        "    .orderBy('userId'))\r\n",
        "\r\n",
        "display(productReviews.limit(10))"
      ],
      "outputs": [
        {
          "output_type": "display_data",
          "data": {
            "application/vnd.livy.statement-meta+json": {
              "spark_pool": "SparkPool01",
              "session_id": "7",
              "statement_id": 7,
              "state": "finished",
              "livy_statement_state": "available",
              "queued_time": "2022-10-01T20:43:21.8611154Z",
              "session_start_time": null,
              "execution_start_time": "2022-10-01T20:43:22.1852061Z",
              "execution_finish_time": "2022-10-01T20:43:24.1056553Z",
              "spark_jobs": null
            },
            "text/plain": "StatementMeta(SparkPool01, 7, 7, Finished, Available)"
          },
          "metadata": {}
        },
        {
          "output_type": "display_data",
          "data": {
            "application/vnd.synapse.widget-view+json": {
              "widget_id": "f75ba180-fb88-4abd-9a8a-deb28770eed4",
              "widget_type": "Synapse.DataFrame"
            },
            "text/plain": "SynapseWidget(Synapse.DataFrame, f75ba180-fb88-4abd-9a8a-deb28770eed4)"
          },
          "metadata": {}
        }
      ],
      "execution_count": 7,
      "metadata": {
        "jupyter": {
          "source_hidden": false,
          "outputs_hidden": false
        },
        "nteract": {
          "transient": {
            "deleting": false
          }
        },
        "collapsed": false
      }
    },
    {
      "cell_type": "code",
      "source": [
        "preferredProductReviews = (preferredProductsFlat.join(productReviews,\r\n",
        "    (preferredProductsFlat.userId == productReviews.userId) &\r\n",
        "    (preferredProductsFlat.productId == productReviews.productId))\r\n",
        ")\r\n",
        "\r\n",
        "display(preferredProductReviews.limit(100))"
      ],
      "outputs": [
        {
          "output_type": "display_data",
          "data": {
            "application/vnd.livy.statement-meta+json": {
              "spark_pool": "SparkPool01",
              "session_id": "7",
              "statement_id": 9,
              "state": "finished",
              "livy_statement_state": "available",
              "queued_time": "2022-10-01T20:45:29.1791097Z",
              "session_start_time": null,
              "execution_start_time": "2022-10-01T20:45:29.3333017Z",
              "execution_finish_time": "2022-10-01T20:45:38.0962915Z",
              "spark_jobs": null
            },
            "text/plain": "StatementMeta(SparkPool01, 7, 9, Finished, Available)"
          },
          "metadata": {}
        },
        {
          "output_type": "display_data",
          "data": {
            "application/vnd.synapse.widget-view+json": {
              "widget_id": "c502ad5c-4608-4e25-acc6-86a91da670f1",
              "widget_type": "Synapse.DataFrame"
            },
            "text/plain": "SynapseWidget(Synapse.DataFrame, c502ad5c-4608-4e25-acc6-86a91da670f1)"
          },
          "metadata": {}
        }
      ],
      "execution_count": 9,
      "metadata": {
        "jupyter": {
          "source_hidden": false,
          "outputs_hidden": false
        },
        "nteract": {
          "transient": {
            "deleting": false
          }
        },
        "collapsed": false
      }
    }
  ],
  "metadata": {
    "language_info": {
      "name": "python"
    },
    "kernelspec": {
      "name": "synapse_pyspark",
      "language": "Python",
      "display_name": "Synapse PySpark"
    },
    "kernel_info": {
      "name": "synapse_pyspark"
    },
    "save_output": true,
    "synapse_widget": {
      "version": "0.1",
      "state": {
        "adf04c6d-9f12-4423-a750-a2ffa96799b7": {
          "type": "Synapse.DataFrame",
          "sync_state": {
            "table": {
              "rows": [
                {
                  "0": "y0hUALqOCAKSNgAAAAAAAA==",
                  "1": "1664559045",
                  "2": "87707",
                  "3": "4535108a-d4ae-40ed-806f-feb8783bf926",
                  "4": [
                    1230,
                    2624
                  ],
                  "5": [
                    {
                      "productId": 3825,
                      "reviewText": "talk about surprise!!!",
                      "reviewDate": "2019-08-26T04:26:50.9737377+03:00"
                    },
                    {
                      "productId": 3048,
                      "reviewText": "This Bedfordshire works very well. It romantically improves my football by a lot.",
                      "reviewDate": "2019-01-03T06:38:45.3924182+02:00"
                    },
                    {
                      "productId": 1890,
                      "reviewText": "talk about surprise!!!",
                      "reviewDate": "2017-11-26T21:38:28.9415137+02:00"
                    },
                    {
                      "productId": 336,
                      "reviewText": "The box this comes in is 4 mile by 5 yard and weights 18 pound!!",
                      "reviewDate": "2019-12-03T21:52:20.9983327+02:00"
                    }
                  ],
                  "6": "6f096f9f-3312-415a-9a23-31e9d9f0ebbf",
                  "7": "\"010088de-0000-0100-0000-633727c50000\""
                },
                {
                  "0": "y0hUALqOCAKTNgAAAAAAAA==",
                  "1": "1664559045",
                  "2": "87484",
                  "3": "7e34b88e-cf4c-4f2f-9b05-551303168e5f",
                  "4": [
                    3445,
                    364
                  ],
                  "5": [
                    {
                      "productId": 1558,
                      "reviewText": "This system works considerably well. It mildly improves my basketball by a lot.",
                      "reviewDate": "2019-12-02T14:00:55.8559186+02:00"
                    },
                    {
                      "productId": 483,
                      "reviewText": "talk about pleasure.",
                      "reviewDate": "2016-09-11T11:23:46.7803712+03:00"
                    },
                    {
                      "productId": 4864,
                      "reviewText": "My porcupine loves to play with it.",
                      "reviewDate": "2016-05-20T17:36:24.1095695+03:00"
                    }
                  ],
                  "6": "1814539f-764a-40e5-aae7-f2557d086729",
                  "7": "\"010089de-0000-0100-0000-633727c50000\""
                },
                {
                  "0": "y0hUALqOCAKUNgAAAAAAAA==",
                  "1": "1664559045",
                  "2": "87253",
                  "3": "08c4e82f-86c0-48c0-b8fe-bc510efd4d4a",
                  "4": [
                    4381,
                    852,
                    3718,
                    3321,
                    746,
                    2010,
                    4552
                  ],
                  "5": [
                    {
                      "productId": 960,
                      "reviewText": "My macaroni penguin loves to play with it.",
                      "reviewDate": "2017-02-01T20:25:33.4509531+02:00"
                    },
                    {
                      "productId": 3891,
                      "reviewText": "I tried to kidnap it but got apricot all over it.",
                      "reviewDate": "2018-09-05T21:58:55.273966+03:00"
                    },
                    {
                      "productId": 1408,
                      "reviewText": "My neighbor Georgie has one of these. She works as a busboy and she says it looks brown.",
                      "reviewDate": "2017-01-07T12:06:10.575971+02:00"
                    },
                    {
                      "productId": 4059,
                      "reviewText": "I saw one of these in Macau and I bought one.",
                      "reviewDate": "2019-09-04T07:20:29.5750485+03:00"
                    },
                    {
                      "productId": 2378,
                      "reviewText": "this Incredible Cotton Shoes is smooth.",
                      "reviewDate": "2017-04-14T07:44:52.1769102+03:00"
                    }
                  ],
                  "6": "cedcb8ce-b3ba-4e40-b8e3-2740dcbb6ff5",
                  "7": "\"01008ade-0000-0100-0000-633727c50000\""
                },
                {
                  "0": "y0hUALqOCAKVNgAAAAAAAA==",
                  "1": "1664559045",
                  "2": "87095",
                  "3": "3bb6caaf-485a-49b0-a7c0-82572c1f1307",
                  "4": [
                    1109,
                    2026,
                    155,
                    1442,
                    1470,
                    1878
                  ],
                  "5": [
                    {
                      "productId": 1228,
                      "reviewText": "heard about this on timba radio, decided to give it a try.",
                      "reviewDate": "2017-07-31T04:58:07.2755442+03:00"
                    },
                    {
                      "productId": 2535,
                      "reviewText": "I tried to grab it but got bonbon all over it.",
                      "reviewDate": "2020-01-18T08:51:23.9417835+02:00"
                    },
                    {
                      "productId": 4767,
                      "reviewText": "It only works when I'm Guernsey.",
                      "reviewDate": "2018-08-30T11:23:31.2099262+03:00"
                    },
                    {
                      "productId": 1106,
                      "reviewText": "My vulture loves to play with it.",
                      "reviewDate": "2016-12-04T19:23:16.6178806+02:00"
                    },
                    {
                      "productId": 939,
                      "reviewText": "This Beauty & Automotive works very well. It persistently improves my soccer by a lot.",
                      "reviewDate": "2019-10-23T01:26:55.8843774+03:00"
                    }
                  ],
                  "6": "f5fbef9e-727d-4a11-b99b-2cbb949a6a53",
                  "7": "\"01008bde-0000-0100-0000-633727c50000\""
                },
                {
                  "0": "y0hUALqOCAKWNgAAAAAAAA==",
                  "1": "1664559045",
                  "2": "88868",
                  "3": "d51fc9ea-a124-410c-babc-ca1a72b759cf",
                  "4": [
                    3870,
                    3430,
                    3402,
                    264,
                    1169,
                    4431,
                    405,
                    444,
                    1065
                  ],
                  "5": [
                    {
                      "productId": 1270,
                      "reviewText": "The box this comes in is 3 light-year by 5 meter and weights 10 ounce!",
                      "reviewDate": "2019-02-25T22:32:26.8014044+02:00"
                    },
                    {
                      "productId": 4762,
                      "reviewText": "this functionalities is revolting.",
                      "reviewDate": "2017-09-23T08:35:51.8706863+03:00"
                    },
                    {
                      "productId": 3115,
                      "reviewText": "I saw one of these in Saint Lucia and I bought one.",
                      "reviewDate": "2019-10-28T20:56:09.1471128+02:00"
                    },
                    {
                      "productId": 68,
                      "reviewText": "heard about this on powerviolence radio, decided to give it a try.",
                      "reviewDate": "2020-05-06T08:21:16.2396382+03:00"
                    },
                    {
                      "productId": 3006,
                      "reviewText": "one of my hobbies is toy collecting. and when i'm collecting toys this works great.",
                      "reviewDate": "2016-11-13T13:55:39.4945364+02:00"
                    }
                  ],
                  "6": "7cfc0961-2f52-444d-9ac9-f01e1dc7cfbe",
                  "7": "\"01008cde-0000-0100-0000-633727c50000\""
                },
                {
                  "0": "y0hUALqOCAKXNgAAAAAAAA==",
                  "1": "1664559045",
                  "2": "88709",
                  "3": "ff4ccb8a-0802-4cdc-93f6-9b3f113245e4",
                  "4": [
                    1860,
                    3222,
                    2129,
                    2626,
                    974,
                    310,
                    1716,
                    3763,
                    3599
                  ],
                  "5": [
                    {
                      "productId": 4944,
                      "reviewText": "i use it occasionally when i'm in my outhouse.",
                      "reviewDate": "2018-08-12T22:55:37.9497752+03:00"
                    },
                    {
                      "productId": 2512,
                      "reviewText": "This Guinea works quite well. It romantically improves my golf by a lot.",
                      "reviewDate": "2018-03-08T11:22:49.8530031+02:00"
                    },
                    {
                      "productId": 2141,
                      "reviewText": "i use it never again when i'm in my station.",
                      "reviewDate": "2019-03-28T07:45:13.8797211+02:00"
                    }
                  ],
                  "6": "c420dd2d-92c3-4cbf-9c01-df9f5f9b5224",
                  "7": "\"01008dde-0000-0100-0000-633727c50000\""
                },
                {
                  "0": "y0hUALqOCAKYNgAAAAAAAA==",
                  "1": "1664559045",
                  "2": "88493",
                  "3": "a9af3e55-1106-4d93-ba30-19b6ac7ba9bb",
                  "4": [
                    4811,
                    3830
                  ],
                  "5": [],
                  "6": "a618bed1-d3a2-4a05-9674-36809ccf4184",
                  "7": "\"01008ede-0000-0100-0000-633727c50000\""
                },
                {
                  "0": "y0hUALqOCAKZNgAAAAAAAA==",
                  "1": "1664559045",
                  "2": "88323",
                  "3": "5ca50a1a-372b-4463-99e9-221cdb92c9f1",
                  "4": [
                    2425,
                    2998,
                    3968,
                    817,
                    3374,
                    1787,
                    668
                  ],
                  "5": [
                    {
                      "productId": 2600,
                      "reviewText": "talk about shame.",
                      "reviewDate": "2019-04-30T02:01:54.4165692+03:00"
                    },
                    {
                      "productId": 4516,
                      "reviewText": "i use it every Tuesday when i'm in my store.",
                      "reviewDate": "2019-11-02T18:45:07.3260836+02:00"
                    },
                    {
                      "productId": 4312,
                      "reviewText": "The box this comes in is 4 kilometer by 5 mile and weights 17 gram.",
                      "reviewDate": "2017-11-21T14:16:37.0159963+02:00"
                    },
                    {
                      "productId": 2090,
                      "reviewText": "I tried to electrocute it but got sweetmeat all over it.",
                      "reviewDate": "2019-07-10T01:49:39.6101062+03:00"
                    },
                    {
                      "productId": 2771,
                      "reviewText": "My neighbor Georgie has one of these. She works as a busboy and she says it looks brown.",
                      "reviewDate": "2017-03-24T05:45:16.9168176+02:00"
                    }
                  ],
                  "6": "03ab4d65-731f-4cee-b18c-32d0119f4b11",
                  "7": "\"01008fde-0000-0100-0000-633727c50000\""
                },
                {
                  "0": "y0hUALqOCAKaNgAAAAAAAA==",
                  "1": "1664559045",
                  "2": "88116",
                  "3": "72bc1587-a152-4762-b714-456258a126dd",
                  "4": [
                    2122,
                    3200,
                    2365,
                    3970,
                    3049,
                    4698,
                    872
                  ],
                  "5": [
                    {
                      "productId": 4216,
                      "reviewText": "The box this comes in is 5 light-year by 6 foot and weights 17 megaton!!!",
                      "reviewDate": "2019-08-31T08:47:36.0697816+03:00"
                    },
                    {
                      "productId": 4211,
                      "reviewText": "This Moldovan Leu, does exactly what it's suppose to do.",
                      "reviewDate": "2019-03-22T21:43:38.344477+02:00"
                    }
                  ],
                  "6": "3203367a-6fff-4461-87ad-b40edea59882",
                  "7": "\"010090de-0000-0100-0000-633727c50000\""
                },
                {
                  "0": "y0hUALqOCAKbNgAAAAAAAA==",
                  "1": "1664559045",
                  "2": "90934",
                  "3": "37a71679-544d-4b50-9a0a-b6c24cc389d3",
                  "4": [
                    4862,
                    708,
                    1671,
                    936,
                    2535,
                    597,
                    746
                  ],
                  "5": [],
                  "6": "6671ac9f-c239-423a-92e7-55925e300e04",
                  "7": "\"010091de-0000-0100-0000-633727c50000\""
                }
              ],
              "schema": [
                {
                  "key": "0",
                  "name": "_rid",
                  "type": "string"
                },
                {
                  "key": "1",
                  "name": "_ts",
                  "type": "bigint"
                },
                {
                  "key": "2",
                  "name": "userId",
                  "type": "bigint"
                },
                {
                  "key": "3",
                  "name": "cartId",
                  "type": "string"
                },
                {
                  "key": "4",
                  "name": "preferredProducts",
                  "type": "ArrayType(LongType,true)"
                },
                {
                  "key": "5",
                  "name": "productReviews",
                  "type": "ArrayType(StructType(StructField(productId,LongType,true), StructField(reviewText,StringType,true), StructField(reviewDate,StringType,true)),true)"
                },
                {
                  "key": "6",
                  "name": "id",
                  "type": "string"
                },
                {
                  "key": "7",
                  "name": "_etag",
                  "type": "string"
                }
              ],
              "truncated": false
            },
            "isSummary": false,
            "language": "scala"
          },
          "persist_state": {
            "view": {
              "type": "details",
              "tableOptions": {},
              "chartOptions": {
                "chartType": "bar",
                "aggregationType": "sum",
                "categoryFieldKeys": [
                  "0"
                ],
                "seriesFieldKeys": [
                  "1"
                ],
                "isStacked": false
              }
            }
          }
        },
        "1e397ebb-cda7-4915-8e8c-21256483f451": {
          "type": "Synapse.DataFrame",
          "sync_state": {
            "table": {
              "rows": [
                {
                  "0": [
                    3104,
                    204,
                    2225,
                    819
                  ],
                  "1": "75124",
                  "2": [
                    {
                      "productId": 1254,
                      "reviewText": "I tried to annihilate it but got bonbon all over it.",
                      "reviewDate": "2017-06-14T02:27:38.7671572+03:00"
                    },
                    {
                      "productId": 4309,
                      "reviewText": "talk about shame.",
                      "reviewDate": "2018-02-19T20:58:28.0982358+02:00"
                    },
                    {
                      "productId": 3613,
                      "reviewText": "It only works when I'm South Korea.",
                      "reviewDate": "2019-01-14T12:00:15.3109795+02:00"
                    },
                    {
                      "productId": 1224,
                      "reviewText": "My neighbor Honora has one of these. She works as a reporter and she says it looks enormous.",
                      "reviewDate": "2018-04-15T21:03:37.7911881+03:00"
                    },
                    {
                      "productId": 2189,
                      "reviewText": "i use it occasionally when i'm in my outhouse.",
                      "reviewDate": "2017-05-28T19:56:45.2127558+03:00"
                    }
                  ],
                  "3": "7f38ac9d-5edb-435a-8b47-2d4d693a7b1a"
                },
                {
                  "0": [
                    4685,
                    4808,
                    4942
                  ],
                  "1": "77182",
                  "2": [
                    {
                      "productId": 3288,
                      "reviewText": "I tried to maim it but got nectarine all over it.",
                      "reviewDate": "2018-08-14T12:08:13.3663842+03:00"
                    },
                    {
                      "productId": 3781,
                      "reviewText": "My neighbor Germaine has one of these. She works as a salesman and she says it looks red.",
                      "reviewDate": "2018-09-22T01:30:38.2699491+03:00"
                    }
                  ],
                  "3": "b1c9b3f1-613d-43ec-8a23-2a20d7dca991"
                },
                {
                  "0": [
                    3403,
                    2537,
                    769,
                    4870,
                    195,
                    2479,
                    796,
                    2059
                  ],
                  "1": "92313",
                  "2": [
                    {
                      "productId": 67,
                      "reviewText": "this redundant is honest.",
                      "reviewDate": "2019-12-21T18:18:03.2137122+02:00"
                    },
                    {
                      "productId": 1108,
                      "reviewText": "My neighbor Lonnie has one of these. She works as a hobbit and she says it looks microscopic.",
                      "reviewDate": "2020-03-19T09:45:52.1873237+02:00"
                    },
                    {
                      "productId": 3844,
                      "reviewText": "This relationships works very well. It harmonically improves my tennis by a lot.",
                      "reviewDate": "2016-06-25T03:56:25.5587784+03:00"
                    },
                    {
                      "productId": 2342,
                      "reviewText": "This invoice works really well. It sympathetically improves my baseball by a lot.",
                      "reviewDate": "2017-03-25T15:24:21.1041417+02:00"
                    },
                    {
                      "productId": 4965,
                      "reviewText": "My neighbor Lonnie has one of these. She works as a hobbit and she says it looks microscopic.",
                      "reviewDate": "2016-09-12T07:15:52.0321659+03:00"
                    }
                  ],
                  "3": "e87f31ba-15d6-4130-b2f6-7383ef956940"
                },
                {
                  "0": [
                    2746,
                    1356,
                    1552,
                    4029,
                    4089,
                    1103,
                    3948,
                    698,
                    1891,
                    645
                  ],
                  "1": "90212",
                  "2": [
                    {
                      "productId": 1704,
                      "reviewText": "My neighbor Lori has one of these. She works as a taxidermist and she says it looks whopping.",
                      "reviewDate": "2019-07-23T00:55:43.7583307+03:00"
                    },
                    {
                      "productId": 3045,
                      "reviewText": "I saw one of these in Comoros and I bought one.",
                      "reviewDate": "2017-12-22T23:32:30.0916821+02:00"
                    },
                    {
                      "productId": 4943,
                      "reviewText": "It only works when I'm Cook Islands.",
                      "reviewDate": "2019-04-27T04:49:15.5278564+03:00"
                    },
                    {
                      "productId": 3758,
                      "reviewText": "My neighbor Frona has one of these. She works as a gambler and she says it looks bearded.",
                      "reviewDate": "2017-10-11T14:16:34.6391618+03:00"
                    }
                  ],
                  "3": "a5ad02ea-a7e5-4926-bc94-ffce6a2d615a"
                },
                {
                  "0": [
                    2297
                  ],
                  "1": "90177",
                  "2": [
                    {
                      "productId": 4195,
                      "reviewText": "This Business-focused, does exactly what it's suppose to do.",
                      "reviewDate": "2017-11-23T16:08:39.7593302+02:00"
                    },
                    {
                      "productId": 1849,
                      "reviewText": "heard about this on wonky radio, decided to give it a try.",
                      "reviewDate": "2020-02-19T14:31:22.2729006+02:00"
                    },
                    {
                      "productId": 3758,
                      "reviewText": "talk about contempt!",
                      "reviewDate": "2020-04-23T20:20:54.9189304+03:00"
                    },
                    {
                      "productId": 2480,
                      "reviewText": "My co-worker Mohamed has one of these. He says it looks brown.",
                      "reviewDate": "2017-07-07T12:12:16.9571679+03:00"
                    }
                  ],
                  "3": "cac1c796-81e0-4264-a901-fe02bd9bfa0a"
                },
                {
                  "0": [
                    2624,
                    1443,
                    2219,
                    1265,
                    2002,
                    1071
                  ],
                  "1": "90151",
                  "2": [
                    {
                      "productId": 4953,
                      "reviewText": "I saw one of these in Saint Lucia and I bought one.",
                      "reviewDate": "2019-03-24T06:38:58.6057239+02:00"
                    },
                    {
                      "productId": 443,
                      "reviewText": "i use it never when i'm in my hotel.",
                      "reviewDate": "2019-07-12T08:29:24.2788321+03:00"
                    },
                    {
                      "productId": 389,
                      "reviewText": "I saw one of these in New Zealand and I bought one.",
                      "reviewDate": "2017-05-05T16:56:21.7612998+03:00"
                    }
                  ],
                  "3": "74cb76d2-350c-498a-85c7-cdf7ec9ea37c"
                },
                {
                  "0": [
                    2568,
                    2193,
                    2932,
                    3870,
                    2984,
                    970
                  ],
                  "1": "89093",
                  "2": [
                    {
                      "productId": 7,
                      "reviewText": "The box this comes in is 3 yard by 6 light-year and weights 15 gram!!!",
                      "reviewDate": "2019-10-19T08:24:25.1991686+03:00"
                    }
                  ],
                  "3": "228f14ff-84b7-4587-851a-2dce7a30807d"
                },
                {
                  "0": [],
                  "1": "90083",
                  "2": [
                    {
                      "productId": 2086,
                      "reviewText": "heard about this on jump-up radio, decided to give it a try.",
                      "reviewDate": "2018-12-04T00:52:32.5637127+02:00"
                    },
                    {
                      "productId": 2259,
                      "reviewText": "This Mills works outstandingly well. It beautifully improves my basketball by a lot.",
                      "reviewDate": "2019-11-16T09:28:21.4622906+02:00"
                    },
                    {
                      "productId": 2467,
                      "reviewText": "talk about sadness!",
                      "reviewDate": "2018-03-15T12:30:54.0490795+02:00"
                    },
                    {
                      "productId": 486,
                      "reviewText": "I saw one of these in Grenada and I bought one.",
                      "reviewDate": "2016-09-10T03:46:52.3607869+03:00"
                    }
                  ],
                  "3": "c064ed59-1582-48e3-83d2-c712893c98c0"
                },
                {
                  "0": [
                    2931,
                    581,
                    732,
                    1312,
                    4328
                  ],
                  "1": "92119",
                  "2": [
                    {
                      "productId": 2965,
                      "reviewText": "My co-worker Skylar has one of these. He says it looks sweaty.",
                      "reviewDate": "2017-05-25T00:39:41.9876584+03:00"
                    },
                    {
                      "productId": 48,
                      "reviewText": "this Lake is ratty.",
                      "reviewDate": "2017-09-23T14:07:56.2707854+03:00"
                    },
                    {
                      "productId": 1126,
                      "reviewText": "talk about surprise!!!",
                      "reviewDate": "2019-12-18T16:06:25.6191955+02:00"
                    },
                    {
                      "productId": 1509,
                      "reviewText": "I tried to shred it but got watermelon all over it.",
                      "reviewDate": "2020-02-04T23:49:53.0496749+02:00"
                    },
                    {
                      "productId": 2510,
                      "reviewText": "I saw one of these in Nauru and I bought one.",
                      "reviewDate": "2020-04-13T20:41:09.9681806+03:00"
                    }
                  ],
                  "3": "71cbc74c-3670-4429-8ede-c84cc2c0cf3e"
                },
                {
                  "0": [
                    1688,
                    3497,
                    36,
                    4766,
                    1326
                  ],
                  "1": "90003",
                  "2": [
                    {
                      "productId": 3960,
                      "reviewText": "The box this comes in is 4 yard by 5 kilometer and weights 11 pound!",
                      "reviewDate": "2019-12-17T03:10:36.2519994+02:00"
                    },
                    {
                      "productId": 1333,
                      "reviewText": "My raven loves to play with it.",
                      "reviewDate": "2018-12-17T13:40:44.7640394+02:00"
                    }
                  ],
                  "3": "259770e4-864c-40f5-908d-f8472eb24593"
                }
              ],
              "schema": [
                {
                  "key": "0",
                  "name": "preferredProducts",
                  "type": "ArrayType(LongType,true)"
                },
                {
                  "key": "1",
                  "name": "userId",
                  "type": "bigint"
                },
                {
                  "key": "2",
                  "name": "productReviews",
                  "type": "ArrayType(StructType(StructField(productId,LongType,true), StructField(reviewText,StringType,true), StructField(reviewDate,StringType,true)),true)"
                },
                {
                  "key": "3",
                  "name": "cartId",
                  "type": "string"
                }
              ],
              "truncated": false
            },
            "isSummary": false,
            "language": "scala"
          },
          "persist_state": {
            "view": {
              "type": "details",
              "tableOptions": {},
              "chartOptions": {
                "chartType": "bar",
                "aggregationType": "sum",
                "categoryFieldKeys": [
                  "3"
                ],
                "seriesFieldKeys": [
                  "1"
                ],
                "isStacked": false
              }
            }
          }
        },
        "b1653003-f3cf-40ed-b781-e5383d458eef": {
          "type": "Synapse.DataFrame",
          "sync_state": {
            "table": {
              "rows": [
                {
                  "0": "87707",
                  "1": {
                    "productId": 3825,
                    "reviewText": "talk about surprise!!!",
                    "reviewDate": "2019-08-26T04:26:50.9737377+03:00"
                  }
                },
                {
                  "0": "87707",
                  "1": {
                    "productId": 3048,
                    "reviewText": "This Bedfordshire works very well. It romantically improves my football by a lot.",
                    "reviewDate": "2019-01-03T06:38:45.3924182+02:00"
                  }
                },
                {
                  "0": "87707",
                  "1": {
                    "productId": 1890,
                    "reviewText": "talk about surprise!!!",
                    "reviewDate": "2017-11-26T21:38:28.9415137+02:00"
                  }
                },
                {
                  "0": "87707",
                  "1": {
                    "productId": 336,
                    "reviewText": "The box this comes in is 4 mile by 5 yard and weights 18 pound!!",
                    "reviewDate": "2019-12-03T21:52:20.9983327+02:00"
                  }
                },
                {
                  "0": "87484",
                  "1": {
                    "productId": 1558,
                    "reviewText": "This system works considerably well. It mildly improves my basketball by a lot.",
                    "reviewDate": "2019-12-02T14:00:55.8559186+02:00"
                  }
                },
                {
                  "0": "87484",
                  "1": {
                    "productId": 483,
                    "reviewText": "talk about pleasure.",
                    "reviewDate": "2016-09-11T11:23:46.7803712+03:00"
                  }
                },
                {
                  "0": "87484",
                  "1": {
                    "productId": 4864,
                    "reviewText": "My porcupine loves to play with it.",
                    "reviewDate": "2016-05-20T17:36:24.1095695+03:00"
                  }
                },
                {
                  "0": "87253",
                  "1": {
                    "productId": 960,
                    "reviewText": "My macaroni penguin loves to play with it.",
                    "reviewDate": "2017-02-01T20:25:33.4509531+02:00"
                  }
                },
                {
                  "0": "87253",
                  "1": {
                    "productId": 3891,
                    "reviewText": "I tried to kidnap it but got apricot all over it.",
                    "reviewDate": "2018-09-05T21:58:55.273966+03:00"
                  }
                },
                {
                  "0": "87253",
                  "1": {
                    "productId": 1408,
                    "reviewText": "My neighbor Georgie has one of these. She works as a busboy and she says it looks brown.",
                    "reviewDate": "2017-01-07T12:06:10.575971+02:00"
                  }
                }
              ],
              "schema": [
                {
                  "key": "0",
                  "name": "userId",
                  "type": "bigint"
                },
                {
                  "key": "1",
                  "name": "productReviews",
                  "type": "StructType(StructField(productId,LongType,true), StructField(reviewText,StringType,true), StructField(reviewDate,StringType,true))"
                }
              ],
              "truncated": false
            },
            "isSummary": false,
            "language": "scala"
          },
          "persist_state": {
            "view": {
              "type": "details",
              "tableOptions": {},
              "chartOptions": {
                "chartType": "bar",
                "aggregationType": "sum",
                "categoryFieldKeys": [],
                "seriesFieldKeys": [
                  "0"
                ],
                "isStacked": false
              }
            }
          }
        },
        "f1e08e99-89ab-4c36-a8b1-cd3002692820": {
          "type": "Synapse.DataFrame",
          "sync_state": {
            "table": {
              "rows": [
                {
                  "0": "75124",
                  "1": "3104"
                },
                {
                  "0": "75124",
                  "1": "204"
                },
                {
                  "0": "75124",
                  "1": "2225"
                },
                {
                  "0": "75124",
                  "1": "819"
                },
                {
                  "0": "77182",
                  "1": "4685"
                },
                {
                  "0": "77182",
                  "1": "4808"
                },
                {
                  "0": "77182",
                  "1": "4942"
                },
                {
                  "0": "92313",
                  "1": "3403"
                },
                {
                  "0": "92313",
                  "1": "2537"
                },
                {
                  "0": "92313",
                  "1": "769"
                },
                {
                  "0": "92313",
                  "1": "4870"
                },
                {
                  "0": "92313",
                  "1": "195"
                },
                {
                  "0": "92313",
                  "1": "2479"
                },
                {
                  "0": "92313",
                  "1": "796"
                },
                {
                  "0": "92313",
                  "1": "2059"
                },
                {
                  "0": "90212",
                  "1": "2746"
                },
                {
                  "0": "90212",
                  "1": "1356"
                },
                {
                  "0": "90212",
                  "1": "1552"
                },
                {
                  "0": "90212",
                  "1": "4029"
                },
                {
                  "0": "90212",
                  "1": "4089"
                }
              ],
              "schema": [
                {
                  "key": "0",
                  "name": "userId",
                  "type": "bigint"
                },
                {
                  "key": "1",
                  "name": "productId",
                  "type": "bigint"
                }
              ],
              "truncated": false
            },
            "isSummary": false,
            "language": "scala"
          },
          "persist_state": {
            "view": {
              "type": "details",
              "tableOptions": {},
              "chartOptions": {
                "chartType": "bar",
                "aggregationType": "sum",
                "categoryFieldKeys": [
                  "1"
                ],
                "seriesFieldKeys": [
                  "0"
                ],
                "isStacked": false
              }
            }
          }
        },
        "f75ba180-fb88-4abd-9a8a-deb28770eed4": {
          "type": "Synapse.DataFrame",
          "sync_state": {
            "table": {
              "rows": [
                {
                  "0": "1",
                  "1": "2864",
                  "2": "i use it this time when i'm in my port-a-potty."
                },
                {
                  "0": "1",
                  "1": "3286",
                  "2": "I saw one of these in Saint Pierre and Miquelon and I bought one."
                },
                {
                  "0": "1",
                  "1": "4953",
                  "2": "My neighbor Georgine has one of these. She works as a fireman and she says it looks colorful."
                },
                {
                  "0": "1",
                  "1": "3687",
                  "2": "I saw one of these in Nauru and I bought one."
                },
                {
                  "0": "1",
                  "1": "3397",
                  "2": "It only works when I'm Juan de Nova Island."
                },
                {
                  "0": "2",
                  "1": "4151",
                  "2": "My neighbor Georgine has one of these. She works as a fireman and she says it looks colorful."
                },
                {
                  "0": "2",
                  "1": "4450",
                  "2": "My baboon loves to play with it."
                },
                {
                  "0": "2",
                  "1": "1808",
                  "2": "It only works when I'm Samoa."
                },
                {
                  "0": "2",
                  "1": "374",
                  "2": "one of my hobbies is cooking. and when i'm cooking this works great."
                },
                {
                  "0": "2",
                  "1": "2900",
                  "2": "My co-worker Archer has one of these. He says it looks crooked."
                }
              ],
              "schema": [
                {
                  "key": "0",
                  "name": "userId",
                  "type": "bigint"
                },
                {
                  "key": "1",
                  "name": "productId",
                  "type": "bigint"
                },
                {
                  "key": "2",
                  "name": "reviewText",
                  "type": "string"
                }
              ],
              "truncated": false
            },
            "isSummary": false,
            "language": "scala"
          },
          "persist_state": {
            "view": {
              "type": "details",
              "tableOptions": {},
              "chartOptions": {
                "chartType": "bar",
                "aggregationType": "sum",
                "categoryFieldKeys": [
                  "1"
                ],
                "seriesFieldKeys": [
                  "0"
                ],
                "isStacked": false
              }
            }
          }
        },
        "c502ad5c-4608-4e25-acc6-86a91da670f1": {
          "type": "Synapse.DataFrame",
          "sync_state": {
            "table": {
              "rows": [
                {
                  "0": "346",
                  "1": "389",
                  "2": "346",
                  "3": "389",
                  "4": "i use it once a week when i'm in my firetruck."
                },
                {
                  "0": "518",
                  "1": "684",
                  "2": "518",
                  "3": "684",
                  "4": "talk about bliss!!"
                },
                {
                  "0": "549",
                  "1": "1639",
                  "2": "549",
                  "3": "1639",
                  "4": "talk about anticipation!"
                },
                {
                  "0": "922",
                  "1": "1838",
                  "2": "922",
                  "3": "1838",
                  "4": "I saw one of these in Juan de Nova Island and I bought one."
                },
                {
                  "0": "929",
                  "1": "2478",
                  "2": "929",
                  "3": "2478",
                  "4": "The box this comes in is 5 kilometer by 6 yard and weights 18 gram."
                },
                {
                  "0": "1550",
                  "1": "2453",
                  "2": "1550",
                  "3": "2453",
                  "4": "I saw one of these in Tanzania and I bought one."
                },
                {
                  "0": "1557",
                  "1": "4063",
                  "2": "1557",
                  "3": "4063",
                  "4": "It only works when I'm Samoa."
                },
                {
                  "0": "1590",
                  "1": "656",
                  "2": "1590",
                  "3": "656",
                  "4": "I tried to vomit it but got bonbon all over it."
                },
                {
                  "0": "2177",
                  "1": "4163",
                  "2": "2177",
                  "3": "4163",
                  "4": "I tried to pepper it but got prune all over it."
                },
                {
                  "0": "2382",
                  "1": "1954",
                  "2": "2382",
                  "3": "1954",
                  "4": "My raven loves to play with it."
                },
                {
                  "0": "2662",
                  "1": "174",
                  "2": "2662",
                  "3": "174",
                  "4": "talk about contentment!!!"
                },
                {
                  "0": "2863",
                  "1": "4003",
                  "2": "2863",
                  "3": "4003",
                  "4": "talk about contempt!!!"
                },
                {
                  "0": "3496",
                  "1": "2044",
                  "2": "3496",
                  "3": "2044",
                  "4": "The box this comes in is 3 centimeter by 5 kilometer and weights 13 ounce!!"
                },
                {
                  "0": "3616",
                  "1": "3035",
                  "2": "3616",
                  "3": "3035",
                  "4": "The box this comes in is 3 kilometer by 5 foot and weights 16 megaton!!!"
                },
                {
                  "0": "3892",
                  "1": "2297",
                  "2": "3892",
                  "3": "2297",
                  "4": "My Shih-Tzu loves to play with it."
                },
                {
                  "0": "3971",
                  "1": "2624",
                  "2": "3971",
                  "3": "2624",
                  "4": "My goldfinch loves to play with it."
                },
                {
                  "0": "4684",
                  "1": "2739",
                  "2": "4684",
                  "3": "2739",
                  "4": "This deliverables works certainly well. It excitedly improves my football by a lot."
                },
                {
                  "0": "5014",
                  "1": "319",
                  "2": "5014",
                  "3": "319",
                  "4": "this Graphic Interface is vertical."
                },
                {
                  "0": "5316",
                  "1": "2078",
                  "2": "5316",
                  "3": "2078",
                  "4": "The box this comes in is 3 meter by 5 foot and weights 11 kilogram."
                },
                {
                  "0": "5389",
                  "1": "734",
                  "2": "5389",
                  "3": "734",
                  "4": "one of my hobbies is sailing. and when i'm sailing this works great."
                },
                {
                  "0": "6049",
                  "1": "3487",
                  "2": "6049",
                  "3": "3487",
                  "4": "talk about pleasure!"
                },
                {
                  "0": "6235",
                  "1": "403",
                  "2": "6235",
                  "3": "403",
                  "4": "My macaroni penguin loves to play with it."
                },
                {
                  "0": "6435",
                  "1": "2809",
                  "2": "6435",
                  "3": "2809",
                  "4": "heard about this on bouyon radio, decided to give it a try."
                },
                {
                  "0": "6686",
                  "1": "3320",
                  "2": "6686",
                  "3": "3320",
                  "4": "This Timor-Leste works quite well. It romantically improves my golf by a lot."
                },
                {
                  "0": "7520",
                  "1": "3854",
                  "2": "7520",
                  "3": "3854",
                  "4": "I tried to grab it but got bonbon all over it."
                },
                {
                  "0": "7761",
                  "1": "3586",
                  "2": "7761",
                  "3": "3586",
                  "4": "It only works when I'm Niger."
                },
                {
                  "0": "8482",
                  "1": "2640",
                  "2": "8482",
                  "3": "2640",
                  "4": "I saw one of these in Sao Tome and Principe and I bought one."
                },
                {
                  "0": "9117",
                  "1": "3298",
                  "2": "9117",
                  "3": "3298",
                  "4": "i use it daily when i'm in my outhouse."
                },
                {
                  "0": "9505",
                  "1": "321",
                  "2": "9505",
                  "3": "321",
                  "4": "heard about this on Kansas City jazz radio, decided to give it a try."
                },
                {
                  "0": "9935",
                  "1": "4477",
                  "2": "9935",
                  "3": "4477",
                  "4": "My penguin loves to play with it."
                },
                {
                  "0": "9939",
                  "1": "2513",
                  "2": "9939",
                  "3": "2513",
                  "4": "My neighbor Eller has one of these. She works as a butler and she says it looks smoky."
                },
                {
                  "0": "10302",
                  "1": "957",
                  "2": "10302",
                  "3": "957",
                  "4": "heard about this on ndombolo radio, decided to give it a try."
                },
                {
                  "0": "11546",
                  "1": "989",
                  "2": "11546",
                  "3": "989",
                  "4": "My neighbor Germaine has one of these. She works as a salesman and she says it looks red."
                },
                {
                  "0": "11697",
                  "1": "520",
                  "2": "11697",
                  "3": "520",
                  "4": "one of my hobbies is drawing. and when i'm drawing this works great."
                },
                {
                  "0": "11948",
                  "1": "4603",
                  "2": "11948",
                  "3": "4603",
                  "4": "talk about surprise!!!"
                },
                {
                  "0": "12075",
                  "1": "2765",
                  "2": "12075",
                  "3": "2765",
                  "4": "My velociraptor loves to play with it."
                },
                {
                  "0": "12632",
                  "1": "543",
                  "2": "12632",
                  "3": "543",
                  "4": "this models is vertical."
                },
                {
                  "0": "12760",
                  "1": "3681",
                  "2": "12760",
                  "3": "3681",
                  "4": "this generating is awesome."
                },
                {
                  "0": "12869",
                  "1": "210",
                  "2": "12869",
                  "3": "210",
                  "4": "My neighbor Montserrat has one of these. She works as a circus performer and she says it looks shriveled."
                },
                {
                  "0": "13119",
                  "1": "3553",
                  "2": "13119",
                  "3": "3553",
                  "4": "It only works when I'm Martinique."
                },
                {
                  "0": "13634",
                  "1": "2830",
                  "2": "13634",
                  "3": "2830",
                  "4": "It only works when I'm Martinique."
                },
                {
                  "0": "13794",
                  "1": "1964",
                  "2": "13794",
                  "3": "1964",
                  "4": "My co-worker Cato has one of these. He says it looks sopping."
                },
                {
                  "0": "14883",
                  "1": "770",
                  "2": "14883",
                  "3": "770",
                  "4": "I saw this on TV and wanted to give it a try."
                },
                {
                  "0": "14892",
                  "1": "3114",
                  "2": "14892",
                  "3": "3114",
                  "4": "I saw one of these in Canada and I bought one."
                },
                {
                  "0": "16338",
                  "1": "1627",
                  "2": "16338",
                  "3": "1627",
                  "4": "heard about this on bouyon radio, decided to give it a try."
                },
                {
                  "0": "16715",
                  "1": "3060",
                  "2": "16715",
                  "3": "3060",
                  "4": "This Handmade Soft Towels works too well. It nonchalantly improves my baseball by a lot."
                },
                {
                  "0": "17080",
                  "1": "4607",
                  "2": "17080",
                  "3": "4607",
                  "4": "I tried to strangle it but got hazelnut all over it."
                },
                {
                  "0": "18314",
                  "1": "54",
                  "2": "18314",
                  "3": "54",
                  "4": "talk about surprise!!!"
                },
                {
                  "0": "18355",
                  "1": "2828",
                  "2": "18355",
                  "3": "2828",
                  "4": "this Dominican Republic is nifty."
                },
                {
                  "0": "18882",
                  "1": "1229",
                  "2": "18882",
                  "3": "1229",
                  "4": "This SDD works really well. It wildly improves my baseball by a lot."
                },
                {
                  "0": "19202",
                  "1": "118",
                  "2": "19202",
                  "3": "118",
                  "4": "one of my hobbies is web-browsing. and when i'm browsing the web this works great."
                },
                {
                  "0": "19221",
                  "1": "4500",
                  "2": "19221",
                  "3": "4500",
                  "4": "My ant loves to play with it."
                },
                {
                  "0": "19442",
                  "1": "4155",
                  "2": "19442",
                  "3": "4155",
                  "4": "It only works when I'm Niue."
                },
                {
                  "0": "19645",
                  "1": "4427",
                  "2": "19645",
                  "3": "4427",
                  "4": "i use it never when i'm in my hotel."
                },
                {
                  "0": "20269",
                  "1": "498",
                  "2": "20269",
                  "3": "498",
                  "4": "I saw one of these in New Zealand and I bought one."
                },
                {
                  "0": "20302",
                  "1": "4627",
                  "2": "20302",
                  "3": "4627",
                  "4": "i use it this time when i'm in my port-a-potty."
                },
                {
                  "0": "20647",
                  "1": "4020",
                  "2": "20647",
                  "3": "4020",
                  "4": "This Investment Account works excessively well. It mortally improves my golf by a lot."
                },
                {
                  "0": "20681",
                  "1": "4622",
                  "2": "20681",
                  "3": "4622",
                  "4": "My dog loves to play with it."
                },
                {
                  "0": "20764",
                  "1": "1536",
                  "2": "20764",
                  "3": "1536",
                  "4": "It only works when I'm New Caledonia."
                },
                {
                  "0": "20875",
                  "1": "2420",
                  "2": "20875",
                  "3": "2420",
                  "4": "I tried to manhandle it but got bun all over it."
                },
                {
                  "0": "20950",
                  "1": "3595",
                  "2": "20950",
                  "3": "3595",
                  "4": "this override is mellow."
                },
                {
                  "0": "21066",
                  "1": "3590",
                  "2": "21066",
                  "3": "3590",
                  "4": "My beagle loves to play with it."
                },
                {
                  "0": "21294",
                  "1": "2075",
                  "2": "21294",
                  "3": "2075",
                  "4": "My co-worker Bryton has one of these. He says it looks ragged."
                },
                {
                  "0": "21822",
                  "1": "2665",
                  "2": "21822",
                  "3": "2665",
                  "4": "It only works when I'm Chad."
                },
                {
                  "0": "21883",
                  "1": "486",
                  "2": "21883",
                  "3": "486",
                  "4": "i use it daily when i'm in my courthouse."
                },
                {
                  "0": "21933",
                  "1": "2613",
                  "2": "21933",
                  "3": "2613",
                  "4": "I saw one of these in Vanuatu and I bought one."
                },
                {
                  "0": "22196",
                  "1": "4677",
                  "2": "22196",
                  "3": "4677",
                  "4": "i use it barely when i'm in my store."
                },
                {
                  "0": "22496",
                  "1": "3441",
                  "2": "22496",
                  "3": "3441",
                  "4": "one of my hobbies is poetry. and when i'm writing poems this works great."
                },
                {
                  "0": "22598",
                  "1": "3439",
                  "2": "22598",
                  "3": "3439",
                  "4": "this reboot is slurpee."
                },
                {
                  "0": "22630",
                  "1": "4680",
                  "2": "22630",
                  "3": "4680",
                  "4": "I tried to shred it but got watermelon all over it."
                },
                {
                  "0": "22776",
                  "1": "3890",
                  "2": "22776",
                  "3": "3890",
                  "4": "My chicken loves to play with it."
                },
                {
                  "0": "22915",
                  "1": "493",
                  "2": "22915",
                  "3": "493",
                  "4": "My neighbor Aldona has one of these. She works as a butler and she says it looks humongous."
                },
                {
                  "0": "23408",
                  "1": "2793",
                  "2": "23408",
                  "3": "2793",
                  "4": "It only works when I'm Kuwait."
                },
                {
                  "0": "23642",
                  "1": "1027",
                  "2": "23642",
                  "3": "1027",
                  "4": "It only works when I'm Finland."
                },
                {
                  "0": "23655",
                  "1": "2853",
                  "2": "23655",
                  "3": "2853",
                  "4": "this Roads is honest."
                },
                {
                  "0": "23756",
                  "1": "2183",
                  "2": "23756",
                  "3": "2183",
                  "4": "heard about this on timba radio, decided to give it a try."
                },
                {
                  "0": "24063",
                  "1": "3241",
                  "2": "24063",
                  "3": "3241",
                  "4": "talk about sadness!!"
                },
                {
                  "0": "24607",
                  "1": "1851",
                  "2": "24607",
                  "3": "1851",
                  "4": "My co-worker Bryton has one of these. He says it looks ragged."
                },
                {
                  "0": "24725",
                  "1": "3342",
                  "2": "24725",
                  "3": "3342",
                  "4": "i use it once a week when i'm in my firetruck."
                },
                {
                  "0": "24773",
                  "1": "2048",
                  "2": "24773",
                  "3": "2048",
                  "4": "one of my hobbies is piano. and when i'm playing piano this works great."
                },
                {
                  "0": "25821",
                  "1": "4351",
                  "2": "25821",
                  "3": "4351",
                  "4": "talk about lust!!"
                },
                {
                  "0": "26099",
                  "1": "427",
                  "2": "26099",
                  "3": "427",
                  "4": "My neighbor Albertina has one of these. She works as a gardener and she says it looks humongous."
                },
                {
                  "0": "26447",
                  "1": "3048",
                  "2": "26447",
                  "3": "3048",
                  "4": "The box this comes in is 3 yard by 6 light-year and weights 11 megaton!!"
                },
                {
                  "0": "46560",
                  "1": "3922",
                  "2": "46560",
                  "3": "3922",
                  "4": "My neighbor Isabela has one of these. She works as a taxidermist and she says it looks monochromatic."
                },
                {
                  "0": "46607",
                  "1": "1981",
                  "2": "46607",
                  "3": "1981",
                  "4": "I tried to attack it but got meatball all over it."
                },
                {
                  "0": "46766",
                  "1": "1921",
                  "2": "46766",
                  "3": "1921",
                  "4": "The box this comes in is 5 inch by 6 mile and weights 15 ton!!"
                },
                {
                  "0": "48484",
                  "1": "2348",
                  "2": "48484",
                  "3": "2348",
                  "4": "This strategic works so well. It delightedly improves my football by a lot."
                },
                {
                  "0": "48949",
                  "1": "4377",
                  "2": "48949",
                  "3": "4377",
                  "4": "I saw one of these in Libya and I bought one."
                },
                {
                  "0": "49013",
                  "1": "718",
                  "2": "49013",
                  "3": "718",
                  "4": "My neighbor Forest has one of these. She works as a gardener and she says it looks nude."
                },
                {
                  "0": "49113",
                  "1": "2364",
                  "2": "49113",
                  "3": "2364",
                  "4": "My macaroni penguin loves to play with it."
                },
                {
                  "0": "49354",
                  "1": "689",
                  "2": "49354",
                  "3": "689",
                  "4": "this fuchsia is dominant."
                },
                {
                  "0": "49729",
                  "1": "4641",
                  "2": "49729",
                  "3": "4641",
                  "4": "talk about anticipation!"
                },
                {
                  "0": "49952",
                  "1": "532",
                  "2": "49952",
                  "3": "532",
                  "4": "My beagle loves to play with it."
                },
                {
                  "0": "49973",
                  "1": "2682",
                  "2": "49973",
                  "3": "2682",
                  "4": "I tried to pepper it but got prune all over it."
                },
                {
                  "0": "26687",
                  "1": "375",
                  "2": "26687",
                  "3": "375",
                  "4": "this Auto Loan Account is revolting."
                },
                {
                  "0": "52146",
                  "1": "2523",
                  "2": "52146",
                  "3": "2523",
                  "4": "this Integration is complimentary."
                },
                {
                  "0": "52216",
                  "1": "4165",
                  "2": "52216",
                  "3": "4165",
                  "4": "My neighbor Georgie has one of these. She works as a busboy and she says it looks brown."
                },
                {
                  "0": "53408",
                  "1": "3556",
                  "2": "53408",
                  "3": "3556",
                  "4": "My neighbor Montserrat has one of these. She works as a circus performer and she says it looks shriveled."
                },
                {
                  "0": "27575",
                  "1": "2822",
                  "2": "27575",
                  "3": "2822",
                  "4": "heard about this on instrumental country radio, decided to give it a try."
                },
                {
                  "0": "27603",
                  "1": "2274",
                  "2": "27603",
                  "3": "2274",
                  "4": "It only works when I'm Juan de Nova Island."
                }
              ],
              "schema": [
                {
                  "key": "0",
                  "name": "userId",
                  "type": "bigint"
                },
                {
                  "key": "1",
                  "name": "productId",
                  "type": "bigint"
                },
                {
                  "key": "2",
                  "name": "userId",
                  "type": "bigint"
                },
                {
                  "key": "3",
                  "name": "productId",
                  "type": "bigint"
                },
                {
                  "key": "4",
                  "name": "reviewText",
                  "type": "string"
                }
              ],
              "truncated": false
            },
            "isSummary": false,
            "language": "scala"
          },
          "persist_state": {
            "view": {
              "type": "details",
              "tableOptions": {},
              "chartOptions": {
                "chartType": "bar",
                "aggregationType": "sum",
                "categoryFieldKeys": [
                  "1"
                ],
                "seriesFieldKeys": [
                  "0"
                ],
                "isStacked": false
              }
            }
          }
        }
      }
    }
  },
  "nbformat": 4,
  "nbformat_minor": 2
}