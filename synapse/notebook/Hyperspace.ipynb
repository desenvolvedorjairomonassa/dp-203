{
  "nbformat": 4,
  "nbformat_minor": 2,
  "cells": [
    {
      "cell_type": "code",
      "execution_count": 1,
      "outputs": [
        {
          "output_type": "display_data",
          "data": {
            "application/vnd.livy.statement-meta+json": {
              "spark_pool": "sparkpool2",
              "session_id": "0",
              "statement_id": 2,
              "state": "finished",
              "livy_statement_state": "available",
              "queued_time": "2022-09-27T17:31:45.7887419Z",
              "session_start_time": "2022-09-27T17:31:45.8205863Z",
              "execution_start_time": "2022-09-27T17:35:16.9162322Z",
              "execution_finish_time": "2022-09-27T17:35:17.092156Z",
              "spark_jobs": null
            },
            "text/plain": "StatementMeta(sparkpool2, 0, 2, Finished, Available)"
          },
          "metadata": {}
        }
      ],
      "metadata": {},
      "source": [
        "\r\n",
        "# Disable BroadcastHashJoin, so Spark will use standard SortMergeJoin. Currently, Hyperspace indexes utilize SortMergeJoin to speed up query.\r\n",
        "spark.conf.set(\"spark.sql.autoBroadcastJoinThreshold\", -1)\r\n",
        "\r\n",
        "# Replace the value below with the name of your primary ADLS Gen2 account for your Synapse workspace\r\n",
        "datalake = 'asadatalake1xtr2e3'\r\n",
        "\r\n",
        "\r\n",
        ""
      ]
    },
    {
      "cell_type": "code",
      "execution_count": 2,
      "outputs": [
        {
          "output_type": "display_data",
          "data": {
            "application/vnd.livy.statement-meta+json": {
              "spark_pool": "sparkpool2",
              "session_id": "0",
              "statement_id": 3,
              "state": "finished",
              "livy_statement_state": "available",
              "queued_time": "2022-09-27T17:41:43.5638832Z",
              "session_start_time": null,
              "execution_start_time": "2022-09-27T17:41:43.7102707Z",
              "execution_finish_time": "2022-09-27T17:42:05.4094808Z",
              "spark_jobs": null
            },
            "text/plain": "StatementMeta(sparkpool2, 0, 3, Finished, Available)"
          },
          "metadata": {}
        }
      ],
      "metadata": {
        "jupyter": {
          "source_hidden": false,
          "outputs_hidden": false
        },
        "nteract": {
          "transient": {
            "deleting": false
          }
        }
      },
      "source": [
        "dfSales = spark.read.parquet(\"abfss://wwi-02@\" + datalake + \".dfs.core.windows.net/sale-small/Year=2019/Quarter=Q4/Month=12/*/*.parquet\")"
      ]
    },
    {
      "cell_type": "code",
      "execution_count": 3,
      "outputs": [
        {
          "output_type": "display_data",
          "data": {
            "application/vnd.livy.statement-meta+json": {
              "spark_pool": "sparkpool2",
              "session_id": "0",
              "statement_id": 4,
              "state": "finished",
              "livy_statement_state": "available",
              "queued_time": "2022-09-27T17:43:34.0322932Z",
              "session_start_time": null,
              "execution_start_time": "2022-09-27T17:43:34.1582709Z",
              "execution_finish_time": "2022-09-27T17:44:01.5922368Z",
              "spark_jobs": null
            },
            "text/plain": "StatementMeta(sparkpool2, 0, 4, Finished, Available)"
          },
          "metadata": {}
        },
        {
          "output_type": "stream",
          "name": "stdout",
          "text": "+--------------------+----------+---------+--------+--------------------+--------------------+---------------+--------------------+----+------+-------+\n|       TransactionId|CustomerId|ProductId|Quantity|               Price|         TotalAmount|TransactionDate|        ProfitAmount|Hour|Minute|StoreId|\n+--------------------+----------+---------+--------+--------------------+--------------------+---------------+--------------------+----+------+-------+\n|6efc5ea6-36f6-4c4...|         1|     2857|       4|20.08000000000000...|80.32000000000000...|       20191230|24.00000000000000...|  19|    38|   7405|\n|6efc5ea6-36f6-4c4...|         1|     1488|       1|26.84000000000000...|26.84000000000000...|       20191230|6.610000000000000000|  19|    38|   7405|\n|6efc5ea6-36f6-4c4...|         1|     4021|       3|31.12000000000000...|93.36000000000000...|       20191230|28.11000000000000...|  19|    38|   7405|\n|6efc5ea6-36f6-4c4...|         1|      728|       1|28.39000000000000...|28.39000000000000...|       20191230|9.740000000000000000|  19|    38|   7405|\n|6efc5ea6-36f6-4c4...|         1|     3107|       1|26.01000000000000...|26.01000000000000...|       20191230|7.770000000000000000|  19|    38|   7405|\n|6efc5ea6-36f6-4c4...|         1|     2646|       2|25.96000000000000...|51.92000000000000...|       20191230|13.94000000000000...|  19|    38|   7405|\n|6efc5ea6-36f6-4c4...|         1|     2005|       2|32.46000000000000...|64.92000000000000...|       20191230|17.60000000000000...|  19|    38|   7405|\n|6efc5ea6-36f6-4c4...|         1|     2848|       4|20.20000000000000...|80.80000000000000...|       20191230|28.60000000000000...|  19|    38|   7405|\n|6efc5ea6-36f6-4c4...|         1|      248|       2|25.49000000000000...|50.98000000000000...|       20191230|13.34000000000000...|  19|    38|   7405|\n|6efc5ea6-36f6-4c4...|         1|      141|       4|22.13000000000000...|88.52000000000000...|       20191230|24.48000000000000...|  19|    38|   7405|\n+--------------------+----------+---------+--------+--------------------+--------------------+---------------+--------------------+----+------+-------+\nonly showing top 10 rows\n\n+----------+---------+-------------+---------+-------------------+------+---+----------+------------------+-----------------+----------------+--------------------+------------+--------------------+\n|CustomerId|FirstName|MiddleInitial| LastName|           FullName|Gender|Age| BirthDate|Address_PostalCode|   Address_Street|    Address_City|     Address_Country|      Mobile|               Email|\n+----------+---------+-------------+---------+-------------------+------+---+----------+------------------+-----------------+----------------+--------------------+------------+--------------------+\n|         1|   Conrad|            N|   Zemlak|   Conrad N. Zemlak|  Male| 57|23/03/1963|             16219|       Dario View|        Dockside|            Suriname|0925-586-826|Conrad_Zemlak_85@...|\n|         2|   Darren|            H|  Rolfson|  Darren H. Rolfson|  Male| 61|25/05/1959|             43387|    Kathleen Oval|  Lake Rileytown|            Tanzania|0372-253-946|Darren_Rolfson_20...|\n|         3|    Annie|            J|   Pouros|    Annie J. Pouros|Female| 51|23/04/1969|             92666|      Maegan Hill|Lake Eltachester|Virgin Islands Br...|0834-564-182|Annie_Pouros_48@y...|\n|         4|  Forrest|         null|   O\\'Kon|     Forrest O\\'Kon|  Male| 54|31/01/1966|             29524|     Harry Spring|New Gregoriaport|         Netherlands|0761-327-187|Forrest_O\\'Kon_83...|\n|         5|    Leroy|         null|    Lemke|        Leroy Lemke|  Male| 59|01/03/1961|             36967|       Layla Ford|East Davontebury|Svalbard & Jan Ma...|0264-161-776|Leroy_Lemke_29@ou...|\n|         6|      Luz|            R|    Borer|       Luz R. Borer|Female| 53|28/04/1967|             51050|Marjorie Overpass|     Carleeshire|        Burkina Faso|0642-895-538|Luz_Borer_77@outl...|\n|         7|      Ira|            M|  Koelpin|     Ira M. Koelpin|  Male| 52|22/04/1968|             69710|   Kendall Street|        New Lola|            Suriname|0114-516-150|Ira_Koelpin_60@gm...|\n|         8|Salvatore|         null|  Schaden|  Salvatore Schaden|  Male| 54|30/12/1965|             45947|      Juwan Crest|   Thompsonhaven|       Liechtenstein|0782-905-529|Salvatore_Schaden...|\n|         9|    Robyn|            K|     Batz|      Robyn K. Batz|Female| 59|17/08/1960|             67220|     Derrick Flat|  Lake Joeymouth|             Denmark|0729-374-410|Robyn_Batz_10@gma...|\n|        10|   Brandi|            D|Kertzmann|Brandi D. Kertzmann|Female| 43|02/12/1976|             44704|    Madisen Track|East Myriamhaven|             Moldova|0739-782-555|Brandi_Kertzmann_...|\n+----------+---------+-------------+---------+-------------------+------+---+----------+------------------+-----------------+----------------+--------------------+------------+--------------------+\nonly showing top 10 rows\n\n"
        }
      ],
      "metadata": {
        "jupyter": {
          "source_hidden": false,
          "outputs_hidden": false
        },
        "nteract": {
          "transient": {
            "deleting": false
          }
        }
      },
      "source": [
        "from hyperspace import *  \r\n",
        "from com.microsoft.hyperspace import *\r\n",
        "from com.microsoft.hyperspace.index import *\r\n",
        "\r\n",
        "dfSales.show(10)\r\n",
        "\r\n",
        "dfCustomers = spark.read.load(\"abfss://wwi-02@\" + datalake + \".dfs.core.windows.net/data-generators/generator-customer-clean.csv\", format=\"csv\", header=True)\r\n",
        "dfCustomers.show(10)\r\n",
        "\r\n",
        "# Create an instance of Hyperspace\r\n",
        "hyperspace = Hyperspace(spark)"
      ]
    }
  ],
  "metadata": {
    "description": null,
    "save_output": true,
    "kernelspec": {
      "name": "synapse_pyspark",
      "display_name": "Synapse PySpark"
    },
    "language_info": {
      "name": "python"
    },
    "synapse_widget": {
      "version": "0.1",
      "state": {}
    }
  }
}